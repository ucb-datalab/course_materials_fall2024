{
 "cells": [
  {
   "cell_type": "markdown",
   "id": "84024e82-ff79-4159-9ad3-c3ae6bff3403",
   "metadata": {},
   "source": [
    "## Agenda\n",
    " \n",
    "* __Lab 1 checkpoint 1 due tonight at midnight__\n",
    "* Lab 0 grading \n",
    "* Bayes (*02_Bayes*)\n",
    "* Fitting (*01_fitting_tutorial*)\n",
    "* Work time (e.g., Lab 1 checkpoint 1)\n",
    " \n",
    "\n",
    "## Getting these notebooks \n",
    "```bash\n",
    "git clone https://github.com/ucb-datalab/course_materials_fall2024.git\n",
    "cd course_materials_fall2024\n",
    "jupyter notebook\n",
    "```"
   ]
  },
  {
   "cell_type": "code",
   "execution_count": null,
   "id": "c44ff3ea-1faa-4f49-aa05-96d9a07bc3f5",
   "metadata": {},
   "outputs": [],
   "source": []
  }
 ],
 "metadata": {
  "kernelspec": {
   "display_name": "astrods",
   "language": "python",
   "name": "astrods"
  },
  "language_info": {
   "codemirror_mode": {
    "name": "ipython",
    "version": 3
   },
   "file_extension": ".py",
   "mimetype": "text/x-python",
   "name": "python",
   "nbconvert_exporter": "python",
   "pygments_lexer": "ipython3",
   "version": "3.11.9"
  }
 },
 "nbformat": 4,
 "nbformat_minor": 5
}

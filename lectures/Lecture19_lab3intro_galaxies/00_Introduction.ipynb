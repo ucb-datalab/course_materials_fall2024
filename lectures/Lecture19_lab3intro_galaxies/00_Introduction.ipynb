{
 "cells": [
  {
   "cell_type": "markdown",
   "metadata": {},
   "source": [
    "# Meeting/Lecture 19 - Nov 6\n",
    "\n",
    "## Office Hours\n",
    "   - Josh (Mon 12-1, 355 Campbell), Aaron  (Fri 12-1pm, 425 Campbell)\n",
    "   - Peter (Tue 1-2pm; 355), \n",
    "   - Saahit: Wed 5-6pm (355) and Thu 4-5pm (233)\n",
    "   - by appt\n",
    "   - Communications on Ed Discussion\n",
    "\n",
    "## Agenda\n",
    "\n",
    "* Introduction (this notebook, *00_Introduction*)\n",
    "    - reminder to fill out the feedback form!\n",
    "* Introduction to Lab 3\n",
    "* Intro to Galaxies\n",
    "* Question time\n",
    "\n",
    "## Lab 3\n",
    "  * Assigned: Wednesday, Nov 6, 2024\n",
    "  * Checkpoints: \n",
    "      - Wednesday, Nov 13, 2024; \n",
    "      - Monday, Nov 25, 2024; \n",
    "      - Tuesday, Dec 3, 2024\n",
    "  * Final Write Up Due: Friday, Dec 6, 2024\n",
    "\n",
    "[Link to the Lab](https://github.com/ucb-datalab/course_materials_fall2024/blob/main/labs/AY128_256_Lab3_image_classification_fall2024.pdf)\n",
    "\n",
    "## Getting these notebooks \n",
    "```bash\n",
    "git clone https://github.com/ucb-datalab/course_materials_fall2024.git\n",
    "cd course_materials_fall2024\n",
    "jupyter notebook\n",
    "```"
   ]
  },
  {
   "cell_type": "code",
   "execution_count": null,
   "metadata": {},
   "outputs": [],
   "source": []
  }
 ],
 "metadata": {
  "kernelspec": {
   "display_name": "Python 3 (ipykernel)",
   "language": "python",
   "name": "python3"
  },
  "language_info": {
   "codemirror_mode": {
    "name": "ipython",
    "version": 3
   },
   "file_extension": ".py",
   "mimetype": "text/x-python",
   "name": "python",
   "nbconvert_exporter": "python",
   "pygments_lexer": "ipython3",
   "version": "3.11.9"
  }
 },
 "nbformat": 4,
 "nbformat_minor": 4
}

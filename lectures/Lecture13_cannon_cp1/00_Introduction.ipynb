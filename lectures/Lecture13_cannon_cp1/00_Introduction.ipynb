{
 "cells": [
  {
   "cell_type": "markdown",
   "metadata": {},
   "source": [
    "# Meeting/Lecture 17 - March 14\n",
    "\n",
    "## Office Hours\n",
    "* Josh (Mon 12-1, 355 Campbell), Aaron canceled  (*not* Fri 12-1pm, 425 Campbell)\n",
    "* Peter (Tue 1-2pm; 355), \n",
    "* Saahit: Wed 5-6pm (355) and Thu 4-5pm (233)\n",
    "* by appt\n",
    "* Communications on Ed Discussion\n",
    "\n",
    "## Agenda\n",
    "\n",
    "* Introduction (this notebook, *00_Introduction*)\n",
    "* Wavelength interpolation issue\n",
    "* Work/question time\n",
    "* Group discussion + report out\n",
    "* Finish walking through Ness et al. (*01_The_Cannon*)\n",
    "\n",
    "## Lab 2\n",
    "* Checkpoint 1 is now due __tonight__ by 11:59pm\n",
    "* Checkpoint 2 due next Weds (10/23)\n",
    "* Checkpoint 3 due Weds (10/30)\n",
    "* Lab report due Friday 11/1\n",
    " \n",
    "\n",
    "## Getting these notebooks \n",
    "```bash\n",
    "git clone https://github.com/ucb-datalab/course_materials_fall2024.git\n",
    "cd course_materials_fall2024\n",
    "jupyter notebook\n",
    "```"
   ]
  },
  {
   "cell_type": "markdown",
   "metadata": {},
   "source": [
    "## Wavelength interpolation issue\n",
    "* Essence of the issue: wavelength grid generated from .FITS files and continuum pixels are on slightly different wavelength scales\n",
    "* Correct way to resolve: interpolate spectrum from FITS files onto provided wavelength grid\n",
    " - yields improved continnum normalization\n",
    "* It turns out that if you don't do this,  you can still do pretty well\n",
    " - fits should look OK and scatter/bias/etc are still acceptably small\n"
   ]
  },
  {
   "cell_type": "code",
   "execution_count": null,
   "metadata": {},
   "outputs": [],
   "source": [
    "import numpy as np\n",
    "import pylab as plt\n",
    "from astropy.io import fits\n",
    "\n",
    "# load continuum pixels\n",
    "continuum = np.load('../../labs/lab2_data/cannon_continuum_apogee.npz')\n",
    "# load apogee wavelength grid\n",
    "apogee_wl = np.load('../../labs/lab2_data/apogee_wavelength.npz')\n",
    "\n",
    "# load example spectrum\n",
    "hdr = fits.getheader('../../labs/lab2_data/mystery_spec_wiped.fits')\n",
    "spec = fits.getdata('../../labs/lab2_data/mystery_spec_wiped.fits')\n",
    "\n",
    "# build wavelength grid from spectrum file\n",
    "wl = 10**np.arange(hdr['crval1'], hdr['crval1']+len(spec)*hdr['cdelt1'], hdr['cdelt1'])\n",
    "\n",
    "# interpolate specturm onto new grid\n",
    "new_spec = np.interp(apogee_wl['wavelength'], wl, spec)"
   ]
  },
  {
   "cell_type": "code",
   "execution_count": null,
   "metadata": {},
   "outputs": [],
   "source": [
    "len(spec)"
   ]
  },
  {
   "cell_type": "code",
   "execution_count": null,
   "metadata": {},
   "outputs": [],
   "source": [
    "plt.figure(figsize=(12,10))\n",
    "plt.plot(wl, spec)\n",
    "plt.plot(apogee_wl['wavelength'], new_spec, lw=0.5\n",
    "        )\n",
    "plt.scatter(continuum['wavelengths'][continuum['trusted']], new_spec[continuum['trusted']], c='r' )\n",
    "plt.xlabel('Wavelength ($\\AA$)')\n",
    "plt.ylabel('Flux (Arbitrary units)')"
   ]
  },
  {
   "cell_type": "code",
   "execution_count": null,
   "metadata": {},
   "outputs": [],
   "source": [
    "plt.figure(figsize=(12,10))\n",
    "plt.plot(wl, spec)\n",
    "plt.plot(apogee_wl['wavelength'], new_spec, lw=1\n",
    "        )\n",
    "plt.scatter(continuum['wavelengths'][continuum['trusted']], new_spec[continuum['trusted']], c='r' )\n",
    "plt.xlim(15500, 15550)\n",
    "plt.xlabel('Wavelength ($\\AA$)')\n",
    "plt.ylabel('Flux (Arbitrary units)')"
   ]
  },
  {
   "cell_type": "markdown",
   "metadata": {},
   "source": [
    "## Checkpoint 1 discussion topics\n",
    "* How easy/challenging was it to access the data? How did it compare to using ADQL?\n",
    "* Do you understand the physical meanings of T$_{\\rm eff}$, log(g), and [Fe/H]?\n",
    "* Do you have any better understanding of bitmasks?\n",
    "* Does your normalized continnuum look reasonable to you?\n",
    "* Do you have questions on linear models and/or optimization yet?"
   ]
  }
 ],
 "metadata": {
  "kernelspec": {
   "display_name": "astrods",
   "language": "python",
   "name": "astrods"
  },
  "language_info": {
   "codemirror_mode": {
    "name": "ipython",
    "version": 3
   },
   "file_extension": ".py",
   "mimetype": "text/x-python",
   "name": "python",
   "nbconvert_exporter": "python",
   "pygments_lexer": "ipython3",
   "version": "3.11.9"
  }
 },
 "nbformat": 4,
 "nbformat_minor": 4
}

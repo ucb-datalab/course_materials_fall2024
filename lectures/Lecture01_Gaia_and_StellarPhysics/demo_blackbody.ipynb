{
 "cells": [
  {
   "cell_type": "markdown",
   "id": "7e9fd0e2",
   "metadata": {
    "slideshow": {
     "slide_type": "subslide"
    }
   },
   "source": [
    "# Interactive Blackbody Animation\n",
    "\n",
    "This notebook uses widgets to illustrate blackbody temperature.\n",
    "\n",
    "\\begin{equation}\n",
    "B_\\nu(T) = \\frac{2h\\nu^2}{c^3}\\frac{1}{e^\\frac{h\\nu}{k_BT} - 1}\n",
    "\\end{equation}\n",
    "\n",
    "\\begin{equation}\n",
    "B_\\lambda(T) = \\frac{2hc^2}{\\lambda^5}\\frac{1}{e^\\frac{hc}{\\lambda k_BT} - 1}\n",
    "\\end{equation}"
   ]
  },
  {
   "cell_type": "code",
   "execution_count": 1,
   "id": "7b216247",
   "metadata": {
    "execution": {
     "iopub.execute_input": "2024-09-04T16:54:56.385963Z",
     "iopub.status.busy": "2024-09-04T16:54:56.384324Z",
     "iopub.status.idle": "2024-09-04T16:54:56.808047Z",
     "shell.execute_reply": "2024-09-04T16:54:56.807487Z",
     "shell.execute_reply.started": "2024-09-04T16:54:56.385914Z"
    }
   },
   "outputs": [],
   "source": [
    "import numpy as np\n",
    "%matplotlib widget\n",
    "import matplotlib.pyplot as plt\n",
    "from matplotlib.animation import FuncAnimation\n",
    "from ipywidgets import interact, FloatSlider, Layout\n",
    "import warnings\n",
    "warnings.filterwarnings('ignore')"
   ]
  },
  {
   "cell_type": "code",
   "execution_count": 2,
   "id": "86875ce6",
   "metadata": {
    "execution": {
     "iopub.execute_input": "2024-09-04T16:54:56.809032Z",
     "iopub.status.busy": "2024-09-04T16:54:56.808791Z",
     "iopub.status.idle": "2024-09-04T16:54:56.813091Z",
     "shell.execute_reply": "2024-09-04T16:54:56.812513Z",
     "shell.execute_reply.started": "2024-09-04T16:54:56.809013Z"
    }
   },
   "outputs": [],
   "source": [
    "# High-level parameters\n",
    "SIZE = 2048     # number of points in each line\n",
    "T0 = 3.     # log10 K, temperature of blackbody\n",
    "NU_MIN = 1\n",
    "NU_MAX = 12\n",
    "LAM_MIN = -2\n",
    "LAM_MAX =  5\n",
    "NSTEPS = 10\n",
    "\n",
    "# Constants\n",
    "h = 6e-23\n",
    "c = 3e10\n",
    "k_B = 1.3e-16\n",
    "\n",
    "# Variables derived from parameters above\n",
    "nus = np.logspace(NU_MIN, NU_MAX, SIZE)\n",
    "lam = np.logspace(LAM_MIN, LAM_MAX, SIZE)"
   ]
  },
  {
   "cell_type": "code",
   "execution_count": 5,
   "id": "1e2ece55",
   "metadata": {
    "execution": {
     "iopub.execute_input": "2024-09-04T16:56:01.824441Z",
     "iopub.status.busy": "2024-09-04T16:56:01.824165Z",
     "iopub.status.idle": "2024-09-04T16:56:01.945047Z",
     "shell.execute_reply": "2024-09-04T16:56:01.944350Z",
     "shell.execute_reply.started": "2024-09-04T16:56:01.824412Z"
    }
   },
   "outputs": [
    {
     "data": {
      "application/vnd.jupyter.widget-view+json": {
       "model_id": "3cd9055b4acd4f71ac6c44eeee752c1d",
       "version_major": 2,
       "version_minor": 0
      },
      "text/plain": [
       "interactive(children=(FloatSlider(value=3.0, description='Log10 Temperature [K]', layout=Layout(grid_area='foo…"
      ]
     },
     "metadata": {},
     "output_type": "display_data"
    },
    {
     "data": {
      "application/vnd.jupyter.widget-view+json": {
       "model_id": "ca960b94dd794725a3a7e39e8f9f494a",
       "version_major": 2,
       "version_minor": 0
      },
      "image/png": "[encoded data removed]",
      "text/html": [
       "\n",
       "            <div style=\"display: inline-block;\">\n",
       "                <div class=\"jupyter-widgets widget-label\" style=\"text-align: center;\">\n",
       "                    Figure\n",
       "                </div>\n",
       "                <img src='data:image/png;base64,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' width=1000.0/>\n",
       "            </div>\n",
       "        "
      ],
      "text/plain": [
       "Canvas(toolbar=Toolbar(toolitems=[('Home', 'Reset original view', 'home', 'home'), ('Back', 'Back to previous …"
      ]
     },
     "metadata": {},
     "output_type": "display_data"
    }
   ],
   "source": [
    "# Generate the animation figure\n",
    "\n",
    "fig, ax = plt.subplots(ncols=2, figsize=(10,4))\n",
    "bb_n, = ax[0].plot(nus, np.ones_like(nus), 'k') # holds handle for incoming radiation\n",
    "bb_l, = ax[1].plot(lam, np.ones_like(lam), 'k') # holds handle for incoming radiation\n",
    "\n",
    "# Sliders controlling animation\n",
    "T_widget = FloatSlider(3, min=1, max=5, step=.1,\n",
    "                           description='Log10 Temperature [K]',\n",
    "                           style={'description_width':'initial'},\n",
    "                           layout=Layout(width='auto', grid_area='footer'))\n",
    "\n",
    "def animate(t):\n",
    "    '''Update plots for each line according to the time step. Reads dec, dist,\n",
    "    vra, and vdec from widgets. Called repeatedly by FuncAnimation.'''\n",
    "    \n",
    "    T = 10**T_widget.value\n",
    "    y_n = 2 * h * nus**2 / c**3 / (np.exp(h * nus / (k_B * T)) - 1) * 1e50\n",
    "    y_l = 2 * h * c**2 / lam**5 / (np.exp(h * c / (lam * k_B * T)) - 1) * 1e50\n",
    "    bb_n.set_ydata(y_n)\n",
    "    bb_l.set_ydata(y_l)\n",
    "    \n",
    "    \n",
    "def init():\n",
    "    '''Set initial plot parameters. Called once by FuncAnimation at beginning.'''\n",
    "    for _ax in ax:\n",
    "        _ax.grid(True)\n",
    "        _ax.set_yscale('log')\n",
    "        _ax.set_xscale('log')\n",
    "    ax[0].set_title('$B_\\\\nu$')\n",
    "    ax[0].set_xlabel('Frequency [Hz]')\n",
    "    ax[0].set_ylabel('Specific Intensity [$I_\\\\nu$]')\n",
    "    ax[0].set_ylim(1e6, 1e19) # dec\n",
    "    ax[1].set_title('$B_\\\\lambda$')\n",
    "    ax[1].set_xlabel('Wavelength [cm]')\n",
    "    ax[1].set_ylabel('Specific Intensity [$I_\\\\lambda$]')\n",
    "    ax[1].set_ylim(1e36, 1e49) # dec\n",
    "    \n",
    "steps = np.linspace(0, 1, NSTEPS) # simulation interval\n",
    "ani = FuncAnimation(fig, animate, steps, init_func=init, interval=50, blit=True)\n",
    "\n",
    "def build_animation(T):\n",
    "    '''Function which causes FuncAnimation to redraw itself when input widgets change.\n",
    "    Does not actually hand off the value, but needs to accept widget arguments to\n",
    "    be triggered by updating the slider.'''\n",
    "    ani.new_frame_seq()\n",
    "\n",
    "# force animation to redraw when freq_widget changes, even though\n",
    "# the parameter is not actually passed through (used as global, instead)\n",
    "interact(build_animation, T=T_widget)\n",
    "plt.show()"
   ]
  },
  {
   "cell_type": "code",
   "execution_count": null,
   "id": "ceb7e4ed",
   "metadata": {},
   "outputs": [],
   "source": []
  }
 ],
 "metadata": {
  "kernelspec": {
   "display_name": "Python 3 (ipykernel)",
   "language": "python",
   "name": "python3"
  },
  "language_info": {
   "codemirror_mode": {
    "name": "ipython",
    "version": 3
   },
   "file_extension": ".py",
   "mimetype": "text/x-python",
   "name": "python",
   "nbconvert_exporter": "python",
   "pygments_lexer": "ipython3",
   "version": "3.10.12"
  }
 },
 "nbformat": 4,
 "nbformat_minor": 5
}

{
 "cells": [
  {
   "cell_type": "markdown",
   "metadata": {
    "jp-MarkdownHeadingCollapsed": true
   },
   "source": [
    "## Astrometry\n",
    "\n",
    "The measurement (\"metry\") of stellar (\"astro\") positions and space motions. We use astrometry to measure **proper motions** and geometric distances (**parallax**). \n",
    "\n",
    "<img src=\"data/hip_obs.gif\">\n",
    "\n",
    "$$tan(\\pi) \\sim \\pi({\\rm radians}) = r / d$$\n",
    "\n",
    "$$d = 206265/\\pi(^{\\prime \\prime}) {\\rm A.U.}$$\n",
    "\n",
    "$$d({\\rm parsec}) = 1/\\pi(^{\\prime \\prime})$$\n",
    "\n",
    "*Figures and text from: http://www.faculty.virginia.edu/ASTR5610/lectures/VELOCITIES/velocities.html*\n",
    "\n",
    "(website no longer available)\n"
   ]
  },
  {
   "cell_type": "markdown",
   "metadata": {},
   "source": [
    "<img src=\"data/astrom_history.png\" height=40%>\n",
    "\n",
    "* From \"Astrometry during the past 100 years\" E. Høg https://arxiv.org/abs/1105.0634 *"
   ]
  },
  {
   "cell_type": "markdown",
   "metadata": {},
   "source": [
    "## Gaia\n",
    "\n",
    "\n",
    "### Mission Objectives of Gaia:\n",
    "\n",
    "- measure the positions of ~1 billion stars both in our Galaxy and other members of the Local Group, with an accuracy down to 24 microarcseconds for stars to V = 15 and to 0.5 milliarcsec for stars to V = 20; perform spectral and photometric measurements of these objects;\n",
    "- derive space velocities of the Galaxy's constituent stars using the stellar distances and motions;\n",
    "- create a three-dimensional structural map of the Galaxy.\n",
    "\n",
    "<img src=\"data/gaia_0.png\" width=\"80%\">\n",
    "\n",
    "See \"Gaia Data Release 2: Using Gaia parallaxes\": A&A Volume 616, July 2018 [[link]](https://www.aanda.org/articles/aa/abs/2018/08/aa32964-18/aa32964-18.html)\n",
    "\n",
    "Mission has moved on from DR2 to DR3.\n",
    "\n",
    "### Instruments \n",
    "\n",
    "- The Astrometric instrument (ASTRO) is devoted to star angular position measurements, providing the five astrometric parameters:\n",
    "    - Star position (2 angles)\n",
    "    - Proper motion (2 time derivatives of position)\n",
    "    - Parallax (distance)\n",
    "\n",
    "- **The Photometric instrument** provides very low resolution (30 to 270 Angstroms/pixel) star spectra (sufficient to judge the spectral energy distribution, \"SED\") to derive estimates of stellar parameters (like temperature, metallicity) in the band 320-1000 nm and the ASTRO chromaticity calibration.  This class will use data from this instrument such as stellar positions, parallaxes, motions, and magnitudes (G, BP, RP).\n",
    "\n",
    "- The **Radial Velocity Spectrometer (RVS)** provides radial velocity and medium resolution (R ~ 11,500) spectral data in the narrow band 847-874 nm, for stars to about 16th magnitude ($\\sim$150 million stars) and astrophysical information (reddening, atmospheric parameters, rotational velocities) for stars to 12th mag ($\\sim$5 million stars), and elemental abundances to about 11th mag ($\\sim$2 million stars)."
   ]
  },
  {
   "cell_type": "markdown",
   "metadata": {},
   "source": [
    "### Scanning and Data Taking\n",
    "\n",
    "<img src=\"data/IN_scanning_law.jpg\" width=\"80%\">"
   ]
  },
  {
   "cell_type": "code",
   "execution_count": 1,
   "metadata": {},
   "outputs": [
    {
     "name": "stderr",
     "output_type": "stream",
     "text": [
      "/Users/jbloom/miniforge3/envs/astrocompress/lib/python3.12/site-packages/IPython/core/display.py:431: UserWarning: Consider using IPython.display.IFrame instead\n",
      "  warnings.warn(\"Consider using IPython.display.IFrame instead\")\n"
     ]
    },
    {
     "data": {
      "text/html": [
       "<iframe width=\"560\" height=\"315\" src=\"https://www.youtube.com/embed/lRhe2grA9wE\" frameborder=\"0\" allow=\"accelerometer; autoplay; clipboard-write; encrypted-media; gyroscope; picture-in-picture\" allowfullscreen></iframe>"
      ],
      "text/plain": [
       "<IPython.core.display.HTML object>"
      ]
     },
     "execution_count": 1,
     "metadata": {},
     "output_type": "execute_result"
    }
   ],
   "source": [
    "from IPython.display import HTML\n",
    "\n",
    "HTML('<iframe width=\"560\" height=\"315\" src=\"https://www.youtube.com/embed/lRhe2grA9wE\" frameborder=\"0\" allow=\"accelerometer; autoplay; clipboard-write; encrypted-media; gyroscope; picture-in-picture\" allowfullscreen></iframe>')"
   ]
  },
  {
   "cell_type": "markdown",
   "metadata": {},
   "source": [
    "<img src=\"data/gaia_dr3.jpg\">"
   ]
  },
  {
   "cell_type": "markdown",
   "metadata": {},
   "source": [
    "<img src=\"data/gaia_2.png\">"
   ]
  },
  {
   "cell_type": "markdown",
   "metadata": {},
   "source": [
    "<img src=\"data/gaia_3.png\">"
   ]
  },
  {
   "cell_type": "markdown",
   "metadata": {},
   "source": [
    "<img src=\"data/gaia_5.png\">"
   ]
  },
  {
   "cell_type": "markdown",
   "metadata": {},
   "source": [
    "### Interactive Tutorials with Gaia data\n",
    "##### This link is for DR2:\n",
    "https://github.com/agabrown/astrometry-inference-tutorials\n",
    "\n",
    "More tutorials for DR3 are at https://www.cosmos.esa.int/web/gaia-users/archive/help"
   ]
  },
  {
   "cell_type": "code",
   "execution_count": null,
   "metadata": {},
   "outputs": [],
   "source": []
  }
 ],
 "metadata": {
  "history": [
   {
    "code": "<img src=\"data/astrom_history.png\" height=40%>\n\n* From \"Astrometry during the past 100 years\" E. Hg https://arxiv.org/abs/1105.0634 *",
    "id": "af2c6e8d31c841c48050f3fe07705c6c",
    "idx": 2,
    "time": "2021-02-02T00:14:12.015Z",
    "type": "execution"
   },
   {
    "id": "af2c6e8d31c841c48050f3fe07705c6c",
    "time": "2021-02-02T00:14:12.095Z",
    "type": "completion"
   },
   {
    "code": "%run ../talktools.py",
    "id": "060440773e65468dab0fd205ecc6515f",
    "idx": 0,
    "time": "2021-02-02T00:16:37.369Z",
    "type": "execution"
   },
   {
    "id": "060440773e65468dab0fd205ecc6515f",
    "time": "2021-02-02T00:16:37.457Z",
    "type": "completion"
   },
   {
    "code": "from IPython.display import HTML\n\nHTML('<iframe width=\"560\" height=\"315\" src=\"https://www.youtube.com/embed/lRhe2grA9wE\" frameborder=\"0\" allow=\"accelerometer; autoplay; clipboard-write; encrypted-media; gyroscope; picture-in-picture\" allowfullscreen></iframe>')\n\n",
    "id": "0fe8b470c755498c8129bf0b5a8dc781",
    "idx": 5,
    "time": "2021-02-02T00:39:43.280Z",
    "type": "execution"
   },
   {
    "id": "0fe8b470c755498c8129bf0b5a8dc781",
    "time": "2021-02-02T00:39:43.400Z",
    "type": "completion"
   }
  ],
  "kernelspec": {
   "display_name": "Python 3 (ipykernel)",
   "language": "python",
   "name": "python3"
  },
  "language_info": {
   "codemirror_mode": {
    "name": "ipython",
    "version": 3
   },
   "file_extension": ".py",
   "mimetype": "text/x-python",
   "name": "python",
   "nbconvert_exporter": "python",
   "pygments_lexer": "ipython3",
   "version": "3.12.3"
  }
 },
 "nbformat": 4,
 "nbformat_minor": 4
}

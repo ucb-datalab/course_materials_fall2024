{
 "cells": [
  {
   "cell_type": "markdown",
   "id": "7e9fd0e2",
   "metadata": {},
   "source": [
    "# Interactive Parallax / Proper Motion Animation\n",
    "\n",
    "This notebook uses widgets to illustrate parallax and proper motion."
   ]
  },
  {
   "cell_type": "code",
   "execution_count": 1,
   "id": "7b216247",
   "metadata": {
    "execution": {
     "iopub.execute_input": "2024-09-04T14:55:53.706129Z",
     "iopub.status.busy": "2024-09-04T14:55:53.705914Z",
     "iopub.status.idle": "2024-09-04T14:55:54.157993Z",
     "shell.execute_reply": "2024-09-04T14:55:54.157385Z",
     "shell.execute_reply.started": "2024-09-04T14:55:53.706112Z"
    }
   },
   "outputs": [],
   "source": [
    "import numpy as np\n",
    "%matplotlib widget\n",
    "import matplotlib.pyplot as plt\n",
    "from matplotlib.animation import FuncAnimation\n",
    "from ipywidgets import interact, FloatSlider, Layout"
   ]
  },
  {
   "cell_type": "code",
   "execution_count": 2,
   "id": "86875ce6",
   "metadata": {
    "execution": {
     "iopub.execute_input": "2024-09-04T14:55:54.158998Z",
     "iopub.status.busy": "2024-09-04T14:55:54.158658Z",
     "iopub.status.idle": "2024-09-04T14:55:54.165118Z",
     "shell.execute_reply": "2024-09-04T14:55:54.164467Z",
     "shell.execute_reply.started": "2024-09-04T14:55:54.158980Z"
    }
   },
   "outputs": [],
   "source": [
    "# High-level parameters\n",
    "SIZE = 256     # number of points in each line\n",
    "DEC = 45.      # degrees, declination of star\n",
    "DIST = 10      # parsecs, distance to star\n",
    "VPROP_RA = 0   # mas / yr, proper motion in ra direction\n",
    "VPROP_DEC = 0  # mas / yr, proper motion in dec direction\n",
    "NSTEPS = 300   # number of cycles in simulation before repeat\n",
    "STEP = NSTEPS / 60            # fraction of a year per step\n",
    "TAIL = 100                    # number of data points to tail\n",
    "VIEW = 10                     # mas to view\n",
    "\n",
    "# Constants\n",
    "AU = 1.5e13               # cm, astronomical unit\n",
    "PC = 3e18                 # cm, parsec\n",
    "mas = 1 / (60 * 60 * 1e3) # degrees, milliarcsecond\n",
    "\n",
    "# Variables derived from parameters above\n",
    "pos = (np.zeros(TAIL), np.zeros(TAIL))\n",
    "\n",
    "def update_star(t, dec0, dist, vra, vdec):\n",
    "    \"\"\"Launch photon wavelets along each line, propagating radially outward \n",
    "    at one index per simulation cycle.\"\"\"\n",
    "    pos[0][:-1] = pos[0][1:] #  propagate\n",
    "    pos[1][:-1] = pos[1][1:] #  propagate\n",
    "    dra_max = np.arctan2(AU, dist * PC)\n",
    "    ddec_max = np.arctan2(AU * np.sin(dec0), dist * PC)\n",
    "    pos[0][-1] =  vra * t +  dra_max * np.cos(2 * np.pi * STEP * t)\n",
    "    pos[1][-1] = vdec * t + ddec_max * np.sin(2 * np.pi * STEP * t)"
   ]
  },
  {
   "cell_type": "code",
   "execution_count": 3,
   "id": "1e2ece55",
   "metadata": {
    "execution": {
     "iopub.execute_input": "2024-09-04T14:55:54.167995Z",
     "iopub.status.busy": "2024-09-04T14:55:54.167835Z",
     "iopub.status.idle": "2024-09-04T14:55:54.267800Z",
     "shell.execute_reply": "2024-09-04T14:55:54.267123Z",
     "shell.execute_reply.started": "2024-09-04T14:55:54.167978Z"
    }
   },
   "outputs": [
    {
     "data": {
      "application/vnd.jupyter.widget-view+json": {
       "model_id": "039a7518c19d4a69b5e70cc5d2a2ce44",
       "version_major": 2,
       "version_minor": 0
      },
      "text/plain": [
       "interactive(children=(FloatSlider(value=45.0, description='Star Declination [degrees]', layout=Layout(grid_are…"
      ]
     },
     "metadata": {},
     "output_type": "display_data"
    },
    {
     "data": {
      "application/vnd.jupyter.widget-view+json": {
       "model_id": "87c1c0d817c542c39fdf59c7a3321536",
       "version_major": 2,
       "version_minor": 0
      },
      "image/png": "[encoded data removed]",
      "text/html": [
       "\n",
       "            <div style=\"display: inline-block;\">\n",
       "                <div class=\"jupyter-widgets widget-label\" style=\"text-align: center;\">\n",
       "                    Figure\n",
       "                </div>\n",
       "                <img src='data:image/png;base64,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' width=600.0/>\n",
       "            </div>\n",
       "        "
      ],
      "text/plain": [
       "Canvas(toolbar=Toolbar(toolitems=[('Home', 'Reset original view', 'home', 'home'), ('Back', 'Back to previous …"
      ]
     },
     "metadata": {},
     "output_type": "display_data"
    }
   ],
   "source": [
    "# Generate the animation figure\n",
    "\n",
    "fig, (ax1) = plt.subplots(figsize=(6,6))\n",
    "srcpos_J2000, = ax1.plot([0], [0], 'kx')  # plot catalog source position\n",
    "srcpos_cur, = ax1.plot(pos[0][-1:], pos[1][-1:], 'm*')\n",
    "srctrack, = ax1.plot(pos[0], pos[1], 'k') # holds handle for incoming radiation\n",
    "\n",
    "# Sliders controlling animation\n",
    "dec_widget = FloatSlider(DEC, min=0, max=90, step=0.01,\n",
    "                           description='Star Declination [degrees]',\n",
    "                           style={'description_width':'initial'},\n",
    "                           layout=Layout(width='auto', grid_area='footer'))\n",
    "dist_widget = FloatSlider(DIST, min=0, max=20.0, step=0.5,\n",
    "                           description='Star Distance [pc]',\n",
    "                           style={'description_width':'initial'},\n",
    "                           layout=Layout(width='auto', grid_area='footer'))\n",
    "vra_widget  = FloatSlider(VPROP_RA, min=-10.0, max=10.0, step=0.1,\n",
    "                           description='Star RA velocity [mas/yr]',\n",
    "                           style={'description_width':'initial'},\n",
    "                           layout=Layout(width='auto', grid_area='footer'))\n",
    "vdec_widget = FloatSlider(VPROP_DEC, min=-10.0, max=10.0, step=0.1,\n",
    "                           description='Star DEC velocity [mas/yr]',\n",
    "                           style={'description_width':'initial'},\n",
    "                           layout=Layout(width='auto', grid_area='footer'))\n",
    "\n",
    "def animate(t):\n",
    "    '''Update plots for each line according to the time step. Reads dec, dist,\n",
    "    vra, and vdec from widgets. Called repeatedly by FuncAnimation.'''\n",
    "    dec0 = dec_widget.value\n",
    "    dist = dist_widget.value\n",
    "    vra = vra_widget.value * mas\n",
    "    vdec = vdec_widget.value * mas\n",
    "    update_star(t, dec0, dist, vra, vdec)\n",
    "    srctrack.set_xdata(pos[0] / mas)\n",
    "    srctrack.set_ydata(pos[1] / mas)\n",
    "    srcpos_cur.set_xdata(pos[0][-1:] / mas)\n",
    "    srcpos_cur.set_ydata(pos[1][-1:] / mas)\n",
    "    \n",
    "    \n",
    "def init():\n",
    "    '''Set initial plot parameters. Called once by FuncAnimation at beginning.'''\n",
    "    ax1.set_xlim(-VIEW, VIEW) # ra\n",
    "    ax1.set_ylim(-VIEW, VIEW) # dec\n",
    "    ax1.set_xlabel('$\\Delta$RA [mas]')\n",
    "    ax1.set_ylabel('$\\Delta$DEC [mas]')\n",
    "    ax1.set_title('Parallax and Proper Motion')\n",
    "    ax1.grid(True)\n",
    "    \n",
    "steps = np.linspace(0, 1, NSTEPS) # simulation interval\n",
    "ani = FuncAnimation(fig, animate, steps, init_func=init, interval=50, blit=True)\n",
    "\n",
    "def build_animation(dec, dist, vra, vdec):\n",
    "    '''Function which causes FuncAnimation to redraw itself when input widgets change.\n",
    "    Does not actually hand off the value, but needs to accept widget arguments to\n",
    "    be triggered by updating the slider.'''\n",
    "    ani.new_frame_seq()\n",
    "\n",
    "# force animation to redraw when freq_widget changes, even though\n",
    "# the parameter is not actually passed through (used as global, instead)\n",
    "interact(build_animation, dec=dec_widget, dist=dist_widget, vra=vra_widget, vdec=vdec_widget)\n",
    "plt.show()"
   ]
  },
  {
   "cell_type": "code",
   "execution_count": null,
   "id": "0c7fab48-ee5b-455a-8ca2-9014358c8e41",
   "metadata": {},
   "outputs": [],
   "source": []
  },
  {
   "cell_type": "code",
   "execution_count": null,
   "id": "d68a8f74-bc89-4b37-8dac-c688b31e8e0f",
   "metadata": {},
   "outputs": [],
   "source": []
  }
 ],
 "metadata": {
  "kernelspec": {
   "display_name": "Python 3 (ipykernel)",
   "language": "python",
   "name": "python3"
  },
  "language_info": {
   "codemirror_mode": {
    "name": "ipython",
    "version": 3
   },
   "file_extension": ".py",
   "mimetype": "text/x-python",
   "name": "python",
   "nbconvert_exporter": "python",
   "pygments_lexer": "ipython3",
   "version": "3.10.12"
  }
 },
 "nbformat": 4,
 "nbformat_minor": 5
}

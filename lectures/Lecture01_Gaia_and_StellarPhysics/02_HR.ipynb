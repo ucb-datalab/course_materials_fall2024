{
 "cells": [
  {
   "cell_type": "code",
   "execution_count": 1,
   "metadata": {},
   "outputs": [
    {
     "data": {
      "text/html": [
       "\n",
       "<script src=\"https://stackpath.bootstrapcdn.com/bootstrap/4.3.1/js/bootstrap.min.js\" integrity=\"sha384-JjSmVgyd0p3pXB1rRibZUAYoIIy6OrQ6VrjIEaFf/nJGzIxFDsf4x0xIM+B07jRM\" crossorigin=\"anonymous\"></script>\n",
       "\n",
       "<style>\n",
       "\n",
       "@import url(https://fonts.googleapis.com/css?family=Open+Sans);body{\n",
       "   font-family: 'Open Sans';\n",
       "   font-size: 125%;\n",
       "}\n",
       "\n",
       ".talk_title\n",
       "{\n",
       "  color: #498AF3;\n",
       "  font-size: 275%;\n",
       "  font-weight:bold;\n",
       "  line-height: 1.3; \n",
       "  margin: 10px 50px 10px;\n",
       "  }\n",
       "\n",
       ".subtitle\n",
       "{\n",
       "  color: #386BBC;\n",
       "  font-size: 180%;\n",
       "  font-weight:bold;\n",
       "  line-height: 1.2; \n",
       "  margin: 20px 50px 20px;\n",
       "  }\n",
       "\n",
       ".rendered_html h1\n",
       "{\n",
       "  color: #498AF3;\n",
       "  line-height: 1.2; \n",
       "  margin: 0.15em 0em 0.5em;\n",
       "  page-break-before: always;\n",
       "  text-align: center;\n",
       "  }\n",
       "\n",
       "\n",
       ".center\n",
       "{\n",
       "  text-align: center;\n",
       "  }\n",
       "\n",
       ".nb_link\n",
       "{\n",
       "    padding-bottom: 0.5em;\n",
       "}\n",
       "\n",
       "</style>"
      ],
      "text/plain": [
       "<IPython.core.display.HTML object>"
      ]
     },
     "metadata": {},
     "output_type": "display_data"
    }
   ],
   "source": [
    "%run ../talktools.py"
   ]
  },
  {
   "cell_type": "markdown",
   "metadata": {},
   "source": [
    "## Stars are ~ Blackbodies\n",
    "- A star is a self-gravitating, gaseous astrophysical object whose luminosity is powered by nuclear fusion (\"burning\")\n",
    "- the specific intensity of a star (flux / wavelength / solid angle) is well-described by a blackbody (i.e., Planck's function)\n",
    "- For a BB, a given temperature (T) gives a unique BB curve in intensity vs wavelength (or frequency) space\n",
    "- Note that $B_\\lambda\\ne B_\\nu$ (one is defined per differential wavelength, the other per differential frequency)\n",
    "- Via Wien's Law ($\\lambda_{\\rm max} \\propto\\ \\frac{1}{T}$) hotter stars peak at bluer (shorter) wavelengths, cooler stars speak at redder (longer) wavelengths\n",
    "\n",
    "<img src=\"./data/blackbodies.png\" width=80%></img>"
   ]
  },
  {
   "cell_type": "markdown",
   "metadata": {},
   "source": [
    "## Stars are ~ Not Exactly Blackbodies\n",
    "\n",
    "- While BBs are good approximations for stars, they are not exactly BBs\n",
    "- Atoms and molecules in a star's atmosphere absorb (and emit) light imprinting features (e.g., absorption lines) on the spectrum of a star\n",
    "- The wavelengths of these features are set by quantum energy-level transitions\n",
    "- The strength of an absoption features is related to zeroth order: the temperature (energy) of the star and its chemical composition.\n",
    "- Spectral features are useful for a wide variety of science including stellar chemical composition, stellar atmospheric parameters, and radial velocities.\n",
    "\n",
    "<img src=\"./data/sun.jpg\" width=100%></img>"
   ]
  },
  {
   "cell_type": "markdown",
   "metadata": {},
   "source": [
    "## HR Diagram\n",
    "- HR diagram = Hertzsprung-Russell Diagram\n",
    "- plot of stellar **luminosity** (y-axis) vs stellar **temperature** (x-axis)\n",
    "- temperature increases to the left\n",
    "- temperature historically represented as a sequence of \"spectral types\". In order of decreasing temperature: OBAFGKML(YT)\n",
    "- On an HR diagram: stars form physically distinct evolutionary sequences:\n",
    "  * **main sequence**: core hydrogen \"burning\", star spend most of their lives here, $L \\propto M^3$, $t \\propto\\ M/L \\sim M^{-2}$\n",
    "  * **(ascending) giant phase**: inert hydrogen core, shell hydrogen burning, radius expanding\n",
    "  * **tip of the red giant branch**: core helium burning starts, shell hydrogen burning continues\n",
    "  * **horizontal branch**: stable core helium burning and shell burning\n",
    "  * **asymptotic giant branch**: inert carbon/oxygen core, shell helium and hydrogen burning, large radius, lots of mass loss\n",
    "  * **white dwarf**: remnant core of a star with $M_{\\rm initial} < 7 M_{\\odot}$, supported by electron degeneracy pressure, $M_{\\rm WD} \\lesssim 1.4 M_{\\odot}$\n",
    "  * **neutron star**: remnant core of a star with $M_{\\rm initial} \\sim 7-25 M_{\\odot}$, supported by electron degeneracy pressure, $M_{\\rm NS} \\lesssim 3 M_{\\odot}$\n",
    "  * **black hole**: end state for very massive stars\n",
    "\n",
    "- Initial mass is the primary factor that determines how a star evolves\n",
    "- Chemical composition also matters, but less so than mass\n",
    "\n",
    "<img src=\"./data/HR_diagram.png\" width=60%></img>\n",
    "\n",
    "- Evolution of a single star:\n",
    "\n",
    "  * [Star in a box](https://starinabox.lco.global)"
   ]
  },
  {
   "cell_type": "markdown",
   "metadata": {},
   "source": [
    "## The role of filters\n",
    "- We don't observe temperature, luminosity, mass, etc. directly\n",
    "- Instead, we observe small pieces of a star's spectrum modulated by filters\n",
    "- Flux through a filter is the projection of a star's spectrum and its filter response curve \n",
    "- Typically, astronomers describe a star in terms of color (temperature) and magnitude (flux or luminosity).\n",
    "- **apparent magnitude**: measure of how bright an object appears (flux): $m_1 - m_2 = -2.5 log_{10}(F_1/F_2)$ or $m_X = -2.5log_{10}(F_X/F_{X,0})$\n",
    "- **absolute magnitude**: luminosity of a source if it were at a distance of 10 pc: $M_X = m_X + 5 - 5log_{10}(d) - A_X$\n",
    "  * $d$ is distance in units of pc (e.g., via parallax)\n",
    "  * $A_X$ is extinction in some filter (more on this in a couple of lectures)\n",
    "- larger magnitude = less bright/luminous (e.g., 10th magnitude star is brigher than 20th magnitude star).  \n",
    "- Negative magnitudes are allowed = very bright/luminous\n",
    "- **color**: $m_X - m_Y$, effectively the ratio of fluxes (or luminosities, if using absolute magnitudes) between two filters, a proxy for temperature.  X is bluer filter and Y is redder filter. \n",
    "  * A smaller color index values means a bluer color, a larger color index means a redder color.\n",
    "\n",
    "<img src=\"./data/color_index.gif\" width=80%></img>"
   ]
  },
  {
   "cell_type": "markdown",
   "metadata": {},
   "source": [
    "## Gaia Color-Magnitude Diagram (CMD) of Milky Way\n",
    "<img src=\"https://sci.esa.int/documents/33580/35361/1567214809100-ESA_Gaia_DR2_HRD_Gaia_625.jpg\" width=60%></img>"
   ]
  },
  {
   "cell_type": "markdown",
   "metadata": {},
   "source": [
    "## Gaia CMD of M67 + Isochrone\n",
    "- Isochrone = stars of the same age, but different masses\n",
    "- Z = \"Metallicity\"\n",
    "- X = hydrogen mass fraction, Y = helium mass fraction, Z = metal mass fraction\n",
    "- Z = 1 - X - Y\n",
    "- $Z_{\\odot} = 0.014$ (the Sun is ~1% \"metals\" by mass)\n",
    "    * (there is some controversy over this number)\n",
    "- notation: $[Fe/H]$ is the log$_{10}$ ratio of iron to hydrogen present in  a star relative to the Solar value.  E.g., $[Fe/H] = -1$ means there is 0.1 times as much iron in a star as there is in the Sun\n",
    "- similar notation for other elements: $[X/H]$\n",
    "\n",
    "<img src=\"data/example_cmd.png\" width=80%></img>"
   ]
  },
  {
   "cell_type": "markdown",
   "metadata": {
    "tags": []
   },
   "source": [
    "## Stellar Tracks vs. Isochrones\n",
    "\n",
    "Stellar models (e.g. MIST, PARSEC) come in two different forms: \n",
    "- tracks -- path a star (with single mass) takes over time \n",
    "- isochrones -- path a group of stars (with a single age) follows \n",
    "\n",
    "<img src=\"data/stellar_iso.png\" width=\"40%\"></img>\n",
    "<img src=\"data/stellar_tracks.png\" width=\"40%\"></img>\n",
    "<img src=\"data/stellar_iso_tracks.png\" width=\"40%\"></img>"
   ]
  },
  {
   "cell_type": "code",
   "execution_count": null,
   "metadata": {},
   "outputs": [],
   "source": []
  },
  {
   "cell_type": "code",
   "execution_count": null,
   "metadata": {},
   "outputs": [],
   "source": []
  }
 ],
 "metadata": {
  "kernelspec": {
   "display_name": "Python 3 (ipykernel)",
   "language": "python",
   "name": "python3"
  },
  "language_info": {
   "codemirror_mode": {
    "name": "ipython",
    "version": 3
   },
   "file_extension": ".py",
   "mimetype": "text/x-python",
   "name": "python",
   "nbconvert_exporter": "python",
   "pygments_lexer": "ipython3",
   "version": "3.12.3"
  }
 },
 "nbformat": 4,
 "nbformat_minor": 4
}

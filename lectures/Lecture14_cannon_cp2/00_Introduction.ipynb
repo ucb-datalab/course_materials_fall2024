{
 "cells": [
  {
   "cell_type": "markdown",
   "metadata": {},
   "source": [
    "# Meeting/Lecture 17 - Oct 21\n",
    "\n",
    "## Office Hours\n",
    "* Josh (Mon 12-1, 355 Campbell), Aaron (Fri 12-1pm, 425 Campbell)\n",
    "* Peter (Tue 1-2pm; 355), \n",
    "* Saahit: Wed 5-6pm (355) and Thu 4-5pm (233)\n",
    "* by appt\n",
    "* Communications on Ed Discussion\n",
    "\n",
    "## Agenda\n",
    "\n",
    "* Introduction (this notebook, *00_Introduction*)\n",
    "* Group discussion + report out\n",
    "* Finalize walking through Ness et al. (*01_The_Cannon*)\n",
    "* Fitting notebook\n",
    "\n",
    "## Lab 2\n",
    "* Checkpoint 2 due on Weds before Midnight (10/23)\n",
    "* Checkpoint 3 due Weds before Midnight (10/30)\n",
    "* Lab report due Friday 11/1\n",
    "\n",
    "## Getting these notebooks \n",
    "```bash\n",
    "git clone https://github.com/ucb-datalab/course_materials_fall2024.git\n",
    "cd course_materials_fall2024\n",
    "jupyter notebook\n",
    "```"
   ]
  },
  {
   "cell_type": "markdown",
   "metadata": {},
   "source": [
    "## Checkpoint 2 discussion topics\n",
    "\n",
    "* How do you create the $\\mathbf{X}$ matrix?\n",
    "* What is the advantages of \"renormalizing\" the input labels?\n",
    "* how does changing the continuum normalization polynomical order change the fit results?"
   ]
  },
  {
   "cell_type": "code",
   "execution_count": null,
   "metadata": {},
   "outputs": [],
   "source": []
  }
 ],
 "metadata": {
  "kernelspec": {
   "display_name": "astrods",
   "language": "python",
   "name": "astrods"
  },
  "language_info": {
   "codemirror_mode": {
    "name": "ipython",
    "version": 3
   },
   "file_extension": ".py",
   "mimetype": "text/x-python",
   "name": "python",
   "nbconvert_exporter": "python",
   "pygments_lexer": "ipython3",
   "version": "3.11.9"
  }
 },
 "nbformat": 4,
 "nbformat_minor": 4
}

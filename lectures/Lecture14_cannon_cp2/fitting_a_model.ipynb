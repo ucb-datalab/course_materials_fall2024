{
 "cells": [
  {
   "cell_type": "markdown",
   "id": "562add23-dee6-4ab9-9eae-eb46f9f9b886",
   "metadata": {},
   "source": [
    "Let's do a little example similar to the Cannon problem.\n",
    "Instead of spectra we can use time-series from finance.\n",
    "We'll set up a small problem where we want to predict the values\n",
    "of a stock (like the \"flux\") using the labels from other\n",
    "two other stocks.\n",
    "(Here we are working in time rather than wavelength.)"
   ]
  },
  {
   "cell_type": "code",
   "execution_count": null,
   "id": "a35486b1-72b7-4422-b9f4-7407b5b4196b",
   "metadata": {},
   "outputs": [],
   "source": [
    "#!pip install -U yfinance==0.2.44 "
   ]
  },
  {
   "cell_type": "code",
   "execution_count": null,
   "id": "1de15131-5794-44d2-9a1d-0f37ac76a32f",
   "metadata": {},
   "outputs": [],
   "source": [
    "import yfinance as yf\n",
    "import matplotlib.pylab as plt\n",
    "import numpy as np\n",
    "%matplotlib inline"
   ]
  },
  {
   "cell_type": "markdown",
   "id": "6c0ec832-b8d2-4581-aa40-6b765b9fdbbd",
   "metadata": {},
   "source": [
    "Grab some data. Let's use Nike and Chipolte values as the labels and we'll see if we can come up with a model to predict Target."
   ]
  },
  {
   "cell_type": "code",
   "execution_count": null,
   "id": "c0c317ae-11ff-4776-a234-1484ccbbc7de",
   "metadata": {},
   "outputs": [],
   "source": [
    "labels = [\"NKE\", \"CMG\"]\n",
    "target = \"TGT\"\n",
    "df = yf.download(labels, start=\"2024-01-01\", end=\"2024-10-20\")\n",
    "for label in labels:\n",
    "    (df[(\"Open\", label)]/df[(\"Open\", label)].median()).plot(alpha=0.8,label=label)\n",
    "df_target = yf.download(target, start=\"2024-01-01\", end=\"2024-10-20\")\n",
    "(df_target[(\"Open\", target)]/df_target[(\"Open\", target)].median() + 0.5).plot(linewidth=5,alpha=0.8,label=target)\n",
    "plt.legend()"
   ]
  },
  {
   "cell_type": "markdown",
   "id": "66c9cf74-9a48-4543-ba6f-8d96c9d86e88",
   "metadata": {},
   "source": [
    "Let predict the Target using the price of the other stocks. We'll assume \n",
    "4 different timeseries (like 4 different \"stars\") here: open, close, high, low.\n",
    "\n",
    "${\\rm Target}_{\\rm open}(t) = \\theta_{0, t} +\n",
    "    + \\theta_{1, t} {\\rm Nike}_{\\rm open}(t) +  \\theta_{2, t}{\\rm Chipolte}_{\\rm open}(t) \\ldots $\n",
    "\n",
    "${\\rm Target}_{\\rm close}(t) = \\theta_{0, t} + \n",
    "    + \\theta_{1, t} {\\rm Nike}_{\\rm close}(t) +  \\theta_{2, t}{\\rm Chipolte}_{\\rm close}(t) \\ldots $\n",
    "\n",
    "\n",
    "${\\rm Target}_{\\rm high}(t) = \\theta_{0, t} + \\ldots $\n",
    "\n",
    "$\\vec y_t = {\\mathbf{X}_t} \\vec \\theta_t$\n",
    "\n",
    "with \n",
    "\n",
    "$${\\mathbf{X}_t} = \\begin{pmatrix}\n",
    "1 &  {\\rm Nike}_{\\rm open}(t) & \n",
    "    {\\rm Chipolte}_{\\rm open} & \\ldots \\\\\n",
    "1 & {\\rm Nike}_{\\rm close}(t) & \n",
    "    {\\rm Chipolte}_{\\rm close} & \\ldots\\\\\n",
    "1 &  {\\rm Nike}_{\\rm high}(t) & \n",
    "    {\\rm Chipolte}_{\\rm high}& \\ldots \\\\\n",
    "1 &  {\\rm Nike}_{\\rm low}(t) & \n",
    "    {\\rm Chipolte}_{\\rm low} & \\ldots\n",
    "\\end{pmatrix}\n",
    "$$\n",
    "\n",
    "and\n",
    "\n",
    "$$\\theta_t = \\begin{pmatrix}\n",
    "\\theta_{0, t}\\\\\n",
    "\\theta_{1, t}\\\\\n",
    "\\theta_{2, t}\n",
    "\\end{pmatrix}\n",
    "$$\n"
   ]
  },
  {
   "cell_type": "markdown",
   "id": "707bd7df-7d07-4929-9a62-9534e9e0266f",
   "metadata": {},
   "source": [
    "Let's look at the data"
   ]
  },
  {
   "cell_type": "code",
   "execution_count": null,
   "id": "13e482bd-9606-41ee-8d8c-1e247b29f33c",
   "metadata": {},
   "outputs": [],
   "source": [
    "label_df = df.iloc[:][[\"Open\", \"Close\", \"High\", \"Low\"]]\n",
    "target_df = df_target.iloc[:][[\"Open\", \"Close\", \"High\", \"Low\"]]\n",
    "label_df"
   ]
  },
  {
   "cell_type": "markdown",
   "id": "912778db-15b5-4b37-af4a-491362fb0eaa",
   "metadata": {},
   "source": [
    "Now let's pick a time to predict. Again we're trying to predict 4 different values of Target stock using the labels from others stocks."
   ]
  },
  {
   "cell_type": "code",
   "execution_count": null,
   "id": "0bc5db5c-727d-4e8d-933a-193799f177fc",
   "metadata": {},
   "outputs": [],
   "source": [
    "t = 0\n",
    "label_time_step_t = label_df.iloc[t].values.reshape(4, len(labels))\n",
    "target_time_step_t = target_df.iloc[t].values.reshape(4, 1)"
   ]
  },
  {
   "cell_type": "code",
   "execution_count": null,
   "id": "fe6dde10-a904-4c2b-834b-5c3e126bc253",
   "metadata": {},
   "outputs": [],
   "source": [
    "label_time_step_t"
   ]
  },
  {
   "cell_type": "code",
   "execution_count": null,
   "id": "755525b4-d948-4392-902e-91d1217776ac",
   "metadata": {},
   "outputs": [],
   "source": [
    "target_time_step_t"
   ]
  },
  {
   "cell_type": "markdown",
   "id": "f175a484-d172-4c45-99c9-d9d94202fa05",
   "metadata": {},
   "source": [
    "Set up the ${\\mathbf{X}}$ matrix at this timestep:"
   ]
  },
  {
   "cell_type": "code",
   "execution_count": null,
   "id": "1d457109-6394-4f6d-8b02-a8ac868b8334",
   "metadata": {},
   "outputs": [],
   "source": [
    "X_t = np.hstack([np.ones_like(target_time_step_t), label_time_step_t])\n",
    "X_t"
   ]
  },
  {
   "cell_type": "code",
   "execution_count": null,
   "id": "323a8ca2-a43c-4f42-9b76-193201cb90dc",
   "metadata": {},
   "outputs": [],
   "source": [
    "θ_t, resid, _, _ = np.linalg.lstsq(X_t, target_time_step_t, rcond=-1)"
   ]
  },
  {
   "cell_type": "code",
   "execution_count": null,
   "id": "f9a199a9-7366-4026-8fb0-138fa38b2fe6",
   "metadata": {},
   "outputs": [],
   "source": [
    "θ_t"
   ]
  },
  {
   "cell_type": "markdown",
   "id": "d1294473-62bf-479b-8b5d-b5ff517177b5",
   "metadata": {},
   "source": [
    "Now let's predict four values of Target stock on this date:"
   ]
  },
  {
   "cell_type": "code",
   "execution_count": null,
   "id": "2ef79c75-9e17-4e89-9c13-509ed2932856",
   "metadata": {},
   "outputs": [],
   "source": [
    "X_i @ θ_t "
   ]
  },
  {
   "cell_type": "code",
   "execution_count": null,
   "id": "93902062-cbf4-42c6-a1b2-bed2ada1686f",
   "metadata": {},
   "outputs": [],
   "source": [
    "X_t @ θ_t  - target_time_step_t"
   ]
  },
  {
   "cell_type": "code",
   "execution_count": null,
   "id": "9a5cea6c-299b-46c5-8974-d98111d4cd22",
   "metadata": {},
   "outputs": [],
   "source": [
    "len_t = label_df.shape[0]\n",
    "model_coeffs = np.zeros( ( len_t, len(labels)+1))"
   ]
  },
  {
   "cell_type": "code",
   "execution_count": null,
   "id": "ec8ca59f-a1e5-4587-916f-54841437e9cd",
   "metadata": {},
   "outputs": [],
   "source": [
    "for t in range(len_t):\n",
    "    label_time_step_t = label_df.iloc[t].values.reshape(4, len(labels))\n",
    "    target_time_step_t = target_df.iloc[t].values.reshape(4, 1)\n",
    "    X_i = np.hstack([np.ones_like(target_time_step_t), label_time_step_t])\n",
    "    coeffs, resid, _, _ = np.linalg.lstsq(X_i, target_time_step_t, rcond=-1)\n",
    "    model_coeffs[t,:] = coeffs.T"
   ]
  },
  {
   "cell_type": "code",
   "execution_count": null,
   "id": "6b1d9333-9344-4a4c-973d-51974337028c",
   "metadata": {},
   "outputs": [],
   "source": [
    "plt.plot(label_df.index[0:50], model_coeffs[0:50, 1],label=\"CMG θ_1\" )\n",
    "plt.plot(label_df.index[0:50], model_coeffs[0:50, 2], label=\"NKE θ_2\")\n",
    "plt.hlines([0], xmin=label_df.index[0], xmax=label_df.index[50] )\n",
    "plt.ylim(-25,25)\n",
    "plt.legend()"
   ]
  },
  {
   "cell_type": "markdown",
   "id": "db7ed42d-078a-449c-8b45-e4859cd20e5a",
   "metadata": {},
   "source": []
  },
  {
   "cell_type": "code",
   "execution_count": null,
   "id": "c72410bb-148a-447a-a3a5-ec567d95d6ad",
   "metadata": {},
   "outputs": [],
   "source": []
  }
 ],
 "metadata": {
  "kernelspec": {
   "display_name": "astrods",
   "language": "python",
   "name": "astrods"
  },
  "language_info": {
   "codemirror_mode": {
    "name": "ipython",
    "version": 3
   },
   "file_extension": ".py",
   "mimetype": "text/x-python",
   "name": "python",
   "nbconvert_exporter": "python",
   "pygments_lexer": "ipython3",
   "version": "3.11.9"
  }
 },
 "nbformat": 4,
 "nbformat_minor": 5
}

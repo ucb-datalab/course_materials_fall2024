{
 "cells": [
  {
   "cell_type": "markdown",
   "metadata": {},
   "source": [
    "# More Advanced $\\chi^2$"
   ]
  },
  {
   "cell_type": "code",
   "execution_count": 2,
   "metadata": {
    "ExecuteTime": {
     "end_time": "2023-03-14T21:52:37.766919Z",
     "start_time": "2023-03-14T21:52:37.427500Z"
    }
   },
   "outputs": [],
   "source": [
    "from __future__ import print_function\n",
    "%matplotlib inline\n",
    "import numpy as np, pylab as plt"
   ]
  },
  {
   "cell_type": "markdown",
   "metadata": {},
   "source": [
    "As before, suppose we have a constant function,\n",
    "\\begin{equation}\n",
    "f(x)=\\mu,\n",
    "\\end{equation}\n",
    "which we have measured at various $x_i$'s, with noise:\n",
    "\\begin{equation}\n",
    "y_i=f(x_i)+n_i,\n",
    "\\end{equation}\n",
    "Let's again assume the noise is Gaussian, but now, each measurement has a different amount of noise, each characterized by a variance of $\\sigma_i^2$."
   ]
  },
  {
   "cell_type": "code",
   "execution_count": 3,
   "metadata": {
    "ExecuteTime": {
     "end_time": "2023-03-14T21:52:38.592838Z",
     "start_time": "2023-03-14T21:52:38.481569Z"
    }
   },
   "outputs": [
    {
     "data": {
      "text/plain": [
       "<ErrorbarContainer object of 3 artists>"
      ]
     },
     "execution_count": 3,
     "metadata": {},
     "output_type": "execute_result"
    },
    {
     "data": {
      "image/png": "[encoded data removed]",
      "text/plain": [
       "<Figure size 640x480 with 1 Axes>"
      ]
     },
     "metadata": {},
     "output_type": "display_data"
    }
   ],
   "source": [
    "def f(x, mu=0.):\n",
    "    return mu\n",
    "\n",
    "xs = np.array([-2, -1, 0, 1, 2, 3], dtype=float)\n",
    "ys = np.array([-2.404, -0.956,  1.030, -1.652,  2.104, -1.195])\n",
    "var = np.array([1., 1., 2., 2., 2., 2.]) # variance\n",
    "\n",
    "plt.figure()\n",
    "plt.errorbar(xs, ys, np.sqrt(var), fmt='k^')"
   ]
  },
  {
   "cell_type": "markdown",
   "metadata": {},
   "source": [
    "What is the best estimate of $\\mu$?\n",
    "- $\\frac1N\\sum_i^N{y_i}$\n",
    "- $\\frac1N\\sum_i^N{y_i - n_i}$\n",
    "- $\\frac1{\\sum{\\sigma_i^2}}\\sum_i^N{\\sigma_i^2y_i}$\n",
    "- $\\frac1{\\sum{\\frac1{\\sigma_i^2}}}\\sum_i^N{\\frac{y_i}{\\sigma_i^2}}$"
   ]
  },
  {
   "cell_type": "code",
   "execution_count": null,
   "metadata": {},
   "outputs": [],
   "source": []
  },
  {
   "cell_type": "code",
   "execution_count": null,
   "metadata": {},
   "outputs": [],
   "source": []
  },
  {
   "cell_type": "code",
   "execution_count": null,
   "metadata": {},
   "outputs": [],
   "source": []
  },
  {
   "cell_type": "code",
   "execution_count": null,
   "metadata": {},
   "outputs": [],
   "source": []
  },
  {
   "cell_type": "code",
   "execution_count": null,
   "metadata": {},
   "outputs": [],
   "source": []
  },
  {
   "cell_type": "code",
   "execution_count": null,
   "metadata": {},
   "outputs": [],
   "source": []
  },
  {
   "cell_type": "code",
   "execution_count": null,
   "metadata": {},
   "outputs": [],
   "source": []
  },
  {
   "cell_type": "markdown",
   "metadata": {},
   "source": [
    "Let's start doing this computationally:"
   ]
  },
  {
   "cell_type": "code",
   "execution_count": 4,
   "metadata": {
    "ExecuteTime": {
     "end_time": "2023-03-14T21:52:42.409524Z",
     "start_time": "2023-03-14T21:52:42.405530Z"
    }
   },
   "outputs": [
    {
     "name": "stdout",
     "output_type": "stream",
     "text": [
      "Option 1: -0.5121666666666668\n",
      "Option 2: nan\n",
      "Option 3: -0.2785999999999999\n",
      "Option 4: -0.804125\n"
     ]
    }
   ],
   "source": [
    "N = ys.size\n",
    "option_1 = np.sum(ys) / N\n",
    "#option_2 = np.sum(ys - ns)\n",
    "option_2 = np.nan\n",
    "option_3 = 1./np.sum(var) * np.sum(var * ys)\n",
    "option_4 = 1./np.sum(1/var) * np.sum(ys / var)\n",
    "options = [option_1, option_2, option_3, option_4]\n",
    "for cnt,option in enumerate(options):\n",
    "    print('Option %d:' % (cnt+1), option)"
   ]
  },
  {
   "cell_type": "code",
   "execution_count": null,
   "metadata": {},
   "outputs": [],
   "source": []
  },
  {
   "cell_type": "code",
   "execution_count": null,
   "metadata": {},
   "outputs": [],
   "source": []
  },
  {
   "cell_type": "code",
   "execution_count": null,
   "metadata": {},
   "outputs": [],
   "source": []
  },
  {
   "cell_type": "code",
   "execution_count": null,
   "metadata": {},
   "outputs": [],
   "source": []
  },
  {
   "cell_type": "code",
   "execution_count": null,
   "metadata": {},
   "outputs": [],
   "source": []
  },
  {
   "cell_type": "markdown",
   "metadata": {},
   "source": [
    "So what was the answer? $\\mu = -2$"
   ]
  },
  {
   "cell_type": "code",
   "execution_count": 5,
   "metadata": {
    "ExecuteTime": {
     "end_time": "2023-03-14T21:53:37.153394Z",
     "start_time": "2023-03-14T21:53:37.150698Z"
    }
   },
   "outputs": [
    {
     "name": "stdout",
     "output_type": "stream",
     "text": [
      "Option 1: 1.4878333333333331\n",
      "Option 2: nan\n",
      "Option 3: 1.7214\n",
      "Option 4: 1.195875\n"
     ]
    }
   ],
   "source": [
    "mu = -2\n",
    "for cnt, option in enumerate(options):\n",
    "    print('Option %d:' % (cnt+1), np.abs(option - mu))"
   ]
  },
  {
   "cell_type": "markdown",
   "metadata": {},
   "source": [
    "The lesson here (which becomes more dramatic for increased $N$) is that *inverse variance* weighting is the most\n",
    "sensitive weighting scheme: it minimizes the variance of the final answer.\n",
    "\n",
    "For a proof, see https://en.wikipedia.org/wiki/Inverse-variance_weighting#Derivation\n"
   ]
  },
  {
   "cell_type": "markdown",
   "metadata": {},
   "source": [
    "## The Big(ger) Guns\n",
    "\n",
    "If you have a linear problem you are trying to solve (or if you can linearize it), you can do *much* better than this iterative mumbo-jumbo.  You can solve it in one shot!  Let's go back to our $y_i = mx_i +b + n_i$ example, but extend it to two dimensions: $z_i = ax_i+by_i+c + n_i$\n",
    "\n",
    "You know what $x_i$ and $y_i$ are (they are the coordinates of your measurement), and you measured $z_i$.  It turns out you can frame the measurements you made as a matrix multiplication:\n",
    "\n",
    "\\begin{equation}\n",
    "\\left( \\begin{smallmatrix} x_0&y_0&1 \\\\ x_1&y_1&1 \\\\ &\\dots& \\\\ x_i & y_i & 1 \\end{smallmatrix} \\right)\n",
    "\\left( \\begin{smallmatrix} a \\\\ b \\\\ c \\end{smallmatrix}\\right)\n",
    "=\n",
    "\\left( \\begin{smallmatrix} z_0 \\\\ z_1 \\\\ \\dots \\\\ z_i \\end{smallmatrix}\\right)\n",
    "\\end{equation}\n",
    "\n",
    "Let's define the first matrix to be $\\mathbf{A}$, the second vector (our parameters to solve for) as $\\vec p$, and our measurements $\\vec z$.  Then the above equation reads:\n",
    "\\begin{equation}\n",
    "\\mathbf{A}\\cdot\\vec p = \\vec z\n",
    "\\end{equation}\n",
    "Because $\\mathbf{A}$ is not a square matrix, it is not generally invertible, but $\\mathbf{A}^\\dagger \\mathbf{A}$ is.  It will be, in this case, a 3x3 matrix.  This means we can re-write the above as:\n",
    "\\begin{equation}\n",
    "\\mathbf{A}^\\dagger\\mathbf{A}\\cdot\\vec p = \\mathbf{A}^\\dagger\\vec z\n",
    "\\end{equation}\n",
    "And then, constructing the matrix inverse $(\\mathbf{A}^\\dagger\\mathbf{A})^{-1}$, and applying to both sides, we have:\n",
    "\\begin{equation}\n",
    "\\vec p = (\\mathbf{A}^\\dagger\\mathbf{A})^{-1}\\mathbf{A}^\\dagger\\vec z\n",
    "\\end{equation}\n",
    "\n",
    "The final flourish is, if not all measurements have the same noise, to do inverse-variance weighting.  If we assume our noise for each measurement is independent, we can write down a noise matrix $\\mathbf{N}$ that is diagonal and has $\\sigma_i^2$ in each row corresponding\n",
    "to the i$^{\\rm th}$ measurement.  Then $\\mathbf{N}^{-1}$ is the inverse variance weighting.\n",
    "Adding that in at the beginning, we can run through the same math to get the final answer:\n",
    "\\begin{equation}\n",
    "\\vec p = (\\mathbf{A}^\\dagger\\mathbf{N}^{-1}\\mathbf{A})^{-1}\\mathbf{A}^\\dagger\\mathbf{N}^{-1}\\vec z\n",
    "\\end{equation}"
   ]
  },
  {
   "cell_type": "code",
   "execution_count": 6,
   "metadata": {
    "ExecuteTime": {
     "end_time": "2023-03-14T21:53:51.558343Z",
     "start_time": "2023-03-14T21:53:51.555242Z"
    }
   },
   "outputs": [
    {
     "name": "stdout",
     "output_type": "stream",
     "text": [
      "\n",
      "    Return the least-squares solution to a linear matrix equation.\n",
      "\n",
      "    Computes the vector `x` that approximately solves the equation\n",
      "    ``a @ x = b``. The equation may be under-, well-, or over-determined\n",
      "    (i.e., the number of linearly independent rows of `a` can be less than,\n",
      "    equal to, or greater than its number of linearly independent columns).\n",
      "    If `a` is square and of full rank, then `x` (but for round-off error)\n",
      "    is the \"exact\" solution of the equation. Else, `x` minimizes the\n",
      "    Euclidean 2-norm :math:`||b - ax||`. If there are multiple minimizing\n",
      "    solutions, the one with the smallest 2-norm :math:`||x||` is returned.\n",
      "\n",
      "    Parameters\n",
      "    ----------\n",
      "    a : (M, N) array_like\n",
      "        \"Coefficient\" matrix.\n",
      "    b : {(M,), (M, K)} array_like\n",
      "        Ordinate or \"dependent variable\" values. If `b` is two-dimensional,\n",
      "        the least-squares solution is calculated for each of the `K` columns\n",
      "        of `b`.\n",
      "    rcond : float, optional\n",
      "        Cut-off ratio for small singular values of `a`.\n",
      "        For the purposes of rank determination, singular values are treated\n",
      "        as zero if they are smaller than `rcond` times the largest singular\n",
      "        value of `a`.\n",
      "\n",
      "        .. versionchanged:: 1.14.0\n",
      "           If not set, a FutureWarning is given. The previous default\n",
      "           of ``-1`` will use the machine precision as `rcond` parameter,\n",
      "           the new default will use the machine precision times `max(M, N)`.\n",
      "           To silence the warning and use the new default, use ``rcond=None``,\n",
      "           to keep using the old behavior, use ``rcond=-1``.\n",
      "\n",
      "    Returns\n",
      "    -------\n",
      "    x : {(N,), (N, K)} ndarray\n",
      "        Least-squares solution. If `b` is two-dimensional,\n",
      "        the solutions are in the `K` columns of `x`.\n",
      "    residuals : {(1,), (K,), (0,)} ndarray\n",
      "        Sums of squared residuals: Squared Euclidean 2-norm for each column in\n",
      "        ``b - a @ x``.\n",
      "        If the rank of `a` is < N or M <= N, this is an empty array.\n",
      "        If `b` is 1-dimensional, this is a (1,) shape array.\n",
      "        Otherwise the shape is (K,).\n",
      "    rank : int\n",
      "        Rank of matrix `a`.\n",
      "    s : (min(M, N),) ndarray\n",
      "        Singular values of `a`.\n",
      "\n",
      "    Raises\n",
      "    ------\n",
      "    LinAlgError\n",
      "        If computation does not converge.\n",
      "\n",
      "    See Also\n",
      "    --------\n",
      "    scipy.linalg.lstsq : Similar function in SciPy.\n",
      "\n",
      "    Notes\n",
      "    -----\n",
      "    If `b` is a matrix, then all array results are returned as matrices.\n",
      "\n",
      "    Examples\n",
      "    --------\n",
      "    Fit a line, ``y = mx + c``, through some noisy data-points:\n",
      "\n",
      "    >>> x = np.array([0, 1, 2, 3])\n",
      "    >>> y = np.array([-1, 0.2, 0.9, 2.1])\n",
      "\n",
      "    By examining the coefficients, we see that the line should have a\n",
      "    gradient of roughly 1 and cut the y-axis at, more or less, -1.\n",
      "\n",
      "    We can rewrite the line equation as ``y = Ap``, where ``A = [[x 1]]``\n",
      "    and ``p = [[m], [c]]``.  Now use `lstsq` to solve for `p`:\n",
      "\n",
      "    >>> A = np.vstack([x, np.ones(len(x))]).T\n",
      "    >>> A\n",
      "    array([[ 0.,  1.],\n",
      "           [ 1.,  1.],\n",
      "           [ 2.,  1.],\n",
      "           [ 3.,  1.]])\n",
      "\n",
      "    >>> m, c = np.linalg.lstsq(A, y, rcond=None)[0]\n",
      "    >>> m, c\n",
      "    (1.0 -0.95) # may vary\n",
      "\n",
      "    Plot the data along with the fitted line:\n",
      "\n",
      "    >>> import matplotlib.pyplot as plt\n",
      "    >>> _ = plt.plot(x, y, 'o', label='Original data', markersize=10)\n",
      "    >>> _ = plt.plot(x, m*x + c, 'r', label='Fitted line')\n",
      "    >>> _ = plt.legend()\n",
      "    >>> plt.show()\n",
      "\n",
      "    \n"
     ]
    }
   ],
   "source": [
    "print(np.linalg.lstsq.__doc__)"
   ]
  },
  {
   "cell_type": "code",
   "execution_count": 7,
   "metadata": {
    "ExecuteTime": {
     "end_time": "2023-03-14T21:53:51.707490Z",
     "start_time": "2023-03-14T21:53:51.692015Z"
    }
   },
   "outputs": [
    {
     "name": "stdout",
     "output_type": "stream",
     "text": [
      "(array([2.02326413, 0.775513  ]), array([2.8835783]), 2, array([3.16227766, 2.23606798]))\n"
     ]
    }
   ],
   "source": [
    "xs = np.array([-2, -1, 0, 1, 2], dtype=float)\n",
    "ys = np.array([-4.0761021 , -0.61376301,  0.96543424,  3.7373177 ,  3.86467818])\n",
    "A = np.array([[-2,1],\n",
    "              [-1,1],\n",
    "              [ 0,1],\n",
    "              [ 1,1],\n",
    "              [ 2,1]])\n",
    "print(np.linalg.lstsq(A, ys, rcond=None))"
   ]
  },
  {
   "cell_type": "code",
   "execution_count": 15,
   "metadata": {
    "ExecuteTime": {
     "end_time": "2023-03-14T22:08:04.594185Z",
     "start_time": "2023-03-14T22:08:04.590046Z"
    }
   },
   "outputs": [],
   "source": [
    "import linsolve"
   ]
  },
  {
   "cell_type": "code",
   "execution_count": 20,
   "metadata": {
    "ExecuteTime": {
     "end_time": "2023-03-14T22:09:16.974968Z",
     "start_time": "2023-03-14T22:09:16.969625Z"
    }
   },
   "outputs": [],
   "source": [
    "data = {'a*x+y+z': 2., 'x-y-z':42}\n",
    "ls = linsolve.LinearSolver(data, a=1)\n",
    "ans = ls.solve()"
   ]
  },
  {
   "cell_type": "code",
   "execution_count": 21,
   "metadata": {
    "ExecuteTime": {
     "end_time": "2023-03-14T22:09:18.056037Z",
     "start_time": "2023-03-14T22:09:18.051064Z"
    }
   },
   "outputs": [
    {
     "name": "stdout",
     "output_type": "stream",
     "text": [
      "{'x': 14.666666, 'y': -13.666667, 'z': -13.666667}\n"
     ]
    }
   ],
   "source": [
    "print(ans)"
   ]
  },
  {
   "cell_type": "code",
   "execution_count": 22,
   "metadata": {
    "ExecuteTime": {
     "end_time": "2023-03-14T22:09:23.558140Z",
     "start_time": "2023-03-14T22:09:23.552987Z"
    }
   },
   "outputs": [],
   "source": [
    "data = {'x+c*y': np.array([3,3,4]), 'd*x-y':np.array([3,5,5])}"
   ]
  },
  {
   "cell_type": "code",
   "execution_count": 23,
   "metadata": {
    "ExecuteTime": {
     "end_time": "2023-03-14T22:09:25.357710Z",
     "start_time": "2023-03-14T22:09:25.354676Z"
    }
   },
   "outputs": [],
   "source": [
    "ls = linsolve.LinearSolver(data, c=10, d=22)"
   ]
  },
  {
   "cell_type": "code",
   "execution_count": 24,
   "metadata": {
    "ExecuteTime": {
     "end_time": "2023-03-14T22:10:04.424573Z",
     "start_time": "2023-03-14T22:10:04.410859Z"
    }
   },
   "outputs": [
    {
     "data": {
      "text/plain": [
       "{'x': array([0.14932129, 0.23981903, 0.2443439 ], dtype=float32),\n",
       " 'y': array([0.28506786, 0.27601808, 0.3755656 ], dtype=float32)}"
      ]
     },
     "execution_count": 24,
     "metadata": {},
     "output_type": "execute_result"
    }
   ],
   "source": [
    "ls.solve()"
   ]
  },
  {
   "cell_type": "code",
   "execution_count": 25,
   "metadata": {
    "ExecuteTime": {
     "end_time": "2023-03-14T22:10:05.060509Z",
     "start_time": "2023-03-14T22:10:05.043660Z"
    }
   },
   "outputs": [
    {
     "data": {
      "text/plain": [
       "{'x': 8.95238208770752, 'y': 0.6190475225448608}"
      ]
     },
     "execution_count": 25,
     "metadata": {},
     "output_type": "execute_result"
    }
   ],
   "source": [
    "ls = linsolve.LinProductSolver({'x*y+6*y*y':10, 'x*x+5*y':20}, {'x':1, 'y':1})\n",
    "ls.solve()"
   ]
  },
  {
   "cell_type": "code",
   "execution_count": null,
   "metadata": {},
   "outputs": [],
   "source": []
  },
  {
   "cell_type": "code",
   "execution_count": null,
   "metadata": {},
   "outputs": [],
   "source": []
  }
 ],
 "metadata": {
  "kernelspec": {
   "display_name": "Python 3 (ipykernel)",
   "language": "python",
   "name": "python3"
  },
  "language_info": {
   "codemirror_mode": {
    "name": "ipython",
    "version": 3
   },
   "file_extension": ".py",
   "mimetype": "text/x-python",
   "name": "python",
   "nbconvert_exporter": "python",
   "pygments_lexer": "ipython3",
   "version": "3.10.12"
  }
 },
 "nbformat": 4,
 "nbformat_minor": 2
}

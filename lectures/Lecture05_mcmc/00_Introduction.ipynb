{
 "cells": [
  {
   "cell_type": "markdown",
   "metadata": {},
   "source": [
    "# Meeting/Lecture 5 - Sep 18\n",
    "\n",
    "## Agenda\n",
    " \n",
    "* Introduction (this notebook, *00_Introduction*)\n",
    "* Bayes Refresher\n",
    "    *  $p(\\theta | X) \\propto p(X | \\theta) \\cdot p(\\theta)$\n",
    "    *  $p(X | \\theta)$ is the likelihood (think: agreement of data with your theory)\n",
    "    *  $p(\\theta)$ is the prior\n",
    "* Intro to MCMC (*01_MCMC*)\n",
    "* Lab 1 work time/discussion (if time)\n",
    " \n",
    "\n",
    "## Getting these notebooks \n",
    "```bash\n",
    "git clone https://github.com/ucb-datalab/course_materials_fall2024.git\n",
    "cd course_materials_fall2024\n",
    "jupyter notebook\n",
    "```"
   ]
  },
  {
   "cell_type": "code",
   "execution_count": null,
   "metadata": {},
   "outputs": [],
   "source": []
  }
 ],
 "metadata": {
  "kernelspec": {
   "display_name": "Python 3 (ipykernel)",
   "language": "python",
   "name": "python3"
  },
  "language_info": {
   "codemirror_mode": {
    "name": "ipython",
    "version": 3
   },
   "file_extension": ".py",
   "mimetype": "text/x-python",
   "name": "python",
   "nbconvert_exporter": "python",
   "pygments_lexer": "ipython3",
   "version": "3.11.9"
  }
 },
 "nbformat": 4,
 "nbformat_minor": 4
}

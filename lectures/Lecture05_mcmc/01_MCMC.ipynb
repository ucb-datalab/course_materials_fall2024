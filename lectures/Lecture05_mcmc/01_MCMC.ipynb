{
 "cells": [
  {
   "cell_type": "code",
   "execution_count": 1,
   "metadata": {
    "execution": {
     "iopub.execute_input": "2024-09-18T14:46:19.341428Z",
     "iopub.status.busy": "2024-09-18T14:46:19.341235Z",
     "iopub.status.idle": "2024-09-18T14:46:19.357202Z",
     "shell.execute_reply": "2024-09-18T14:46:19.356600Z",
     "shell.execute_reply.started": "2024-09-18T14:46:19.341411Z"
    }
   },
   "outputs": [
    {
     "data": {
      "text/html": [
       "\n",
       "<script src=\"https://stackpath.bootstrapcdn.com/bootstrap/4.3.1/js/bootstrap.min.js\" integrity=\"sha384-JjSmVgyd0p3pXB1rRibZUAYoIIy6OrQ6VrjIEaFf/nJGzIxFDsf4x0xIM+B07jRM\" crossorigin=\"anonymous\"></script>\n",
       "\n",
       "<style>\n",
       "\n",
       "@import url(https://fonts.googleapis.com/css?family=Open+Sans);body{\n",
       "   font-family: 'Open Sans';\n",
       "   font-size: 125%;\n",
       "}\n",
       "\n",
       ".talk_title\n",
       "{\n",
       "  color: #498AF3;\n",
       "  font-size: 275%;\n",
       "  font-weight:bold;\n",
       "  line-height: 1.3; \n",
       "  margin: 10px 50px 10px;\n",
       "  }\n",
       "\n",
       ".subtitle\n",
       "{\n",
       "  color: #386BBC;\n",
       "  font-size: 180%;\n",
       "  font-weight:bold;\n",
       "  line-height: 1.2; \n",
       "  margin: 20px 50px 20px;\n",
       "  }\n",
       "\n",
       ".rendered_html h1\n",
       "{\n",
       "  color: #498AF3;\n",
       "  line-height: 1.2; \n",
       "  margin: 0.15em 0em 0.5em;\n",
       "  page-break-before: always;\n",
       "  text-align: center;\n",
       "  }\n",
       "\n",
       "\n",
       ".center\n",
       "{\n",
       "  text-align: center;\n",
       "  }\n",
       "\n",
       ".nb_link\n",
       "{\n",
       "    padding-bottom: 0.5em;\n",
       "}\n",
       "\n",
       "</style>"
      ],
      "text/plain": [
       "<IPython.core.display.HTML object>"
      ]
     },
     "metadata": {},
     "output_type": "display_data"
    }
   ],
   "source": [
    "%run ../talktools.py"
   ]
  },
  {
   "cell_type": "markdown",
   "metadata": {},
   "source": [
    "# MCMC for Bayesian Inference\n",
    "\n",
    "<font color=\"grey\">AY128/256 (UC Berkeley 2018$-$2024)</font>\n",
    "\n",
    "As we just saw in the Bayes intro, there are some cases where we can get a closed/analytic form of the posterior, but many examples we cannot get a closed form. Instead we need to sample the posterior numerically.\n",
    "\n",
    "- Markov Chain Monte Carlo: Stochastic methods useful for sampling from the target posterior distribution\n",
    "\n",
    "- Can be implmented where conjugacy does not hold and grid appoximations fail\n",
    "\n",
    "- Can work in high dimensions\n",
    "\n",
    "- Iterative: we must decide when convergance has happened\n",
    "\n",
    "- Some Popular methods: [Metropolis-Hastings](https://en.wikipedia.org/wiki/Metropolis%E2%80%93Hastings_algorithm), [NUTS (No U-Turns)](https://arxiv.org/abs/1111.4246), [Hessian-Hamiltonian](https://people.csail.mit.edu/tzumao/h2mc/)..."
   ]
  },
  {
   "cell_type": "markdown",
   "metadata": {},
   "source": [
    "<u>Idea</u>: Suppose that sampling from the posterior $p(\\theta|$**X**) is hard but that we can somehow generate a [Markov chain](http://setosa.io/ev/markov-chains/) $\\{\\theta(t), t \\in T\\}$ with stationary distribution $p(\\theta|$**X**)\n",
    "\n",
    "- We want to set up a chain that will take us to the stationary distribution $\\pi = p(\\theta|$**X**)\n",
    "\n",
    "- Once we find such a chain, we will start from some initial guess $\\theta^0$ and tun the chain for a large number of steps until it converged to $\\pi$\n",
    "\n",
    "- After convergence we run a bunch more steps of the chain and use those as draws from $p(\\theta|$**X**).\n",
    "\n",
    "- All MCMC methods are based on this idea. The differences are in how the Markov chain transitions are created."
   ]
  },
  {
   "cell_type": "markdown",
   "metadata": {},
   "source": [
    "<img src=\"data/ma.png\">"
   ]
  },
  {
   "cell_type": "markdown",
   "metadata": {},
   "source": [
    "<img src=\"data/ma1.png\">"
   ]
  },
  {
   "cell_type": "markdown",
   "metadata": {},
   "source": [
    "We can visualize different approaches to sampling [here](https://chi-feng.github.io/mcmc-demo/app.html#AdaptiveMH,standard)."
   ]
  },
  {
   "cell_type": "markdown",
   "metadata": {},
   "source": [
    "## Useful, pedagogical paper on MCMC in Astro:\n",
    "### [Hogg & Foreman-Mackey 2018](https://ui.adsabs.harvard.edu/abs/2018ApJS..236...11H/abstract)"
   ]
  },
  {
   "cell_type": "markdown",
   "metadata": {},
   "source": [
    "## MCMC with PyMC\n",
    "https://www.pymc.io\n",
    "\n",
    "<img width=\"20%\" src=\"https://raw.githubusercontent.com/pymc-devs/brand/main/pymc/pymc_logos/PyMC_banner.svg\">\n",
    "\n",
    "https://www.pymc.io/projects/examples/\n",
    "\n",
    "```\n",
    "conda create -c conda-forge -n pymc_env \"pymc>=5\"\n",
    "conda activate pymc_env\n",
    "```\n",
    "\n",
    "or (I believe this will also work if you don't use conda as your python distribution)\n",
    "\n",
    "```\n",
    "pip install pymc\n",
    "pip install arviv\n",
    "```\n",
    "\n",
    "PyMC is the most widely used Markov chain Monte Carlo module in Python\n",
    "\n",
    "- It allows straightforward coding of probability models and posterior sampling of those models with standard (optimized) MCMC algorithms\n",
    "- Large and complicated (hierarchical) models can be easily coded in PyMC\n",
    "- Convergence diagnostics and automatic tuning are provided \n",
    "- Users can input custom probability distributions and fitting algorithms \n",
    "- Great documentation"
   ]
  },
  {
   "cell_type": "markdown",
   "metadata": {},
   "source": [
    "Let's look at the Presidental polling again:"
   ]
  },
  {
   "cell_type": "code",
   "execution_count": 14,
   "metadata": {
    "execution": {
     "iopub.execute_input": "2024-09-18T14:49:53.139458Z",
     "iopub.status.busy": "2024-09-18T14:49:53.138426Z",
     "iopub.status.idle": "2024-09-18T14:49:53.318606Z",
     "shell.execute_reply": "2024-09-18T14:49:53.318004Z",
     "shell.execute_reply.started": "2024-09-18T14:49:53.139361Z"
    }
   },
   "outputs": [
    {
     "data": {
      "text/plain": [
       "Text(0.5, 1.0, 'Posterior distribution: Candidate A, 2024')"
      ]
     },
     "execution_count": 14,
     "metadata": {},
     "output_type": "execute_result"
    },
    {
     "data": {
      "image/png": "[encoded data removed]",
      "text/plain": [
       "<Figure size 576x576 with 1 Axes>"
      ]
     },
     "metadata": {
      "needs_background": "light"
     },
     "output_type": "display_data"
    }
   ],
   "source": [
    "import numpy as np\n",
    "from scipy import stats\n",
    "import matplotlib.pyplot as plt\n",
    "%matplotlib inline\n",
    "import seaborn as sns\n",
    "sns.set_context(\"poster\")\n",
    "\n",
    "a = 466\n",
    "n = 1260\n",
    "\n",
    "alpha = 0.5\n",
    "beta = 0.5\n",
    "\n",
    "x_theta = np.linspace(0, 1, 101)\n",
    "fig, ax = plt.subplots(figsize=(8,8))\n",
    "\n",
    "p_theta = stats.beta(alpha + a, beta + n - a).pdf(x_theta)\n",
    "ax.plot(x_theta, p_theta, linewidth=3.,label=f\"{alpha}, {beta}\")\n",
    "    \n",
    "ax.legend()\n",
    "ax.set_ylim([0, max(p_theta)])\n",
    "ax.set_xlabel(r\"$\\theta$\")\n",
    "ax.set_ylabel(r\"$p(\\theta)$\")\n",
    "ax.set_title(\"Posterior distribution: Candidate A, 2024\")"
   ]
  },
  {
   "cell_type": "code",
   "execution_count": 3,
   "metadata": {
    "execution": {
     "iopub.execute_input": "2024-09-18T14:46:48.888980Z",
     "iopub.status.busy": "2024-09-18T14:46:48.887998Z",
     "iopub.status.idle": "2024-09-18T14:46:49.867168Z",
     "shell.execute_reply": "2024-09-18T14:46:49.866566Z",
     "shell.execute_reply.started": "2024-09-18T14:46:48.888921Z"
    }
   },
   "outputs": [],
   "source": [
    "import pymc as pm\n",
    "import arviz as az\n",
    "from arviz import plot_trace "
   ]
  },
  {
   "cell_type": "code",
   "execution_count": 4,
   "metadata": {
    "execution": {
     "iopub.execute_input": "2024-09-18T14:46:51.087657Z",
     "iopub.status.busy": "2024-09-18T14:46:51.086833Z",
     "iopub.status.idle": "2024-09-18T14:46:51.114067Z",
     "shell.execute_reply": "2024-09-18T14:46:51.113457Z",
     "shell.execute_reply.started": "2024-09-18T14:46:51.087612Z"
    }
   },
   "outputs": [],
   "source": [
    "with pm.Model() as model:\n",
    "    theta = pm.Beta('theta', alpha, beta)\n",
    "    X = pm.Binomial('X', n, theta, observed=a)"
   ]
  },
  {
   "cell_type": "code",
   "execution_count": 5,
   "metadata": {
    "execution": {
     "iopub.execute_input": "2024-09-18T14:46:51.974414Z",
     "iopub.status.busy": "2024-09-18T14:46:51.972023Z",
     "iopub.status.idle": "2024-09-18T14:46:52.027085Z",
     "shell.execute_reply": "2024-09-18T14:46:52.026623Z",
     "shell.execute_reply.started": "2024-09-18T14:46:51.974314Z"
    }
   },
   "outputs": [
    {
     "data": {
      "text/plain": [
       "\u001b[0;31mInit signature:\u001b[0m \u001b[0mpm\u001b[0m\u001b[0;34m.\u001b[0m\u001b[0mBinomial\u001b[0m\u001b[0;34m(\u001b[0m\u001b[0mname\u001b[0m\u001b[0;34m,\u001b[0m \u001b[0;34m*\u001b[0m\u001b[0margs\u001b[0m\u001b[0;34m,\u001b[0m \u001b[0;34m**\u001b[0m\u001b[0mkwargs\u001b[0m\u001b[0;34m)\u001b[0m\u001b[0;34m\u001b[0m\u001b[0;34m\u001b[0m\u001b[0m\n",
       "\u001b[0;31mDocstring:\u001b[0m     \n",
       "Binomial log-likelihood.\n",
       "\n",
       "The discrete probability distribution of the number of successes\n",
       "in a sequence of n independent yes/no experiments, each of which\n",
       "yields success with probability p.\n",
       "The pmf of this distribution is\n",
       "\n",
       ".. math:: f(x \\mid n, p) = \\binom{n}{x} p^x (1-p)^{n-x}\n",
       "\n",
       ".. plot::\n",
       "    :context: close-figs\n",
       "\n",
       "    import matplotlib.pyplot as plt\n",
       "    import numpy as np\n",
       "    import scipy.stats as st\n",
       "    import arviz as az\n",
       "    plt.style.use('arviz-darkgrid')\n",
       "    x = np.arange(0, 22)\n",
       "    ns = [10, 17]\n",
       "    ps = [0.5, 0.7]\n",
       "    for n, p in zip(ns, ps):\n",
       "        pmf = st.binom.pmf(x, n, p)\n",
       "        plt.plot(x, pmf, '-o', label='n = {}, p = {}'.format(n, p))\n",
       "    plt.xlabel('x', fontsize=14)\n",
       "    plt.ylabel('f(x)', fontsize=14)\n",
       "    plt.legend(loc=1)\n",
       "    plt.show()\n",
       "\n",
       "========  ==========================================\n",
       "Support   :math:`x \\in \\{0, 1, \\ldots, n\\}`\n",
       "Mean      :math:`n p`\n",
       "Variance  :math:`n p (1 - p)`\n",
       "========  ==========================================\n",
       "\n",
       "Parameters\n",
       "----------\n",
       "n : tensor_like of int\n",
       "    Number of Bernoulli trials (n >= 0).\n",
       "p : tensor_like of float\n",
       "    Probability of success in each trial (0 < p < 1).\n",
       "logit_p : tensor_like of float\n",
       "    Alternative log odds for the probability of success.\n",
       "\u001b[0;31mFile:\u001b[0m           ~/.local/lib/python3.10/site-packages/pymc/distributions/discrete.py\n",
       "\u001b[0;31mType:\u001b[0m           DistributionMeta\n",
       "\u001b[0;31mSubclasses:\u001b[0m     "
      ]
     },
     "metadata": {},
     "output_type": "display_data"
    }
   ],
   "source": [
    "pm.Binomial?"
   ]
  },
  {
   "cell_type": "code",
   "execution_count": 6,
   "metadata": {
    "execution": {
     "iopub.execute_input": "2024-09-18T14:46:52.725552Z",
     "iopub.status.busy": "2024-09-18T14:46:52.725287Z",
     "iopub.status.idle": "2024-09-18T14:47:12.190352Z",
     "shell.execute_reply": "2024-09-18T14:47:12.189744Z",
     "shell.execute_reply.started": "2024-09-18T14:46:52.725536Z"
    }
   },
   "outputs": [
    {
     "name": "stderr",
     "output_type": "stream",
     "text": [
      "Auto-assigning NUTS sampler...\n",
      "Initializing NUTS using jitter+adapt_diag...\n",
      "Multiprocess sampling (4 chains in 4 jobs)\n",
      "NUTS: [theta]\n"
     ]
    },
    {
     "data": {
      "application/vnd.jupyter.widget-view+json": {
       "model_id": "ba5bf35b060543ba960d2dcb39062c13",
       "version_major": 2,
       "version_minor": 0
      },
      "text/plain": [
       "Output()"
      ]
     },
     "metadata": {},
     "output_type": "display_data"
    },
    {
     "data": {
      "text/html": [
       "<pre style=\"white-space:pre;overflow-x:auto;line-height:normal;font-family:Menlo,'DejaVu Sans Mono',consolas,'Courier New',monospace\"></pre>\n"
      ],
      "text/plain": []
     },
     "metadata": {},
     "output_type": "display_data"
    },
    {
     "name": "stderr",
     "output_type": "stream",
     "text": [
      "Sampling 4 chains for 1_000 tune and 3_000 draw iterations (4_000 + 12_000 draws total) took 2 seconds.\n"
     ]
    }
   ],
   "source": [
    "with model:\n",
    "    trace = pm.sample(3000, tune=1000, return_inferencedata=False)"
   ]
  },
  {
   "cell_type": "code",
   "execution_count": 7,
   "metadata": {
    "execution": {
     "iopub.execute_input": "2024-09-18T14:47:12.191640Z",
     "iopub.status.busy": "2024-09-18T14:47:12.191413Z",
     "iopub.status.idle": "2024-09-18T14:47:12.195939Z",
     "shell.execute_reply": "2024-09-18T14:47:12.195333Z",
     "shell.execute_reply.started": "2024-09-18T14:47:12.191624Z"
    }
   },
   "outputs": [
    {
     "data": {
      "text/plain": [
       "array([0.36287715, 0.36428012, 0.36428012, ..., 0.36533959, 0.36533959,\n",
       "       0.36579544])"
      ]
     },
     "execution_count": 7,
     "metadata": {},
     "output_type": "execute_result"
    }
   ],
   "source": [
    "trace['theta']"
   ]
  },
  {
   "cell_type": "code",
   "execution_count": 9,
   "metadata": {
    "execution": {
     "iopub.execute_input": "2024-09-18T14:47:57.054884Z",
     "iopub.status.busy": "2024-09-18T14:47:57.054010Z",
     "iopub.status.idle": "2024-09-18T14:47:57.087854Z",
     "shell.execute_reply": "2024-09-18T14:47:57.086476Z",
     "shell.execute_reply.started": "2024-09-18T14:47:57.054806Z"
    }
   },
   "outputs": [
    {
     "data": {
      "text/plain": [
       "\u001b[0;31mSignature:\u001b[0m\n",
       "\u001b[0mplot_trace\u001b[0m\u001b[0;34m(\u001b[0m\u001b[0;34m\u001b[0m\n",
       "\u001b[0;34m\u001b[0m    \u001b[0mdata\u001b[0m\u001b[0;34m:\u001b[0m \u001b[0marviz\u001b[0m\u001b[0;34m.\u001b[0m\u001b[0mdata\u001b[0m\u001b[0;34m.\u001b[0m\u001b[0minference_data\u001b[0m\u001b[0;34m.\u001b[0m\u001b[0mInferenceData\u001b[0m\u001b[0;34m,\u001b[0m\u001b[0;34m\u001b[0m\n",
       "\u001b[0;34m\u001b[0m    \u001b[0mvar_names\u001b[0m\u001b[0;34m:\u001b[0m \u001b[0mOptional\u001b[0m\u001b[0;34m[\u001b[0m\u001b[0mSequence\u001b[0m\u001b[0;34m[\u001b[0m\u001b[0mstr\u001b[0m\u001b[0;34m]\u001b[0m\u001b[0;34m]\u001b[0m \u001b[0;34m=\u001b[0m \u001b[0;32mNone\u001b[0m\u001b[0;34m,\u001b[0m\u001b[0;34m\u001b[0m\n",
       "\u001b[0;34m\u001b[0m    \u001b[0mfilter_vars\u001b[0m\u001b[0;34m:\u001b[0m \u001b[0mOptional\u001b[0m\u001b[0;34m[\u001b[0m\u001b[0mstr\u001b[0m\u001b[0;34m]\u001b[0m \u001b[0;34m=\u001b[0m \u001b[0;32mNone\u001b[0m\u001b[0;34m,\u001b[0m\u001b[0;34m\u001b[0m\n",
       "\u001b[0;34m\u001b[0m    \u001b[0mtransform\u001b[0m\u001b[0;34m:\u001b[0m \u001b[0mOptional\u001b[0m\u001b[0;34m[\u001b[0m\u001b[0mCallable\u001b[0m\u001b[0;34m]\u001b[0m \u001b[0;34m=\u001b[0m \u001b[0;32mNone\u001b[0m\u001b[0;34m,\u001b[0m\u001b[0;34m\u001b[0m\n",
       "\u001b[0;34m\u001b[0m    \u001b[0mcoords\u001b[0m\u001b[0;34m:\u001b[0m \u001b[0mOptional\u001b[0m\u001b[0;34m[\u001b[0m\u001b[0mDict\u001b[0m\u001b[0;34m[\u001b[0m\u001b[0mstr\u001b[0m\u001b[0;34m,\u001b[0m \u001b[0mList\u001b[0m\u001b[0;34m[\u001b[0m\u001b[0mAny\u001b[0m\u001b[0;34m]\u001b[0m\u001b[0;34m]\u001b[0m\u001b[0;34m]\u001b[0m \u001b[0;34m=\u001b[0m \u001b[0;32mNone\u001b[0m\u001b[0;34m,\u001b[0m\u001b[0;34m\u001b[0m\n",
       "\u001b[0;34m\u001b[0m    \u001b[0mdivergences\u001b[0m\u001b[0;34m:\u001b[0m \u001b[0mOptional\u001b[0m\u001b[0;34m[\u001b[0m\u001b[0mstr\u001b[0m\u001b[0;34m]\u001b[0m \u001b[0;34m=\u001b[0m \u001b[0;34m'auto'\u001b[0m\u001b[0;34m,\u001b[0m\u001b[0;34m\u001b[0m\n",
       "\u001b[0;34m\u001b[0m    \u001b[0mkind\u001b[0m\u001b[0;34m:\u001b[0m \u001b[0mOptional\u001b[0m\u001b[0;34m[\u001b[0m\u001b[0mstr\u001b[0m\u001b[0;34m]\u001b[0m \u001b[0;34m=\u001b[0m \u001b[0;34m'trace'\u001b[0m\u001b[0;34m,\u001b[0m\u001b[0;34m\u001b[0m\n",
       "\u001b[0;34m\u001b[0m    \u001b[0mfigsize\u001b[0m\u001b[0;34m:\u001b[0m \u001b[0mOptional\u001b[0m\u001b[0;34m[\u001b[0m\u001b[0mTuple\u001b[0m\u001b[0;34m[\u001b[0m\u001b[0mfloat\u001b[0m\u001b[0;34m,\u001b[0m \u001b[0mfloat\u001b[0m\u001b[0;34m]\u001b[0m\u001b[0;34m]\u001b[0m \u001b[0;34m=\u001b[0m \u001b[0;32mNone\u001b[0m\u001b[0;34m,\u001b[0m\u001b[0;34m\u001b[0m\n",
       "\u001b[0;34m\u001b[0m    \u001b[0mrug\u001b[0m\u001b[0;34m:\u001b[0m \u001b[0mbool\u001b[0m \u001b[0;34m=\u001b[0m \u001b[0;32mFalse\u001b[0m\u001b[0;34m,\u001b[0m\u001b[0;34m\u001b[0m\n",
       "\u001b[0;34m\u001b[0m    \u001b[0mlines\u001b[0m\u001b[0;34m:\u001b[0m \u001b[0mOptional\u001b[0m\u001b[0;34m[\u001b[0m\u001b[0mList\u001b[0m\u001b[0;34m[\u001b[0m\u001b[0mTuple\u001b[0m\u001b[0;34m[\u001b[0m\u001b[0mstr\u001b[0m\u001b[0;34m,\u001b[0m \u001b[0mDict\u001b[0m\u001b[0;34m[\u001b[0m\u001b[0mstr\u001b[0m\u001b[0;34m,\u001b[0m \u001b[0mList\u001b[0m\u001b[0;34m[\u001b[0m\u001b[0mAny\u001b[0m\u001b[0;34m]\u001b[0m\u001b[0;34m]\u001b[0m\u001b[0;34m,\u001b[0m \u001b[0mAny\u001b[0m\u001b[0;34m]\u001b[0m\u001b[0;34m]\u001b[0m\u001b[0;34m]\u001b[0m \u001b[0;34m=\u001b[0m \u001b[0;32mNone\u001b[0m\u001b[0;34m,\u001b[0m\u001b[0;34m\u001b[0m\n",
       "\u001b[0;34m\u001b[0m    \u001b[0mcirc_var_names\u001b[0m\u001b[0;34m:\u001b[0m \u001b[0mOptional\u001b[0m\u001b[0;34m[\u001b[0m\u001b[0mList\u001b[0m\u001b[0;34m[\u001b[0m\u001b[0mstr\u001b[0m\u001b[0;34m]\u001b[0m\u001b[0;34m]\u001b[0m \u001b[0;34m=\u001b[0m \u001b[0;32mNone\u001b[0m\u001b[0;34m,\u001b[0m\u001b[0;34m\u001b[0m\n",
       "\u001b[0;34m\u001b[0m    \u001b[0mcirc_var_units\u001b[0m\u001b[0;34m:\u001b[0m \u001b[0mstr\u001b[0m \u001b[0;34m=\u001b[0m \u001b[0;34m'radians'\u001b[0m\u001b[0;34m,\u001b[0m\u001b[0;34m\u001b[0m\n",
       "\u001b[0;34m\u001b[0m    \u001b[0mcompact\u001b[0m\u001b[0;34m:\u001b[0m \u001b[0mbool\u001b[0m \u001b[0;34m=\u001b[0m \u001b[0;32mTrue\u001b[0m\u001b[0;34m,\u001b[0m\u001b[0;34m\u001b[0m\n",
       "\u001b[0;34m\u001b[0m    \u001b[0mcompact_prop\u001b[0m\u001b[0;34m:\u001b[0m \u001b[0mUnion\u001b[0m\u001b[0;34m[\u001b[0m\u001b[0mstr\u001b[0m\u001b[0;34m,\u001b[0m \u001b[0mMapping\u001b[0m\u001b[0;34m[\u001b[0m\u001b[0mstr\u001b[0m\u001b[0;34m,\u001b[0m \u001b[0mAny\u001b[0m\u001b[0;34m]\u001b[0m\u001b[0;34m,\u001b[0m \u001b[0mNoneType\u001b[0m\u001b[0;34m]\u001b[0m \u001b[0;34m=\u001b[0m \u001b[0;32mNone\u001b[0m\u001b[0;34m,\u001b[0m\u001b[0;34m\u001b[0m\n",
       "\u001b[0;34m\u001b[0m    \u001b[0mcombined\u001b[0m\u001b[0;34m:\u001b[0m \u001b[0mbool\u001b[0m \u001b[0;34m=\u001b[0m \u001b[0;32mFalse\u001b[0m\u001b[0;34m,\u001b[0m\u001b[0;34m\u001b[0m\n",
       "\u001b[0;34m\u001b[0m    \u001b[0mchain_prop\u001b[0m\u001b[0;34m:\u001b[0m \u001b[0mUnion\u001b[0m\u001b[0;34m[\u001b[0m\u001b[0mstr\u001b[0m\u001b[0;34m,\u001b[0m \u001b[0mMapping\u001b[0m\u001b[0;34m[\u001b[0m\u001b[0mstr\u001b[0m\u001b[0;34m,\u001b[0m \u001b[0mAny\u001b[0m\u001b[0;34m]\u001b[0m\u001b[0;34m,\u001b[0m \u001b[0mNoneType\u001b[0m\u001b[0;34m]\u001b[0m \u001b[0;34m=\u001b[0m \u001b[0;32mNone\u001b[0m\u001b[0;34m,\u001b[0m\u001b[0;34m\u001b[0m\n",
       "\u001b[0;34m\u001b[0m    \u001b[0mlegend\u001b[0m\u001b[0;34m:\u001b[0m \u001b[0mbool\u001b[0m \u001b[0;34m=\u001b[0m \u001b[0;32mFalse\u001b[0m\u001b[0;34m,\u001b[0m\u001b[0;34m\u001b[0m\n",
       "\u001b[0;34m\u001b[0m    \u001b[0mplot_kwargs\u001b[0m\u001b[0;34m:\u001b[0m \u001b[0mOptional\u001b[0m\u001b[0;34m[\u001b[0m\u001b[0mDict\u001b[0m\u001b[0;34m[\u001b[0m\u001b[0mstr\u001b[0m\u001b[0;34m,\u001b[0m \u001b[0mAny\u001b[0m\u001b[0;34m]\u001b[0m\u001b[0;34m]\u001b[0m \u001b[0;34m=\u001b[0m \u001b[0;32mNone\u001b[0m\u001b[0;34m,\u001b[0m\u001b[0;34m\u001b[0m\n",
       "\u001b[0;34m\u001b[0m    \u001b[0mfill_kwargs\u001b[0m\u001b[0;34m:\u001b[0m \u001b[0mOptional\u001b[0m\u001b[0;34m[\u001b[0m\u001b[0mDict\u001b[0m\u001b[0;34m[\u001b[0m\u001b[0mstr\u001b[0m\u001b[0;34m,\u001b[0m \u001b[0mAny\u001b[0m\u001b[0;34m]\u001b[0m\u001b[0;34m]\u001b[0m \u001b[0;34m=\u001b[0m \u001b[0;32mNone\u001b[0m\u001b[0;34m,\u001b[0m\u001b[0;34m\u001b[0m\n",
       "\u001b[0;34m\u001b[0m    \u001b[0mrug_kwargs\u001b[0m\u001b[0;34m:\u001b[0m \u001b[0mOptional\u001b[0m\u001b[0;34m[\u001b[0m\u001b[0mDict\u001b[0m\u001b[0;34m[\u001b[0m\u001b[0mstr\u001b[0m\u001b[0;34m,\u001b[0m \u001b[0mAny\u001b[0m\u001b[0;34m]\u001b[0m\u001b[0;34m]\u001b[0m \u001b[0;34m=\u001b[0m \u001b[0;32mNone\u001b[0m\u001b[0;34m,\u001b[0m\u001b[0;34m\u001b[0m\n",
       "\u001b[0;34m\u001b[0m    \u001b[0mhist_kwargs\u001b[0m\u001b[0;34m:\u001b[0m \u001b[0mOptional\u001b[0m\u001b[0;34m[\u001b[0m\u001b[0mDict\u001b[0m\u001b[0;34m[\u001b[0m\u001b[0mstr\u001b[0m\u001b[0;34m,\u001b[0m \u001b[0mAny\u001b[0m\u001b[0;34m]\u001b[0m\u001b[0;34m]\u001b[0m \u001b[0;34m=\u001b[0m \u001b[0;32mNone\u001b[0m\u001b[0;34m,\u001b[0m\u001b[0;34m\u001b[0m\n",
       "\u001b[0;34m\u001b[0m    \u001b[0mtrace_kwargs\u001b[0m\u001b[0;34m:\u001b[0m \u001b[0mOptional\u001b[0m\u001b[0;34m[\u001b[0m\u001b[0mDict\u001b[0m\u001b[0;34m[\u001b[0m\u001b[0mstr\u001b[0m\u001b[0;34m,\u001b[0m \u001b[0mAny\u001b[0m\u001b[0;34m]\u001b[0m\u001b[0;34m]\u001b[0m \u001b[0;34m=\u001b[0m \u001b[0;32mNone\u001b[0m\u001b[0;34m,\u001b[0m\u001b[0;34m\u001b[0m\n",
       "\u001b[0;34m\u001b[0m    \u001b[0mrank_kwargs\u001b[0m\u001b[0;34m:\u001b[0m \u001b[0mOptional\u001b[0m\u001b[0;34m[\u001b[0m\u001b[0mDict\u001b[0m\u001b[0;34m[\u001b[0m\u001b[0mstr\u001b[0m\u001b[0;34m,\u001b[0m \u001b[0mAny\u001b[0m\u001b[0;34m]\u001b[0m\u001b[0;34m]\u001b[0m \u001b[0;34m=\u001b[0m \u001b[0;32mNone\u001b[0m\u001b[0;34m,\u001b[0m\u001b[0;34m\u001b[0m\n",
       "\u001b[0;34m\u001b[0m    \u001b[0mlabeller\u001b[0m\u001b[0;34m=\u001b[0m\u001b[0;32mNone\u001b[0m\u001b[0;34m,\u001b[0m\u001b[0;34m\u001b[0m\n",
       "\u001b[0;34m\u001b[0m    \u001b[0maxes\u001b[0m\u001b[0;34m=\u001b[0m\u001b[0;32mNone\u001b[0m\u001b[0;34m,\u001b[0m\u001b[0;34m\u001b[0m\n",
       "\u001b[0;34m\u001b[0m    \u001b[0mbackend\u001b[0m\u001b[0;34m:\u001b[0m \u001b[0mOptional\u001b[0m\u001b[0;34m[\u001b[0m\u001b[0mstr\u001b[0m\u001b[0;34m]\u001b[0m \u001b[0;34m=\u001b[0m \u001b[0;32mNone\u001b[0m\u001b[0;34m,\u001b[0m\u001b[0;34m\u001b[0m\n",
       "\u001b[0;34m\u001b[0m    \u001b[0mbackend_config\u001b[0m\u001b[0;34m:\u001b[0m \u001b[0mOptional\u001b[0m\u001b[0;34m[\u001b[0m\u001b[0mDict\u001b[0m\u001b[0;34m[\u001b[0m\u001b[0mstr\u001b[0m\u001b[0;34m,\u001b[0m \u001b[0mAny\u001b[0m\u001b[0;34m]\u001b[0m\u001b[0;34m]\u001b[0m \u001b[0;34m=\u001b[0m \u001b[0;32mNone\u001b[0m\u001b[0;34m,\u001b[0m\u001b[0;34m\u001b[0m\n",
       "\u001b[0;34m\u001b[0m    \u001b[0mbackend_kwargs\u001b[0m\u001b[0;34m:\u001b[0m \u001b[0mOptional\u001b[0m\u001b[0;34m[\u001b[0m\u001b[0mDict\u001b[0m\u001b[0;34m[\u001b[0m\u001b[0mstr\u001b[0m\u001b[0;34m,\u001b[0m \u001b[0mAny\u001b[0m\u001b[0;34m]\u001b[0m\u001b[0;34m]\u001b[0m \u001b[0;34m=\u001b[0m \u001b[0;32mNone\u001b[0m\u001b[0;34m,\u001b[0m\u001b[0;34m\u001b[0m\n",
       "\u001b[0;34m\u001b[0m    \u001b[0mshow\u001b[0m\u001b[0;34m:\u001b[0m \u001b[0mOptional\u001b[0m\u001b[0;34m[\u001b[0m\u001b[0mbool\u001b[0m\u001b[0;34m]\u001b[0m \u001b[0;34m=\u001b[0m \u001b[0;32mNone\u001b[0m\u001b[0;34m,\u001b[0m\u001b[0;34m\u001b[0m\n",
       "\u001b[0;34m\u001b[0m\u001b[0;34m)\u001b[0m\u001b[0;34m\u001b[0m\u001b[0;34m\u001b[0m\u001b[0m\n",
       "\u001b[0;31mDocstring:\u001b[0m\n",
       "Plot distribution (histogram or kernel density estimates) and sampled values or rank plot.\n",
       "\n",
       "If `divergences` data is available in `sample_stats`, will plot the location of divergences as\n",
       "dashed vertical lines.\n",
       "\n",
       "Parameters\n",
       "----------\n",
       "data: obj\n",
       "    Any object that can be converted to an :class:`arviz.InferenceData` object\n",
       "    Refer to documentation of :func:`arviz.convert_to_dataset` for details\n",
       "var_names: str or list of str, optional\n",
       "    One or more variables to be plotted. Prefix the variables by ``~`` when you want\n",
       "    to exclude them from the plot.\n",
       "filter_vars: {None, \"like\", \"regex\"}, optional, default=None\n",
       "    If `None` (default), interpret var_names as the real variables names. If \"like\",\n",
       "    interpret var_names as substrings of the real variables names. If \"regex\",\n",
       "    interpret var_names as regular expressions on the real variables names. A la\n",
       "    ``pandas.filter``.\n",
       "coords: dict of {str: slice or array_like}, optional\n",
       "    Coordinates of var_names to be plotted. Passed to :meth:`xarray.Dataset.sel`\n",
       "divergences: {\"bottom\", \"top\", None}, optional\n",
       "    Plot location of divergences on the traceplots.\n",
       "kind: {\"trace\", \"rank_bars\", \"rank_vlines\"}, optional\n",
       "    Choose between plotting sampled values per iteration and rank plots.\n",
       "transform: callable, optional\n",
       "    Function to transform data (defaults to None i.e.the identity function)\n",
       "figsize: tuple of (float, float), optional\n",
       "    If None, size is (12, variables * 2)\n",
       "rug: bool, optional\n",
       "    If True adds a rugplot of samples. Defaults to False. Ignored for 2D KDE.\n",
       "    Only affects continuous variables.\n",
       "lines: list of tuple of (str, dict, array_like), optional\n",
       "    List of (var_name, {'coord': selection}, [line, positions]) to be overplotted as\n",
       "    vertical lines on the density and horizontal lines on the trace.\n",
       "circ_var_names : str or list of str, optional\n",
       "    List of circular variables to account for when plotting KDE.\n",
       "circ_var_units : str\n",
       "    Whether the variables in ``circ_var_names`` are in \"degrees\" or \"radians\".\n",
       "compact: bool, optional\n",
       "    Plot multidimensional variables in a single plot.\n",
       "compact_prop: str or dict {str: array_like}, optional\n",
       "     Defines the property name and the property values to distinguish different\n",
       "    dimensions with compact=True.\n",
       "    When compact=True it defaults to color, it is\n",
       "    ignored otherwise.\n",
       "combined: bool, optional\n",
       "    Flag for combining multiple chains into a single line. If False (default), chains will be\n",
       "    plotted separately.\n",
       "chain_prop: str or dict {str: array_like}, optional\n",
       "    Defines the property name and the property values to distinguish different chains.\n",
       "    If compact=True it defaults to linestyle,\n",
       "    otherwise it uses the color to distinguish\n",
       "    different chains.\n",
       "legend: bool, optional\n",
       "    Add a legend to the figure with the chain color code.\n",
       "plot_kwargs, fill_kwargs, rug_kwargs, hist_kwargs: dict, optional\n",
       "    Extra keyword arguments passed to :func:`arviz.plot_dist`. Only affects continuous\n",
       "    variables.\n",
       "trace_kwargs: dict, optional\n",
       "    Extra keyword arguments passed to :meth:`matplotlib.axes.Axes.plot`\n",
       "labeller : labeller instance, optional\n",
       "    Class providing the method ``make_label_vert`` to generate the labels in the plot titles.\n",
       "    Read the :ref:`label_guide` for more details and usage examples.\n",
       "rank_kwargs : dict, optional\n",
       "    Extra keyword arguments passed to :func:`arviz.plot_rank`\n",
       "axes: axes, optional\n",
       "    Matplotlib axes or bokeh figures.\n",
       "backend: {\"matplotlib\", \"bokeh\"}, optional\n",
       "    Select plotting backend.\n",
       "backend_config: dict, optional\n",
       "    Currently specifies the bounds to use for bokeh axes. Defaults to value set in rcParams.\n",
       "backend_kwargs: dict, optional\n",
       "    These are kwargs specific to the backend being used, passed to\n",
       "    :func:`matplotlib.pyplot.subplots` or\n",
       "    :func:`bokeh.plotting.figure`.\n",
       "show: bool, optional\n",
       "    Call backend show function.\n",
       "\n",
       "Returns\n",
       "-------\n",
       "axes: matplotlib axes or bokeh figures\n",
       "\n",
       "See Also\n",
       "--------\n",
       "plot_rank : Plot rank order statistics of chains.\n",
       "\n",
       "Examples\n",
       "--------\n",
       "Plot a subset variables and select them with partial naming\n",
       "\n",
       ".. plot::\n",
       "    :context: close-figs\n",
       "\n",
       "    >>> import arviz as az\n",
       "    >>> data = az.load_arviz_data('non_centered_eight')\n",
       "    >>> coords = {'school': ['Choate', 'Lawrenceville']}\n",
       "    >>> az.plot_trace(data, var_names=('theta'), filter_vars=\"like\", coords=coords)\n",
       "\n",
       "Show all dimensions of multidimensional variables in the same plot\n",
       "\n",
       ".. plot::\n",
       "    :context: close-figs\n",
       "\n",
       "    >>> az.plot_trace(data, compact=True)\n",
       "\n",
       "Display a rank plot instead of trace\n",
       "\n",
       ".. plot::\n",
       "    :context: close-figs\n",
       "\n",
       "    >>> az.plot_trace(data, var_names=[\"mu\", \"tau\"], kind=\"rank_bars\")\n",
       "\n",
       "Combine all chains into one distribution and select variables with regular expressions\n",
       "\n",
       ".. plot::\n",
       "    :context: close-figs\n",
       "\n",
       "    >>> az.plot_trace(\n",
       "    >>>     data, var_names=('^theta'), filter_vars=\"regex\", coords=coords, combined=True\n",
       "    >>> )\n",
       "\n",
       "\n",
       "Plot reference lines against distribution and trace\n",
       "\n",
       ".. plot::\n",
       "    :context: close-figs\n",
       "\n",
       "    >>> lines = (('theta_t',{'school': \"Choate\"}, [-1]),)\n",
       "    >>> az.plot_trace(data, var_names=('theta_t', 'theta'), coords=coords, lines=lines)\n",
       "\u001b[0;31mFile:\u001b[0m      ~/.local/lib/python3.10/site-packages/arviz/plots/traceplot.py\n",
       "\u001b[0;31mType:\u001b[0m      function"
      ]
     },
     "metadata": {},
     "output_type": "display_data"
    }
   ],
   "source": [
    "plot_trace?"
   ]
  },
  {
   "cell_type": "code",
   "execution_count": 10,
   "metadata": {
    "execution": {
     "iopub.execute_input": "2024-09-18T14:48:09.444993Z",
     "iopub.status.busy": "2024-09-18T14:48:09.444694Z",
     "iopub.status.idle": "2024-09-18T14:48:10.039163Z",
     "shell.execute_reply": "2024-09-18T14:48:10.038515Z",
     "shell.execute_reply.started": "2024-09-18T14:48:09.444977Z"
    }
   },
   "outputs": [
    {
     "data": {
      "image/png": "[encoded data removed]",
      "text/plain": [
       "<Figure size 864x144 with 2 Axes>"
      ]
     },
     "metadata": {
      "needs_background": "light"
     },
     "output_type": "display_data"
    }
   ],
   "source": [
    "with model:\n",
    "    plot_trace(trace['theta'][500:][::5])"
   ]
  },
  {
   "cell_type": "code",
   "execution_count": 11,
   "metadata": {
    "execution": {
     "iopub.execute_input": "2024-09-18T14:48:12.406303Z",
     "iopub.status.busy": "2024-09-18T14:48:12.405647Z",
     "iopub.status.idle": "2024-09-18T14:48:12.509727Z",
     "shell.execute_reply": "2024-09-18T14:48:12.508830Z",
     "shell.execute_reply.started": "2024-09-18T14:48:12.406246Z"
    }
   },
   "outputs": [
    {
     "data": {
      "image/png": "[encoded data removed]",
      "text/plain": [
       "<Figure size 432x288 with 1 Axes>"
      ]
     },
     "metadata": {
      "needs_background": "light"
     },
     "output_type": "display_data"
    }
   ],
   "source": [
    "with model:\n",
    "    az.plot_posterior(trace['theta'][500:][::5])"
   ]
  },
  {
   "cell_type": "markdown",
   "metadata": {},
   "source": [
    "Note: we started sampling after a burn-in period of a thousand steps. We also \"pruned\" the result by taking only every 5th step (helps ensure some level of independence between samples). "
   ]
  },
  {
   "cell_type": "code",
   "execution_count": 12,
   "metadata": {
    "execution": {
     "iopub.execute_input": "2024-09-18T14:48:26.836816Z",
     "iopub.status.busy": "2024-09-18T14:48:26.836573Z",
     "iopub.status.idle": "2024-09-18T14:48:27.058553Z",
     "shell.execute_reply": "2024-09-18T14:48:27.057979Z",
     "shell.execute_reply.started": "2024-09-18T14:48:26.836800Z"
    }
   },
   "outputs": [
    {
     "data": {
      "image/png": "[encoded data removed]",
      "text/plain": [
       "<Figure size 720x432 with 1 Axes>"
      ]
     },
     "metadata": {
      "needs_background": "light"
     },
     "output_type": "display_data"
    }
   ],
   "source": [
    "plt.figure(figsize=(10,6))\n",
    "xx = plt.hist(trace['theta'][500:][::5], bins=50, label='MCMC posterior', density=True)\n",
    "plt.vlines(x=a / n, ymin=0, ymax=max(xx[0])+3, linestyle='--', label=\"Max likelihood\", color=\"gold\")\n",
    "plt.plot(x_theta, p_theta, linewidth=3.,label=f\"{alpha}, {beta}\")\n",
    "plt.xlabel(r\"$\\theta$\")\n",
    "plt.ylabel(r\"$p(\\theta)$\")\n",
    "plt.legend()\n",
    "_ = plt.xlim(0.3,0.6)"
   ]
  },
  {
   "cell_type": "markdown",
   "metadata": {},
   "source": [
    "So our MCMC results agree with the (closed-form) solution for this simple case."
   ]
  },
  {
   "cell_type": "markdown",
   "metadata": {},
   "source": [
    "Once we have samples from the posterior we can do cool things:\n",
    "\n",
    "Suppose we have B samples $\\theta_1$...$\\theta_B$ from the posterior $p(\\theta|$**X**):\n",
    "\n",
    "1) **Posterior mean**: \n",
    "   \n",
    "The exact equation $E[\\theta|$**X**] = $\\int \\theta p(\\theta|$**X**)$d\\theta$\n",
    "\n",
    "Using the sample $E[\\theta|$**X**] $\\approx \\frac{1}{B} \\sum_{b=1}^B \\theta_b$"
   ]
  },
  {
   "cell_type": "code",
   "execution_count": 13,
   "metadata": {
    "execution": {
     "iopub.execute_input": "2024-09-18T14:48:32.051131Z",
     "iopub.status.busy": "2024-09-18T14:48:32.050882Z",
     "iopub.status.idle": "2024-09-18T14:48:32.056847Z",
     "shell.execute_reply": "2024-09-18T14:48:32.056234Z",
     "shell.execute_reply.started": "2024-09-18T14:48:32.051114Z"
    }
   },
   "outputs": [
    {
     "data": {
      "text/plain": [
       "0.37029481995445496"
      ]
     },
     "execution_count": 13,
     "metadata": {},
     "output_type": "execute_result"
    }
   ],
   "source": [
    "trace['theta'][1000:][::5].sum()/len(trace['theta'][1000:][::5])"
   ]
  },
  {
   "cell_type": "markdown",
   "metadata": {},
   "source": [
    "2) **Marginalization**: \n",
    "   \n",
    "The exact equation $p(\\theta_1|$**X**) = $\\int p(\\theta_1,\\theta_2,..\\theta_p|$**X**)$d\\theta_2\\theta_3...\\theta_p$\n",
    "\n",
    "Using the sample $p(\\theta_1|$**X**) $\\sim \\theta_{1,1} ... \\theta_{1,B}$\n",
    "\n",
    "*That is, record the parameter of interest $\\theta_1$ from each sample.*\n",
    "\n",
    "3) **Prediction**: \n",
    "   \n",
    "The exact equation $p(\\tilde{X}|$**X**) = $\\int p(\\tilde{X}|\\theta) p(\\theta|$**X**)$d\\theta$\n",
    "\n",
    "Using the sample $p(\\tilde{X}|$**X**) $\\sim \\tilde{x_1} | \\theta_{1} ... \\tilde{x_B} | \\theta_{B}$\n",
    "\n",
    "*That is, take each sample of $\\theta$ and determine a value for $x$.*"
   ]
  }
 ],
 "metadata": {
  "history": [
   {
    "code": "%run ../talktools.py",
    "id": "bdd21116cef64d1a885917740afd3056",
    "idx": 0,
    "time": "2021-02-08T21:20:22.443Z",
    "type": "execution"
   },
   {
    "id": "bdd21116cef64d1a885917740afd3056",
    "time": "2021-02-08T21:20:25.539Z",
    "type": "completion"
   },
   {
    "code": "import numpy as np\nfrom scipy import stats\nimport matplotlib.pyplot as plt\n%matplotlib inline\nimport seaborn as sns\nsns.set_context(\"poster\")\n\na = 700\nn = 1429\n\nalpha = 0.5\nbeta = 0.5\n\nx_theta = np.linspace(0, 1, 101)\nfig, ax = plt.subplots(figsize=(8,8))\n\np_theta = stats.beta(alpha + a, beta + n - a).pdf(x_theta)\nax.plot(x_theta, p_theta, linewidth=3.,label=f\"{alpha}, {beta}\")\n    \nax.legend()\nax.set_ylim([0, max(p_theta)])\nax.set_xlabel(r\"$\\theta$\")\nax.set_ylabel(r\"$p(\\theta)$\")\nax.set_title(\"Posterior distribution: Biden Approval Feb 2-3, 2021\")",
    "id": "5a478547cdb34cc88e076a5773e907dd",
    "idx": 9,
    "time": "2021-02-08T21:20:33.301Z",
    "type": "execution"
   },
   {
    "id": "5a478547cdb34cc88e076a5773e907dd",
    "time": "2021-02-08T21:20:34.874Z",
    "type": "completion"
   },
   {
    "code": "import pymc3 as pm\nfrom arviz import plot_trace as traceplot\n\nwith pm.Model() as model:\n    theta = pm.Beta('theta', alpha, beta)\n    X = pm.Binomial('X', n, theta, observed=a)",
    "id": "72b4c22a8d8d4757972308e45bcfba06",
    "idx": 10,
    "time": "2021-02-08T21:20:36.811Z",
    "type": "execution"
   },
   {
    "id": "72b4c22a8d8d4757972308e45bcfba06",
    "time": "2021-02-08T21:20:38.140Z",
    "type": "completion"
   },
   {
    "code": "!pip install pymc3 arviz",
    "id": "2f2ac7cae2e241cb925df2ecd6114792",
    "idx": 8,
    "time": "2021-02-08T21:20:44.889Z",
    "type": "execution"
   },
   {
    "id": "2f2ac7cae2e241cb925df2ecd6114792",
    "time": "2021-02-08T21:20:49.205Z",
    "type": "completion"
   },
   {
    "code": "import numpy as np\nfrom scipy import stats\nimport matplotlib.pyplot as plt\n%matplotlib inline\nimport seaborn as sns\nsns.set_context(\"poster\")\n\na = 700\nn = 1429\n\nalpha = 0.5\nbeta = 0.5\n\nx_theta = np.linspace(0, 1, 101)\nfig, ax = plt.subplots(figsize=(8,8))\n\np_theta = stats.beta(alpha + a, beta + n - a).pdf(x_theta)\nax.plot(x_theta, p_theta, linewidth=3.,label=f\"{alpha}, {beta}\")\n    \nax.legend()\nax.set_ylim([0, max(p_theta)])\nax.set_xlabel(r\"$\\theta$\")\nax.set_ylabel(r\"$p(\\theta)$\")\nax.set_title(\"Posterior distribution: Biden Approval Feb 2-3, 2021\")",
    "id": "5a478547cdb34cc88e076a5773e907dd",
    "idx": 9,
    "time": "2021-02-08T21:20:56.878Z",
    "type": "execution"
   },
   {
    "id": "5a478547cdb34cc88e076a5773e907dd",
    "time": "2021-02-08T21:20:57.501Z",
    "type": "completion"
   },
   {
    "code": "import pymc3 as pm\nfrom arviz import plot_trace as traceplot\n\nwith pm.Model() as model:\n    theta = pm.Beta('theta', alpha, beta)\n    X = pm.Binomial('X', n, theta, observed=a)",
    "id": "72b4c22a8d8d4757972308e45bcfba06",
    "idx": 10,
    "time": "2021-02-08T21:20:59.305Z",
    "type": "execution"
   },
   {
    "id": "72b4c22a8d8d4757972308e45bcfba06",
    "time": "2021-02-08T21:20:59.407Z",
    "type": "completion"
   },
   {
    "code": "!pip install configparser",
    "id": "cb90784c4de5414c913a1016a645fec0",
    "idx": 10,
    "time": "2021-02-08T21:21:54.845Z",
    "type": "execution"
   },
   {
    "id": "cb90784c4de5414c913a1016a645fec0",
    "time": "2021-02-08T21:21:59.841Z",
    "type": "completion"
   },
   {
    "code": "import pymc3 as pm\nfrom arviz import plot_trace as traceplot\n\nwith pm.Model() as model:\n    theta = pm.Beta('theta', alpha, beta)\n    X = pm.Binomial('X', n, theta, observed=a)",
    "id": "72b4c22a8d8d4757972308e45bcfba06",
    "idx": 11,
    "time": "2021-02-08T21:22:04.680Z",
    "type": "execution"
   },
   {
    "id": "72b4c22a8d8d4757972308e45bcfba06",
    "time": "2021-02-08T21:22:04.786Z",
    "type": "completion"
   },
   {
    "code": "%run ../talktools.py",
    "id": "bdd21116cef64d1a885917740afd3056",
    "idx": 0,
    "time": "2021-02-08T21:22:14.051Z",
    "type": "execution"
   },
   {
    "id": "bdd21116cef64d1a885917740afd3056",
    "time": "2021-02-08T21:22:14.196Z",
    "type": "completion"
   },
   {
    "code": "import numpy as np\nfrom scipy import stats\nimport matplotlib.pyplot as plt\n%matplotlib inline\nimport seaborn as sns\nsns.set_context(\"poster\")\n\na = 700\nn = 1429\n\nalpha = 0.5\nbeta = 0.5\n\nx_theta = np.linspace(0, 1, 101)\nfig, ax = plt.subplots(figsize=(8,8))\n\np_theta = stats.beta(alpha + a, beta + n - a).pdf(x_theta)\nax.plot(x_theta, p_theta, linewidth=3.,label=f\"{alpha}, {beta}\")\n    \nax.legend()\nax.set_ylim([0, max(p_theta)])\nax.set_xlabel(r\"$\\theta$\")\nax.set_ylabel(r\"$p(\\theta)$\")\nax.set_title(\"Posterior distribution: Biden Approval Feb 2-3, 2021\")",
    "id": "5a478547cdb34cc88e076a5773e907dd",
    "idx": 9,
    "time": "2021-02-08T21:22:20.980Z",
    "type": "execution"
   },
   {
    "id": "5a478547cdb34cc88e076a5773e907dd",
    "time": "2021-02-08T21:22:22.850Z",
    "type": "completion"
   },
   {
    "code": "import pymc3 as pm\nfrom arviz import plot_trace as traceplot\n\nwith pm.Model() as model:\n    theta = pm.Beta('theta', alpha, beta)\n    X = pm.Binomial('X', n, theta, observed=a)",
    "id": "72b4c22a8d8d4757972308e45bcfba06",
    "idx": 11,
    "time": "2021-02-08T21:22:25.569Z",
    "type": "execution"
   },
   {
    "id": "72b4c22a8d8d4757972308e45bcfba06",
    "time": "2021-02-08T21:22:28.174Z",
    "type": "completion"
   },
   {
    "code": "!conda install mkl-service",
    "id": "2cb06176f14c44d485d010a189e63ce2",
    "idx": 8,
    "time": "2021-02-08T21:23:40.418Z",
    "type": "execution"
   },
   {
    "id": "2cb06176f14c44d485d010a189e63ce2",
    "time": "2021-02-08T21:23:59.282Z",
    "type": "completion"
   },
   {
    "code": "!conda install mkl-service -y",
    "id": "2cb06176f14c44d485d010a189e63ce2",
    "idx": 8,
    "time": "2021-02-08T21:24:01.078Z",
    "type": "execution"
   },
   {
    "id": "2cb06176f14c44d485d010a189e63ce2",
    "time": "2021-02-08T21:24:54.490Z",
    "type": "completion"
   },
   {
    "code": "#!conda update pymc3 arviz mkl-service -y",
    "id": "2cb06176f14c44d485d010a189e63ce2",
    "idx": 8,
    "time": "2021-02-08T21:25:16.472Z",
    "type": "execution"
   },
   {
    "id": "2cb06176f14c44d485d010a189e63ce2",
    "time": "2021-02-08T21:25:16.619Z",
    "type": "completion"
   },
   {
    "code": "import numpy as np\nfrom scipy import stats\nimport matplotlib.pyplot as plt\n%matplotlib inline\nimport seaborn as sns\nsns.set_context(\"poster\")\n\na = 700\nn = 1429\n\nalpha = 0.5\nbeta = 0.5\n\nx_theta = np.linspace(0, 1, 101)\nfig, ax = plt.subplots(figsize=(8,8))\n\np_theta = stats.beta(alpha + a, beta + n - a).pdf(x_theta)\nax.plot(x_theta, p_theta, linewidth=3.,label=f\"{alpha}, {beta}\")\n    \nax.legend()\nax.set_ylim([0, max(p_theta)])\nax.set_xlabel(r\"$\\theta$\")\nax.set_ylabel(r\"$p(\\theta)$\")\nax.set_title(\"Posterior distribution: Biden Approval Feb 2-3, 2021\")",
    "id": "5a478547cdb34cc88e076a5773e907dd",
    "idx": 9,
    "time": "2021-02-08T21:25:21.236Z",
    "type": "execution"
   },
   {
    "id": "5a478547cdb34cc88e076a5773e907dd",
    "time": "2021-02-08T21:25:21.817Z",
    "type": "completion"
   },
   {
    "code": "import pymc3 as pm\nfrom arviz import plot_trace as traceplot\n\nwith pm.Model() as model:\n    theta = pm.Beta('theta', alpha, beta)\n    X = pm.Binomial('X', n, theta, observed=a)",
    "id": "72b4c22a8d8d4757972308e45bcfba06",
    "idx": 10,
    "time": "2021-02-08T21:25:25.887Z",
    "type": "execution"
   },
   {
    "id": "72b4c22a8d8d4757972308e45bcfba06",
    "time": "2021-02-08T21:25:25.998Z",
    "type": "completion"
   },
   {
    "code": "!conda update pymc3 arviz mkl-service -y",
    "id": "2cb06176f14c44d485d010a189e63ce2",
    "idx": 8,
    "time": "2021-02-08T21:25:37.769Z",
    "type": "execution"
   },
   {
    "id": "2cb06176f14c44d485d010a189e63ce2",
    "time": "2021-02-08T21:25:40.720Z",
    "type": "completion"
   },
   {
    "code": "!conda install pymc3 arviz mkl-service -y",
    "id": "2cb06176f14c44d485d010a189e63ce2",
    "idx": 8,
    "time": "2021-02-08T21:25:49.902Z",
    "type": "execution"
   },
   {
    "id": "2cb06176f14c44d485d010a189e63ce2",
    "time": "2021-02-08T21:27:20.763Z",
    "type": "completion"
   },
   {
    "code": "import numpy as np\nfrom scipy import stats\nimport matplotlib.pyplot as plt\n%matplotlib inline\nimport seaborn as sns\nsns.set_context(\"poster\")\n\na = 700\nn = 1429\n\nalpha = 0.5\nbeta = 0.5\n\nx_theta = np.linspace(0, 1, 101)\nfig, ax = plt.subplots(figsize=(8,8))\n\np_theta = stats.beta(alpha + a, beta + n - a).pdf(x_theta)\nax.plot(x_theta, p_theta, linewidth=3.,label=f\"{alpha}, {beta}\")\n    \nax.legend()\nax.set_ylim([0, max(p_theta)])\nax.set_xlabel(r\"$\\theta$\")\nax.set_ylabel(r\"$p(\\theta)$\")\nax.set_title(\"Posterior distribution: Biden Approval Feb 2-3, 2021\")",
    "id": "5a478547cdb34cc88e076a5773e907dd",
    "idx": 9,
    "time": "2021-02-08T21:27:25.114Z",
    "type": "execution"
   },
   {
    "id": "5a478547cdb34cc88e076a5773e907dd",
    "time": "2021-02-08T21:27:27.726Z",
    "type": "completion"
   },
   {
    "code": "import pymc3 as pm\nfrom arviz import plot_trace as traceplot\n\nwith pm.Model() as model:\n    theta = pm.Beta('theta', alpha, beta)\n    X = pm.Binomial('X', n, theta, observed=a)",
    "id": "72b4c22a8d8d4757972308e45bcfba06",
    "idx": 10,
    "time": "2021-02-08T21:27:30.207Z",
    "type": "execution"
   },
   {
    "id": "72b4c22a8d8d4757972308e45bcfba06",
    "time": "2021-02-08T21:28:23.955Z",
    "type": "completion"
   },
   {
    "code": "with pm.Model() as model:\n    theta = pm.Beta('theta', alpha, beta)\n    X = pm.Binomial('X', n, theta, observed=a)",
    "id": "72b4c22a8d8d4757972308e45bcfba06",
    "idx": 11,
    "time": "2021-02-08T21:28:27.166Z",
    "type": "execution"
   },
   {
    "id": "72b4c22a8d8d4757972308e45bcfba06",
    "time": "2021-02-08T21:28:27.690Z",
    "type": "completion"
   },
   {
    "code": "pm.Binomial?",
    "id": "0b1f259255bd489ca8d40f6277ecf4eb",
    "idx": 12,
    "time": "2021-02-08T21:28:29.057Z",
    "type": "execution"
   },
   {
    "id": "0b1f259255bd489ca8d40f6277ecf4eb",
    "time": "2021-02-08T21:28:29.191Z",
    "type": "completion"
   },
   {
    "code": "with model:\n    step = pm.NUTS()\n    trace = pm.sample(20000, step=step, return_inferencedata=False)",
    "id": "41eb75378626472d8a6fe451cf0e1724",
    "idx": 13,
    "time": "2021-02-08T21:28:39.722Z",
    "type": "execution"
   },
   {
    "id": "41eb75378626472d8a6fe451cf0e1724",
    "time": "2021-02-08T21:28:59.667Z",
    "type": "completion"
   },
   {
    "code": "%run ../talktools.py",
    "id": "bdd21116cef64d1a885917740afd3056",
    "idx": 0,
    "time": "2021-02-08T21:30:24.633Z",
    "type": "execution"
   },
   {
    "id": "bdd21116cef64d1a885917740afd3056",
    "time": "2021-02-08T21:30:24.741Z",
    "type": "completion"
   },
   {
    "code": "!conda install -c conda-forge pymc3 -y",
    "id": "ee6e2120358448288ad6d69997c25199",
    "idx": 1,
    "time": "2021-02-08T21:30:30.387Z",
    "type": "execution"
   },
   {
    "id": "ee6e2120358448288ad6d69997c25199",
    "time": "2021-02-08T21:30:41.191Z",
    "type": "completion"
   },
   {
    "code": "import numpy as np\nfrom scipy import stats\nimport matplotlib.pyplot as plt\n%matplotlib inline\nimport seaborn as sns\nsns.set_context(\"poster\")\n\na = 700\nn = 1429\n\nalpha = 0.5\nbeta = 0.5\n\nx_theta = np.linspace(0, 1, 101)\nfig, ax = plt.subplots(figsize=(8,8))\n\np_theta = stats.beta(alpha + a, beta + n - a).pdf(x_theta)\nax.plot(x_theta, p_theta, linewidth=3.,label=f\"{alpha}, {beta}\")\n    \nax.legend()\nax.set_ylim([0, max(p_theta)])\nax.set_xlabel(r\"$\\theta$\")\nax.set_ylabel(r\"$p(\\theta)$\")\nax.set_title(\"Posterior distribution: Biden Approval Feb 2-3, 2021\")",
    "id": "5a478547cdb34cc88e076a5773e907dd",
    "idx": 10,
    "time": "2021-02-08T21:31:02.308Z",
    "type": "execution"
   },
   {
    "id": "5a478547cdb34cc88e076a5773e907dd",
    "time": "2021-02-08T21:31:04.265Z",
    "type": "completion"
   },
   {
    "code": "import pymc3 as pm\nfrom arviz import plot_trace as traceplot",
    "id": "b89a85f27c0e44c483290676644beb92",
    "idx": 11,
    "time": "2021-02-08T21:31:07.219Z",
    "type": "execution"
   },
   {
    "id": "b89a85f27c0e44c483290676644beb92",
    "time": "2021-02-08T21:31:09.727Z",
    "type": "completion"
   },
   {
    "code": "with pm.Model() as model:\n    theta = pm.Beta('theta', alpha, beta)\n    X = pm.Binomial('X', n, theta, observed=a)",
    "id": "72b4c22a8d8d4757972308e45bcfba06",
    "idx": 12,
    "time": "2021-02-08T21:31:21.738Z",
    "type": "execution"
   },
   {
    "id": "72b4c22a8d8d4757972308e45bcfba06",
    "time": "2021-02-08T21:31:25.914Z",
    "type": "completion"
   },
   {
    "code": "with model:\n    step = pm.NUTS()\n    trace = pm.sample(20000, step=step, return_inferencedata=False)",
    "id": "41eb75378626472d8a6fe451cf0e1724",
    "idx": 14,
    "time": "2021-02-08T21:31:28.691Z",
    "type": "execution"
   },
   {
    "id": "41eb75378626472d8a6fe451cf0e1724",
    "time": "2021-02-08T21:31:29.858Z",
    "type": "completion"
   },
   {
    "code": "with model:\n    step = pm.NUTS()\n    trace = pm.sample(20000, step=step)",
    "id": "41eb75378626472d8a6fe451cf0e1724",
    "idx": 14,
    "time": "2021-02-08T21:31:37.305Z",
    "type": "execution"
   },
   {
    "id": "41eb75378626472d8a6fe451cf0e1724",
    "time": "2021-02-08T21:31:38.045Z",
    "type": "completion"
   },
   {
    "code": "with model:\n    trace = pm.sample(20000, return_inferencedata=False)",
    "id": "41eb75378626472d8a6fe451cf0e1724",
    "idx": 14,
    "time": "2021-02-08T21:32:00.382Z",
    "type": "execution"
   },
   {
    "id": "41eb75378626472d8a6fe451cf0e1724",
    "time": "2021-02-08T21:32:01.016Z",
    "type": "completion"
   },
   {
    "code": "with model:\n    trace = pm.sample(20000)",
    "id": "41eb75378626472d8a6fe451cf0e1724",
    "idx": 14,
    "time": "2021-02-08T21:32:08.548Z",
    "type": "execution"
   },
   {
    "id": "41eb75378626472d8a6fe451cf0e1724",
    "time": "2021-02-08T21:32:09.184Z",
    "type": "completion"
   },
   {
    "code": "!conda remove pymc3 arviz mkl-service -y",
    "id": "2cb06176f14c44d485d010a189e63ce2",
    "idx": 9,
    "time": "2021-02-08T21:32:51.423Z",
    "type": "execution"
   },
   {
    "id": "2cb06176f14c44d485d010a189e63ce2",
    "time": "2021-02-08T21:33:02.614Z",
    "type": "completion"
   },
   {
    "code": "!conda install -c conda-forge pymc3 -y",
    "id": "ee6e2120358448288ad6d69997c25199",
    "idx": 1,
    "time": "2021-02-08T21:33:14.488Z",
    "type": "execution"
   },
   {
    "id": "ee6e2120358448288ad6d69997c25199",
    "time": "2021-02-08T21:33:25.308Z",
    "type": "completion"
   },
   {
    "code": "!pip install git+https://github.com/pymc-devs/pymc3",
    "id": "ee6e2120358448288ad6d69997c25199",
    "idx": 1,
    "time": "2021-02-08T21:34:02.529Z",
    "type": "execution"
   },
   {
    "id": "ee6e2120358448288ad6d69997c25199",
    "time": "2021-02-08T21:34:48.561Z",
    "type": "completion"
   },
   {
    "code": "import numpy as np\nfrom scipy import stats\nimport matplotlib.pyplot as plt\n%matplotlib inline\nimport seaborn as sns\nsns.set_context(\"poster\")\n\na = 700\nn = 1429\n\nalpha = 0.5\nbeta = 0.5\n\nx_theta = np.linspace(0, 1, 101)\nfig, ax = plt.subplots(figsize=(8,8))\n\np_theta = stats.beta(alpha + a, beta + n - a).pdf(x_theta)\nax.plot(x_theta, p_theta, linewidth=3.,label=f\"{alpha}, {beta}\")\n    \nax.legend()\nax.set_ylim([0, max(p_theta)])\nax.set_xlabel(r\"$\\theta$\")\nax.set_ylabel(r\"$p(\\theta)$\")\nax.set_title(\"Posterior distribution: Biden Approval Feb 2-3, 2021\")",
    "id": "5a478547cdb34cc88e076a5773e907dd",
    "idx": 8,
    "time": "2021-02-08T21:35:14.957Z",
    "type": "execution"
   },
   {
    "id": "5a478547cdb34cc88e076a5773e907dd",
    "time": "2021-02-08T21:35:17.861Z",
    "type": "completion"
   },
   {
    "code": "import pymc3 as pm\nfrom arviz import plot_trace as traceplot",
    "id": "b89a85f27c0e44c483290676644beb92",
    "idx": 9,
    "time": "2021-02-08T21:35:20.115Z",
    "type": "execution"
   },
   {
    "id": "b89a85f27c0e44c483290676644beb92",
    "time": "2021-02-08T21:35:23.124Z",
    "type": "completion"
   },
   {
    "code": "!conda install mkl mkl-service",
    "id": "770f3c65e22d4ae18f6dad3893618c97",
    "idx": 7,
    "time": "2021-02-08T21:36:08.253Z",
    "type": "execution"
   },
   {
    "id": "770f3c65e22d4ae18f6dad3893618c97",
    "time": "2021-02-08T21:36:16.671Z",
    "type": "completion"
   },
   {
    "code": "!conda install mkl mkl-service libpython m2w64-toolchain",
    "id": "770f3c65e22d4ae18f6dad3893618c97",
    "idx": 7,
    "time": "2021-02-08T21:36:51.802Z",
    "type": "execution"
   },
   {
    "id": "770f3c65e22d4ae18f6dad3893618c97",
    "time": "2021-02-08T21:37:00.556Z",
    "type": "completion"
   },
   {
    "code": "!conda install mkl mkl-service libpython m2w64-toolchain ",
    "id": "770f3c65e22d4ae18f6dad3893618c97",
    "idx": 7,
    "time": "2021-02-08T21:37:39.384Z",
    "type": "execution"
   },
   {
    "id": "770f3c65e22d4ae18f6dad3893618c97",
    "time": "2021-02-08T21:37:50.525Z",
    "type": "completion"
   },
   {
    "code": "! conda install -c conda-forge blas",
    "id": "922d9c36f8aa43f3b03abe06d3746ed2",
    "idx": 7,
    "time": "2021-02-08T21:38:06.392Z",
    "type": "execution"
   },
   {
    "id": "922d9c36f8aa43f3b03abe06d3746ed2",
    "time": "2021-02-08T21:38:26.610Z",
    "type": "completion"
   },
   {
    "code": "! conda install -c conda-forge blas -y",
    "id": "922d9c36f8aa43f3b03abe06d3746ed2",
    "idx": 7,
    "time": "2021-02-08T21:38:28.371Z",
    "type": "execution"
   },
   {
    "id": "922d9c36f8aa43f3b03abe06d3746ed2",
    "time": "2021-02-08T21:38:44.806Z",
    "type": "completion"
   },
   {
    "code": "import numpy as np\nfrom scipy import stats\nimport matplotlib.pyplot as plt\n%matplotlib inline\nimport seaborn as sns\nsns.set_context(\"poster\")\n\na = 700\nn = 1429\n\nalpha = 0.5\nbeta = 0.5\n\nx_theta = np.linspace(0, 1, 101)\nfig, ax = plt.subplots(figsize=(8,8))\n\np_theta = stats.beta(alpha + a, beta + n - a).pdf(x_theta)\nax.plot(x_theta, p_theta, linewidth=3.,label=f\"{alpha}, {beta}\")\n    \nax.legend()\nax.set_ylim([0, max(p_theta)])\nax.set_xlabel(r\"$\\theta$\")\nax.set_ylabel(r\"$p(\\theta)$\")\nax.set_title(\"Posterior distribution: Biden Approval Feb 2-3, 2021\")",
    "id": "5a478547cdb34cc88e076a5773e907dd",
    "idx": 10,
    "time": "2021-02-08T21:38:48.523Z",
    "type": "execution"
   },
   {
    "id": "5a478547cdb34cc88e076a5773e907dd",
    "time": "2021-02-08T21:38:51.259Z",
    "type": "completion"
   },
   {
    "code": "import pymc3 as pm\nfrom arviz import plot_trace as traceplot",
    "id": "b89a85f27c0e44c483290676644beb92",
    "idx": 11,
    "time": "2021-02-08T21:38:53.451Z",
    "type": "execution"
   },
   {
    "id": "b89a85f27c0e44c483290676644beb92",
    "time": "2021-02-08T21:39:00.629Z",
    "type": "completion"
   },
   {
    "code": "!conda uninstall theano\n",
    "id": "04c61710e4fb47559a6456eba2f6a953",
    "idx": 11,
    "time": "2021-02-08T21:41:14.031Z",
    "type": "execution"
   },
   {
    "id": "04c61710e4fb47559a6456eba2f6a953",
    "time": "2021-02-08T21:41:19.830Z",
    "type": "completion"
   },
   {
    "code": "%run ../talktools.py",
    "id": "1d4241542a984cce9164f48426d72731",
    "idx": 0,
    "time": "2021-02-08T21:45:28.498Z",
    "type": "execution"
   },
   {
    "id": "1d4241542a984cce9164f48426d72731",
    "time": "2021-02-08T21:45:28.650Z",
    "type": "completion"
   },
   {
    "code": "#! conda install -c conda-forge blas -y",
    "id": "4b1fea9321374128b45ef4b388f64589",
    "idx": 7,
    "time": "2021-02-08T21:45:34.358Z",
    "type": "execution"
   },
   {
    "id": "4b1fea9321374128b45ef4b388f64589",
    "time": "2021-02-08T21:45:34.426Z",
    "type": "completion"
   },
   {
    "code": "#!conda install mkl mkl-service libpython m2w64-toolchain ",
    "id": "0ef5006e614e472e8826cf4fb8bf26b6",
    "idx": 8,
    "time": "2021-02-08T21:45:36.532Z",
    "type": "execution"
   },
   {
    "id": "0ef5006e614e472e8826cf4fb8bf26b6",
    "time": "2021-02-08T21:45:36.600Z",
    "type": "completion"
   },
   {
    "code": "import numpy as np\nfrom scipy import stats\nimport matplotlib.pyplot as plt\n%matplotlib inline\nimport seaborn as sns\nsns.set_context(\"poster\")\n\na = 700\nn = 1429\n\nalpha = 0.5\nbeta = 0.5\n\nx_theta = np.linspace(0, 1, 101)\nfig, ax = plt.subplots(figsize=(8,8))\n\np_theta = stats.beta(alpha + a, beta + n - a).pdf(x_theta)\nax.plot(x_theta, p_theta, linewidth=3.,label=f\"{alpha}, {beta}\")\n    \nax.legend()\nax.set_ylim([0, max(p_theta)])\nax.set_xlabel(r\"$\\theta$\")\nax.set_ylabel(r\"$p(\\theta)$\")\nax.set_title(\"Posterior distribution: Biden Approval Feb 2-3, 2021\")",
    "id": "247e75888b5a4ff89cfb4547eb9233ad",
    "idx": 10,
    "time": "2021-02-08T21:45:37.935Z",
    "type": "execution"
   },
   {
    "id": "247e75888b5a4ff89cfb4547eb9233ad",
    "time": "2021-02-08T21:45:39.589Z",
    "type": "completion"
   },
   {
    "code": "import pymc3 as pm\nfrom arviz import plot_trace as traceplot",
    "id": "ff6acbed8c1049be83909f9f9b7141aa",
    "idx": 11,
    "time": "2021-02-08T21:45:44.155Z",
    "type": "execution"
   },
   {
    "id": "ff6acbed8c1049be83909f9f9b7141aa",
    "time": "2021-02-08T21:45:45.269Z",
    "type": "completion"
   },
   {
    "code": "!conda install mkl mkl-service -y",
    "id": "0ef5006e614e472e8826cf4fb8bf26b6",
    "idx": 8,
    "time": "2021-02-08T21:45:59.112Z",
    "type": "execution"
   },
   {
    "id": "0ef5006e614e472e8826cf4fb8bf26b6",
    "time": "2021-02-08T21:46:57.902Z",
    "type": "completion"
   },
   {
    "code": "import numpy as np\nfrom scipy import stats\nimport matplotlib.pyplot as plt\n%matplotlib inline\nimport seaborn as sns\nsns.set_context(\"poster\")\n\na = 700\nn = 1429\n\nalpha = 0.5\nbeta = 0.5\n\nx_theta = np.linspace(0, 1, 101)\nfig, ax = plt.subplots(figsize=(8,8))\n\np_theta = stats.beta(alpha + a, beta + n - a).pdf(x_theta)\nax.plot(x_theta, p_theta, linewidth=3.,label=f\"{alpha}, {beta}\")\n    \nax.legend()\nax.set_ylim([0, max(p_theta)])\nax.set_xlabel(r\"$\\theta$\")\nax.set_ylabel(r\"$p(\\theta)$\")\nax.set_title(\"Posterior distribution: Biden Approval Feb 2-3, 2021\")",
    "id": "247e75888b5a4ff89cfb4547eb9233ad",
    "idx": 10,
    "time": "2021-02-08T21:47:03.088Z",
    "type": "execution"
   },
   {
    "id": "247e75888b5a4ff89cfb4547eb9233ad",
    "time": "2021-02-08T21:47:03.514Z",
    "type": "completion"
   },
   {
    "code": "import pymc3 as pm\nfrom arviz import plot_trace as traceplot",
    "id": "ff6acbed8c1049be83909f9f9b7141aa",
    "idx": 11,
    "time": "2021-02-08T21:47:05.518Z",
    "type": "execution"
   },
   {
    "id": "ff6acbed8c1049be83909f9f9b7141aa",
    "time": "2021-02-08T21:47:05.616Z",
    "type": "completion"
   },
   {
    "code": "import pymc3 as pm\nfrom arviz import plot_trace as traceplot",
    "id": "ff6acbed8c1049be83909f9f9b7141aa",
    "idx": 11,
    "time": "2021-02-08T21:47:15.499Z",
    "type": "execution"
   },
   {
    "id": "ff6acbed8c1049be83909f9f9b7141aa",
    "time": "2021-02-08T21:47:17.381Z",
    "type": "completion"
   },
   {
    "code": "import theano",
    "id": "20c2b16a75a84c528647daaff4709403",
    "idx": 11,
    "time": "2021-02-08T21:50:10.455Z",
    "type": "execution"
   },
   {
    "id": "20c2b16a75a84c528647daaff4709403",
    "time": "2021-02-08T21:50:10.549Z",
    "type": "completion"
   },
   {
    "code": "import theano\ntheano.config.gcc.cxxflags = \"-march=native\"",
    "id": "20c2b16a75a84c528647daaff4709403",
    "idx": 11,
    "time": "2021-02-08T21:50:17.495Z",
    "type": "execution"
   },
   {
    "id": "20c2b16a75a84c528647daaff4709403",
    "time": "2021-02-08T21:50:17.573Z",
    "type": "completion"
   },
   {
    "code": "import pymc3 as pm\nfrom arviz import plot_trace as traceplot",
    "id": "ff6acbed8c1049be83909f9f9b7141aa",
    "idx": 12,
    "time": "2021-02-08T21:50:18.874Z",
    "type": "execution"
   },
   {
    "id": "ff6acbed8c1049be83909f9f9b7141aa",
    "time": "2021-02-08T21:50:18.956Z",
    "type": "completion"
   },
   {
    "code": "import theano\ntheano.config.gcc.cxxflags = \"-march=native\"",
    "id": "20c2b16a75a84c528647daaff4709403",
    "idx": 11,
    "time": "2021-02-08T21:50:30.978Z",
    "type": "execution"
   },
   {
    "id": "20c2b16a75a84c528647daaff4709403",
    "time": "2021-02-08T21:50:32.648Z",
    "type": "completion"
   },
   {
    "code": "import pymc3 as pm\nfrom arviz import plot_trace as traceplot",
    "id": "ff6acbed8c1049be83909f9f9b7141aa",
    "idx": 12,
    "time": "2021-02-08T21:50:34.928Z",
    "type": "execution"
   },
   {
    "id": "ff6acbed8c1049be83909f9f9b7141aa",
    "time": "2021-02-08T21:50:35.102Z",
    "type": "completion"
   },
   {
    "code": "theano.config.gcc__cxxflags",
    "id": "989a7cbc383a49a58a0c7c1695c74516",
    "idx": 12,
    "time": "2021-02-08T21:51:26.807Z",
    "type": "execution"
   },
   {
    "id": "989a7cbc383a49a58a0c7c1695c74516",
    "time": "2021-02-08T21:51:26.904Z",
    "type": "completion"
   },
   {
    "code": "!pip uninstall theano -y",
    "id": "45b030d3cf7e47fcb161e0725013795e",
    "idx": 11,
    "time": "2021-02-08T21:56:57.265Z",
    "type": "execution"
   },
   {
    "id": "45b030d3cf7e47fcb161e0725013795e",
    "time": "2021-02-08T21:56:59.663Z",
    "type": "completion"
   },
   {
    "code": "!pip uninstall theano-pymc",
    "id": "4d2bb1d18b2b41fe9830f36f74c42a20",
    "idx": 12,
    "time": "2021-02-08T21:57:19.392Z",
    "type": "execution"
   },
   {
    "code": "!pip uninstall theano-pymc -y",
    "id": "4d2bb1d18b2b41fe9830f36f74c42a20",
    "idx": 12,
    "time": "2021-02-08T21:57:24.603Z",
    "type": "execution"
   },
   {
    "code": "%run ../talktools.py",
    "id": "1d4241542a984cce9164f48426d72731",
    "idx": 0,
    "time": "2021-02-08T22:18:22.867Z",
    "type": "execution"
   },
   {
    "id": "1d4241542a984cce9164f48426d72731",
    "time": "2021-02-08T22:18:23.015Z",
    "type": "completion"
   },
   {
    "code": "pip install theano-pymc==1.0.11 pymc3==3.10.0",
    "id": "c31cf19da94d415e831e1f454341eaf0",
    "idx": 1,
    "time": "2021-02-08T22:18:53.652Z",
    "type": "execution"
   },
   {
    "id": "c31cf19da94d415e831e1f454341eaf0",
    "time": "2021-02-08T22:19:04.711Z",
    "type": "completion"
   },
   {
    "code": "%run ../talktools.py",
    "id": "1d4241542a984cce9164f48426d72731",
    "idx": 0,
    "time": "2021-02-08T22:19:15.546Z",
    "type": "execution"
   },
   {
    "id": "1d4241542a984cce9164f48426d72731",
    "time": "2021-02-08T22:19:15.682Z",
    "type": "completion"
   },
   {
    "code": "import numpy as np\nfrom scipy import stats\nimport matplotlib.pyplot as plt\n%matplotlib inline\nimport seaborn as sns\nsns.set_context(\"poster\")\n\na = 700\nn = 1429\n\nalpha = 0.5\nbeta = 0.5\n\nx_theta = np.linspace(0, 1, 101)\nfig, ax = plt.subplots(figsize=(8,8))\n\np_theta = stats.beta(alpha + a, beta + n - a).pdf(x_theta)\nax.plot(x_theta, p_theta, linewidth=3.,label=f\"{alpha}, {beta}\")\n    \nax.legend()\nax.set_ylim([0, max(p_theta)])\nax.set_xlabel(r\"$\\theta$\")\nax.set_ylabel(r\"$p(\\theta)$\")\nax.set_title(\"Posterior distribution: Biden Approval Feb 2-3, 2021\")",
    "id": "247e75888b5a4ff89cfb4547eb9233ad",
    "idx": 11,
    "time": "2021-02-08T22:19:19.907Z",
    "type": "execution"
   },
   {
    "id": "247e75888b5a4ff89cfb4547eb9233ad",
    "time": "2021-02-08T22:19:21.490Z",
    "type": "completion"
   },
   {
    "code": "import pymc3 as pm\nfrom arviz import plot_trace as traceplot",
    "id": "ff6acbed8c1049be83909f9f9b7141aa",
    "idx": 12,
    "time": "2021-02-08T22:19:32.082Z",
    "type": "execution"
   },
   {
    "id": "ff6acbed8c1049be83909f9f9b7141aa",
    "time": "2021-02-08T22:19:34.762Z",
    "type": "completion"
   },
   {
    "code": "with pm.Model() as model:\n    theta = pm.Beta('theta', alpha, beta)\n    X = pm.Binomial('X', n, theta, observed=a)",
    "id": "f02b48a32f104321940b917ff166d69a",
    "idx": 13,
    "time": "2021-02-08T22:19:36.525Z",
    "type": "execution"
   },
   {
    "id": "f02b48a32f104321940b917ff166d69a",
    "time": "2021-02-08T22:20:27.522Z",
    "type": "completion"
   },
   {
    "code": "with model:\n    trace = pm.sample(20000)",
    "id": "aa0b57be94d6425ab8685de97f3793cc",
    "idx": 15,
    "time": "2021-02-08T22:20:32.572Z",
    "type": "execution"
   },
   {
    "code": "type(trace)",
    "id": "9e38b35708e44918848839fe89ff420c",
    "idx": 16,
    "time": "2021-02-08T22:21:52.095Z",
    "type": "execution"
   },
   {
    "id": "aa0b57be94d6425ab8685de97f3793cc",
    "time": "2021-02-08T22:21:52.672Z",
    "type": "completion"
   },
   {
    "id": "9e38b35708e44918848839fe89ff420c",
    "time": "2021-02-08T22:21:52.724Z",
    "type": "completion"
   },
   {
    "code": "with model:\n    traceplot(trace[1000:][::5])",
    "id": "bc1e6281bfe5486b827209d905ce49ed",
    "idx": 17,
    "time": "2021-02-08T22:21:58.169Z",
    "type": "execution"
   },
   {
    "id": "bc1e6281bfe5486b827209d905ce49ed",
    "time": "2021-02-08T22:22:02.888Z",
    "type": "completion"
   },
   {
    "code": "plt.figure(figsize=(10,6))\nxx = plt.hist(trace['theta'][1000:][::5], bins=50, label='MCMC posterior', density=True)\nplt.vlines(x=a / n, ymin=0, ymax=max(xx[0])+1, linestyle='--', label=\"Max likelihood\")\nplt.plot(x_theta, p_theta, linewidth=3.,label=f\"{alpha}, {beta}\")\nplt.xlabel(r\"$\\theta$\")\nplt.ylabel(r\"$p(\\theta)$\")\nplt.legend()\nplt.xlim(0.3,0.6)",
    "id": "af110e074bdc4c66820818ccaf1abf4f",
    "idx": 19,
    "time": "2021-02-08T22:22:07.450Z",
    "type": "execution"
   },
   {
    "id": "af110e074bdc4c66820818ccaf1abf4f",
    "time": "2021-02-08T22:22:08.186Z",
    "type": "completion"
   },
   {
    "code": "%run ../talktools.py",
    "id": "942c6f2c2b4a48b38904b2593c6c7acf",
    "idx": 0,
    "time": "2021-02-08T22:23:34.619Z",
    "type": "execution"
   },
   {
    "id": "942c6f2c2b4a48b38904b2593c6c7acf",
    "time": "2021-02-08T22:23:34.721Z",
    "type": "completion"
   },
   {
    "code": "import numpy as np\nfrom scipy import stats\nimport matplotlib.pyplot as plt\n%matplotlib inline\nimport seaborn as sns\nsns.set_context(\"poster\")\n\na = 700\nn = 1429\n\nalpha = 0.5\nbeta = 0.5\n\nx_theta = np.linspace(0, 1, 101)\nfig, ax = plt.subplots(figsize=(8,8))\n\np_theta = stats.beta(alpha + a, beta + n - a).pdf(x_theta)\nax.plot(x_theta, p_theta, linewidth=3.,label=f\"{alpha}, {beta}\")\n    \nax.legend()\nax.set_ylim([0, max(p_theta)])\nax.set_xlabel(r\"$\\theta$\")\nax.set_ylabel(r\"$p(\\theta)$\")\nax.set_title(\"Posterior distribution: Biden Approval Feb 2-3, 2021\")",
    "id": "74edb8f2f87842ee96f0f43dbac8f5c8",
    "idx": 8,
    "time": "2021-02-08T22:23:37.851Z",
    "type": "execution"
   },
   {
    "id": "74edb8f2f87842ee96f0f43dbac8f5c8",
    "time": "2021-02-08T22:23:39.635Z",
    "type": "completion"
   },
   {
    "code": "import pymc3 as pm\nfrom arviz import plot_trace as traceplot",
    "id": "642098e97175414e86eb8a0ee32f2acc",
    "idx": 9,
    "time": "2021-02-08T22:23:41.790Z",
    "type": "execution"
   },
   {
    "id": "642098e97175414e86eb8a0ee32f2acc",
    "time": "2021-02-08T22:23:42.761Z",
    "type": "completion"
   },
   {
    "code": "pip install theano-pymc==1.0.11 pymc3==3.10.0 arviz mkl-service",
    "id": "889ea551dcc2473195bc19909a0c2da3",
    "idx": 9,
    "time": "2021-02-08T22:23:58.098Z",
    "type": "execution"
   },
   {
    "id": "889ea551dcc2473195bc19909a0c2da3",
    "time": "2021-02-08T22:24:00.321Z",
    "type": "completion"
   },
   {
    "code": "!conda install mkl-service -y",
    "id": "3c43e990b865455f88f90b5abe571d4e",
    "idx": 9,
    "time": "2021-02-08T22:24:24.722Z",
    "type": "execution"
   },
   {
    "id": "3c43e990b865455f88f90b5abe571d4e",
    "time": "2021-02-08T22:25:22.869Z",
    "type": "completion"
   },
   {
    "code": "!pip install theano-pymc==1.0.11 pymc3==3.10.0 arviz",
    "id": "889ea551dcc2473195bc19909a0c2da3",
    "idx": 10,
    "time": "2021-02-08T22:25:30.024Z",
    "type": "execution"
   },
   {
    "id": "889ea551dcc2473195bc19909a0c2da3",
    "time": "2021-02-08T22:25:38.017Z",
    "type": "completion"
   },
   {
    "code": "import pymc3 as pm\nfrom arviz import plot_trace as traceplot",
    "id": "642098e97175414e86eb8a0ee32f2acc",
    "idx": 11,
    "time": "2021-02-08T22:25:49.665Z",
    "type": "execution"
   },
   {
    "id": "642098e97175414e86eb8a0ee32f2acc",
    "time": "2021-02-08T22:25:51.414Z",
    "type": "completion"
   },
   {
    "code": "from theano.gof import utils",
    "id": "c6675f13e7764923b33a6375fc8a77f9",
    "idx": 12,
    "time": "2021-02-08T22:26:41.485Z",
    "type": "execution"
   },
   {
    "id": "c6675f13e7764923b33a6375fc8a77f9",
    "time": "2021-02-08T22:26:41.563Z",
    "type": "completion"
   },
   {
    "code": "!pip install theano-pymc==1.0.12 pymc3==3.10.0 arviz",
    "id": "889ea551dcc2473195bc19909a0c2da3",
    "idx": 10,
    "time": "2021-02-08T22:28:04.058Z",
    "type": "execution"
   },
   {
    "id": "889ea551dcc2473195bc19909a0c2da3",
    "time": "2021-02-08T22:28:12.452Z",
    "type": "completion"
   },
   {
    "code": "!pip install theano-pymc==1.0.12 pymc3==3.11.0 arviz",
    "id": "889ea551dcc2473195bc19909a0c2da3",
    "idx": 10,
    "time": "2021-02-08T22:28:21.221Z",
    "type": "execution"
   },
   {
    "id": "889ea551dcc2473195bc19909a0c2da3",
    "time": "2021-02-08T22:28:26.412Z",
    "type": "completion"
   },
   {
    "code": "import pymc3 as pm\nfrom arviz import plot_trace as traceplot",
    "id": "642098e97175414e86eb8a0ee32f2acc",
    "idx": 11,
    "time": "2021-02-08T22:28:36.972Z",
    "type": "execution"
   },
   {
    "id": "642098e97175414e86eb8a0ee32f2acc",
    "time": "2021-02-08T22:28:37.078Z",
    "type": "completion"
   },
   {
    "code": "!pip install theano-pymc==1.0.12 pymc3==3.10.0 arviz",
    "id": "889ea551dcc2473195bc19909a0c2da3",
    "idx": 10,
    "time": "2021-02-08T22:28:45.575Z",
    "type": "execution"
   },
   {
    "id": "889ea551dcc2473195bc19909a0c2da3",
    "time": "2021-02-08T22:28:50.480Z",
    "type": "completion"
   },
   {
    "code": "import pymc3 as pm\nfrom arviz import plot_trace as traceplot",
    "id": "642098e97175414e86eb8a0ee32f2acc",
    "idx": 11,
    "time": "2021-02-08T22:28:52.289Z",
    "type": "execution"
   },
   {
    "id": "642098e97175414e86eb8a0ee32f2acc",
    "time": "2021-02-08T22:28:52.459Z",
    "type": "completion"
   },
   {
    "code": "from aesara.gof import utils",
    "id": "c6675f13e7764923b33a6375fc8a77f9",
    "idx": 13,
    "time": "2021-02-08T22:30:06.300Z",
    "type": "execution"
   },
   {
    "id": "c6675f13e7764923b33a6375fc8a77f9",
    "time": "2021-02-08T22:30:06.393Z",
    "type": "completion"
   },
   {
    "code": "!pip uninstall theano",
    "id": "55728ad27f66469e83b2bbc4b561b6ea",
    "idx": 12,
    "time": "2021-02-08T22:30:49.133Z",
    "type": "execution"
   },
   {
    "id": "55728ad27f66469e83b2bbc4b561b6ea",
    "time": "2021-02-08T22:30:59.243Z",
    "type": "completion"
   },
   {
    "code": "!pip uninstall theano -y",
    "id": "55728ad27f66469e83b2bbc4b561b6ea",
    "idx": 12,
    "time": "2021-02-08T22:31:01.097Z",
    "type": "execution"
   },
   {
    "id": "55728ad27f66469e83b2bbc4b561b6ea",
    "time": "2021-02-08T22:31:03.167Z",
    "type": "completion"
   },
   {
    "code": "!pip uninstall theano -y",
    "id": "ce50e33aaaaa40b0833c7ac575e7f965",
    "idx": 9,
    "time": "2021-02-08T22:31:20.120Z",
    "type": "execution"
   },
   {
    "id": "ce50e33aaaaa40b0833c7ac575e7f965",
    "time": "2021-02-08T22:31:21.839Z",
    "type": "completion"
   },
   {
    "code": "!conda install mkl-service -y",
    "id": "3c43e990b865455f88f90b5abe571d4e",
    "idx": 10,
    "time": "2021-02-08T22:31:24.552Z",
    "type": "execution"
   },
   {
    "id": "3c43e990b865455f88f90b5abe571d4e",
    "time": "2021-02-08T22:31:29.791Z",
    "type": "completion"
   },
   {
    "code": "!pip install theano-pymc==1.0.11 pymc3==3.10.0 arviz",
    "id": "889ea551dcc2473195bc19909a0c2da3",
    "idx": 11,
    "time": "2021-02-08T22:31:33.760Z",
    "type": "execution"
   },
   {
    "id": "889ea551dcc2473195bc19909a0c2da3",
    "time": "2021-02-08T22:31:39.964Z",
    "type": "completion"
   },
   {
    "code": "import pymc3 as pm\nfrom arviz import plot_trace as traceplot",
    "id": "642098e97175414e86eb8a0ee32f2acc",
    "idx": 12,
    "time": "2021-02-08T22:31:46.711Z",
    "type": "execution"
   },
   {
    "id": "642098e97175414e86eb8a0ee32f2acc",
    "time": "2021-02-08T22:31:46.871Z",
    "type": "completion"
   },
   {
    "code": "import theano",
    "id": "09766443064a4aae8f7fb9846e90f531",
    "idx": 13,
    "time": "2021-02-08T22:32:45.444Z",
    "type": "execution"
   },
   {
    "id": "09766443064a4aae8f7fb9846e90f531",
    "time": "2021-02-08T22:32:45.532Z",
    "type": "completion"
   },
   {
    "code": "theano.__version__",
    "id": "09766443064a4aae8f7fb9846e90f531",
    "idx": 13,
    "time": "2021-02-08T22:32:51.507Z",
    "type": "execution"
   },
   {
    "id": "09766443064a4aae8f7fb9846e90f531",
    "time": "2021-02-08T22:32:51.589Z",
    "type": "completion"
   },
   {
    "code": "!pip install pymc3 arviz",
    "id": "09766443064a4aae8f7fb9846e90f531",
    "idx": 13,
    "time": "2021-02-08T22:35:00.931Z",
    "type": "execution"
   },
   {
    "id": "09766443064a4aae8f7fb9846e90f531",
    "time": "2021-02-08T22:35:05.035Z",
    "type": "completion"
   },
   {
    "code": "!pip install pymc3==3.11.0 arviz",
    "id": "09766443064a4aae8f7fb9846e90f531",
    "idx": 13,
    "time": "2021-02-08T22:35:17.419Z",
    "type": "execution"
   },
   {
    "id": "09766443064a4aae8f7fb9846e90f531",
    "time": "2021-02-08T22:35:26.335Z",
    "type": "completion"
   },
   {
    "code": "with pm.Model() as model:\n    theta = pm.Beta('theta', alpha, beta)\n    X = pm.Binomial('X', n, theta, observed=a)",
    "id": "2c6542edf7a0430488f7e65c6c75df41",
    "idx": 15,
    "time": "2021-02-08T22:35:36.125Z",
    "type": "execution"
   },
   {
    "id": "2c6542edf7a0430488f7e65c6c75df41",
    "time": "2021-02-08T22:35:36.219Z",
    "type": "completion"
   },
   {
    "code": "import pymc3 as pm\nfrom arviz import plot_trace as traceplot",
    "id": "642098e97175414e86eb8a0ee32f2acc",
    "idx": 12,
    "time": "2021-02-08T22:35:40.670Z",
    "type": "execution"
   },
   {
    "id": "642098e97175414e86eb8a0ee32f2acc",
    "time": "2021-02-08T22:35:40.756Z",
    "type": "completion"
   },
   {
    "code": "!pip install theano-pymc==1.1.0 pymc3==3.10.0 arviz",
    "id": "889ea551dcc2473195bc19909a0c2da3",
    "idx": 11,
    "time": "2021-02-08T22:36:02.618Z",
    "type": "execution"
   },
   {
    "id": "889ea551dcc2473195bc19909a0c2da3",
    "time": "2021-02-08T22:36:07.703Z",
    "type": "completion"
   },
   {
    "code": "import pymc3 as pm\nfrom arviz import plot_trace as traceplot",
    "id": "642098e97175414e86eb8a0ee32f2acc",
    "idx": 12,
    "time": "2021-02-08T22:36:09.706Z",
    "type": "execution"
   },
   {
    "id": "642098e97175414e86eb8a0ee32f2acc",
    "time": "2021-02-08T22:36:09.870Z",
    "type": "completion"
   },
   {
    "code": "!conda install mkl-service -y",
    "id": "d83e3ba714e64bc9857342bf75db0e0f",
    "idx": 9,
    "time": "2021-02-08T22:37:43.538Z",
    "type": "execution"
   },
   {
    "id": "d83e3ba714e64bc9857342bf75db0e0f",
    "time": "2021-02-08T22:38:55.559Z",
    "type": "completion"
   },
   {
    "code": "!pip install pymc3==3.10.0 arviz",
    "id": "b14045685e474033a4352a600475b416",
    "idx": 10,
    "time": "2021-02-08T22:39:05.335Z",
    "type": "execution"
   },
   {
    "id": "b14045685e474033a4352a600475b416",
    "time": "2021-02-08T22:39:14.542Z",
    "type": "completion"
   },
   {
    "code": "import pymc3 as pm\nfrom arviz import plot_trace as traceplot",
    "id": "3bb9be1ac9d549c3a00b9e29cf91eb13",
    "idx": 11,
    "time": "2021-02-08T22:39:19.141Z",
    "type": "execution"
   },
   {
    "id": "3bb9be1ac9d549c3a00b9e29cf91eb13",
    "time": "2021-02-08T22:39:23.085Z",
    "type": "completion"
   },
   {
    "code": "with pm.Model() as model:\n    theta = pm.Beta('theta', alpha, beta)\n    X = pm.Binomial('X', n, theta, observed=a)",
    "id": "066fe4ef346148cf94e4511ff1c0282e",
    "idx": 12,
    "time": "2021-02-08T22:39:29.783Z",
    "type": "execution"
   },
   {
    "id": "066fe4ef346148cf94e4511ff1c0282e",
    "time": "2021-02-08T22:39:30.259Z",
    "type": "completion"
   },
   {
    "code": "import numpy as np\nfrom scipy import stats\nimport matplotlib.pyplot as plt\n%matplotlib inline\nimport seaborn as sns\nsns.set_context(\"poster\")\n\na = 700\nn = 1429\n\nalpha = 0.5\nbeta = 0.5\n\nx_theta = np.linspace(0, 1, 101)\nfig, ax = plt.subplots(figsize=(8,8))\n\np_theta = stats.beta(alpha + a, beta + n - a).pdf(x_theta)\nax.plot(x_theta, p_theta, linewidth=3.,label=f\"{alpha}, {beta}\")\n    \nax.legend()\nax.set_ylim([0, max(p_theta)])\nax.set_xlabel(r\"$\\theta$\")\nax.set_ylabel(r\"$p(\\theta)$\")\nax.set_title(\"Posterior distribution: Biden Approval Feb 2-3, 2021\")",
    "id": "9ac6edeb79b34497962452ab190bef5f",
    "idx": 8,
    "time": "2021-02-08T22:39:34.005Z",
    "type": "execution"
   },
   {
    "id": "9ac6edeb79b34497962452ab190bef5f",
    "time": "2021-02-08T22:39:34.773Z",
    "type": "completion"
   },
   {
    "code": "with pm.Model() as model:\n    theta = pm.Beta('theta', alpha, beta)\n    X = pm.Binomial('X', n, theta, observed=a)",
    "id": "066fe4ef346148cf94e4511ff1c0282e",
    "idx": 12,
    "time": "2021-02-08T22:39:37.368Z",
    "type": "execution"
   },
   {
    "id": "066fe4ef346148cf94e4511ff1c0282e",
    "time": "2021-02-08T22:39:42.474Z",
    "type": "completion"
   },
   {
    "code": "with model:\n    trace = pm.sample(20000, return_inferencedata=True)",
    "id": "df0664e0bc1b4ba787a56ec0fdbdf569",
    "idx": 14,
    "time": "2021-02-08T22:39:44.797Z",
    "type": "execution"
   },
   {
    "id": "df0664e0bc1b4ba787a56ec0fdbdf569",
    "time": "2021-02-08T22:40:32.234Z",
    "type": "completion"
   },
   {
    "code": "type(trace)",
    "id": "f8787c2c96b14806872a87087d101ff9",
    "idx": 15,
    "time": "2021-02-08T22:40:32.243Z",
    "type": "execution"
   },
   {
    "id": "f8787c2c96b14806872a87087d101ff9",
    "time": "2021-02-08T22:40:35.186Z",
    "type": "completion"
   },
   {
    "code": "with model:\n    traceplot(trace[1000:][::5])",
    "id": "a99ce84b2b8a4961ad03acc96176f2f8",
    "idx": 16,
    "time": "2021-02-08T22:40:37.301Z",
    "type": "execution"
   },
   {
    "id": "a99ce84b2b8a4961ad03acc96176f2f8",
    "time": "2021-02-08T22:40:37.756Z",
    "type": "completion"
   },
   {
    "code": "with model:\n    trace = pm.sample(20000, return_inferencedata=False)",
    "id": "df0664e0bc1b4ba787a56ec0fdbdf569",
    "idx": 14,
    "time": "2021-02-08T22:40:47.142Z",
    "type": "execution"
   },
   {
    "id": "df0664e0bc1b4ba787a56ec0fdbdf569",
    "time": "2021-02-08T22:41:31.955Z",
    "type": "completion"
   },
   {
    "code": "type(trace)",
    "id": "f8787c2c96b14806872a87087d101ff9",
    "idx": 13,
    "time": "2021-02-08T22:41:45.710Z",
    "type": "execution"
   },
   {
    "id": "f8787c2c96b14806872a87087d101ff9",
    "time": "2021-02-08T22:41:45.786Z",
    "type": "completion"
   },
   {
    "code": "with model:\n    traceplot(trace[1000:][::5])",
    "id": "a99ce84b2b8a4961ad03acc96176f2f8",
    "idx": 14,
    "time": "2021-02-08T22:41:47.106Z",
    "type": "execution"
   },
   {
    "id": "a99ce84b2b8a4961ad03acc96176f2f8",
    "time": "2021-02-08T22:41:52.635Z",
    "type": "completion"
   },
   {
    "code": "plt.figure(figsize=(10,6))\nxx = plt.hist(trace['theta'][1000:][::5], bins=50, label='MCMC posterior', density=True)\nplt.vlines(x=a / n, ymin=0, ymax=max(xx[0])+1, linestyle='--', label=\"Max likelihood\")\nplt.plot(x_theta, p_theta, linewidth=3.,label=f\"{alpha}, {beta}\")\nplt.xlabel(r\"$\\theta$\")\nplt.ylabel(r\"$p(\\theta)$\")\nplt.legend()\nplt.xlim(0.3,0.6)",
    "id": "8834bec2c0a24bfcb308ce6d4fca998e",
    "idx": 16,
    "time": "2021-02-08T22:41:54.775Z",
    "type": "execution"
   },
   {
    "id": "8834bec2c0a24bfcb308ce6d4fca998e",
    "time": "2021-02-08T22:41:55.401Z",
    "type": "completion"
   },
   {
    "code": "plt.figure(figsize=(10,6))\nxx = plt.hist(trace['theta'][1000:][::5], bins=50, label='MCMC posterior', density=True)\nplt.vlines(x=a / n, ymin=0, ymax=max(xx[0])+1, linestyle='--', label=\"Max likelihood\")\nplt.plot(x_theta, p_theta, linewidth=3.,label=f\"{alpha}, {beta}\")\nplt.xlabel(r\"$\\theta$\")\nplt.ylabel(r\"$p(\\theta)$\")\nplt.legend()\n_ = plt.xlim(0.3,0.6)",
    "id": "8834bec2c0a24bfcb308ce6d4fca998e",
    "idx": 16,
    "time": "2021-02-08T22:42:05.884Z",
    "type": "execution"
   },
   {
    "id": "8834bec2c0a24bfcb308ce6d4fca998e",
    "time": "2021-02-08T22:42:06.628Z",
    "type": "completion"
   },
   {
    "code": "a / n",
    "id": "a4a7ad275e594eda8a81814c23548fe0",
    "idx": 19,
    "time": "2021-02-08T22:42:10.271Z",
    "type": "execution"
   },
   {
    "id": "a4a7ad275e594eda8a81814c23548fe0",
    "time": "2021-02-08T22:42:10.342Z",
    "type": "completion"
   },
   {
    "code": "xx[0]",
    "id": "3f392e6f62234cbdb12d600d6662f4fe",
    "idx": 18,
    "time": "2021-02-08T22:42:37.441Z",
    "type": "execution"
   },
   {
    "id": "3f392e6f62234cbdb12d600d6662f4fe",
    "time": "2021-02-08T22:42:41.747Z",
    "type": "completion"
   },
   {
    "code": "max(xx[0])",
    "id": "3f392e6f62234cbdb12d600d6662f4fe",
    "idx": 18,
    "time": "2021-02-08T22:42:46.026Z",
    "type": "execution"
   },
   {
    "id": "3f392e6f62234cbdb12d600d6662f4fe",
    "time": "2021-02-08T22:42:46.103Z",
    "type": "completion"
   },
   {
    "code": "plt.figure(figsize=(10,6))\nxx = plt.hist(trace['theta'][1000:][::5], bins=50, label='MCMC posterior', density=True)\nplt.vlines(x=a / n, ymin=0, ymax=max(xx[0])+1, linestyle='--', label=\"Max likelihood\")\nplt.plot(x_theta, p_theta, linewidth=3.,label=f\"{alpha}, {beta}\")\nplt.xlabel(r\"$\\theta$\")\nplt.ylabel(r\"$p(\\theta)$\")\nplt.legend()\n_ = plt.xlim(0.3,0.6)",
    "id": "8834bec2c0a24bfcb308ce6d4fca998e",
    "idx": 16,
    "time": "2021-02-08T22:43:02.434Z",
    "type": "execution"
   },
   {
    "id": "8834bec2c0a24bfcb308ce6d4fca998e",
    "time": "2021-02-08T22:43:03.047Z",
    "type": "completion"
   },
   {
    "code": "plt.figure(figsize=(10,6))\nxx = plt.hist(trace['theta'][1000:][::5], bins=50, label='MCMC posterior', density=True)\nplt.vlines(x=a / n, ymin=0, ymax=100, linestyle='--', label=\"Max likelihood\")\nplt.plot(x_theta, p_theta, linewidth=3.,label=f\"{alpha}, {beta}\")\nplt.xlabel(r\"$\\theta$\")\nplt.ylabel(r\"$p(\\theta)$\")\nplt.legend()\n_ = plt.xlim(0.3,0.6)",
    "id": "8834bec2c0a24bfcb308ce6d4fca998e",
    "idx": 16,
    "time": "2021-02-08T22:43:08.275Z",
    "type": "execution"
   },
   {
    "id": "8834bec2c0a24bfcb308ce6d4fca998e",
    "time": "2021-02-08T22:43:08.882Z",
    "type": "completion"
   },
   {
    "code": "plt.figure(figsize=(10,6))\nxx = plt.hist(trace['theta'][1000:][::5], bins=50, label='MCMC posterior', density=True)\nplt.vlines(x=a / n, ymin=0, ymax=max(xx[0])+3, linestyle='--', label=\"Max likelihood\", c=\"r\")\nplt.plot(x_theta, p_theta, linewidth=3.,label=f\"{alpha}, {beta}\")\nplt.xlabel(r\"$\\theta$\")\nplt.ylabel(r\"$p(\\theta)$\")\nplt.legend()\n_ = plt.xlim(0.3,0.6)",
    "id": "8834bec2c0a24bfcb308ce6d4fca998e",
    "idx": 16,
    "time": "2021-02-08T22:43:20.074Z",
    "type": "execution"
   },
   {
    "id": "8834bec2c0a24bfcb308ce6d4fca998e",
    "time": "2021-02-08T22:43:20.694Z",
    "type": "completion"
   },
   {
    "code": "plt.figure(figsize=(10,6))\nxx = plt.hist(trace['theta'][1000:][::5], bins=50, label='MCMC posterior', density=True)\nplt.vlines(x=a / n, ymin=0, ymax=max(xx[0])+3, linestyle='--', label=\"Max likelihood\", color=\"r\")\nplt.plot(x_theta, p_theta, linewidth=3.,label=f\"{alpha}, {beta}\")\nplt.xlabel(r\"$\\theta$\")\nplt.ylabel(r\"$p(\\theta)$\")\nplt.legend()\n_ = plt.xlim(0.3,0.6)",
    "id": "8834bec2c0a24bfcb308ce6d4fca998e",
    "idx": 16,
    "time": "2021-02-08T22:43:25.267Z",
    "type": "execution"
   },
   {
    "id": "8834bec2c0a24bfcb308ce6d4fca998e",
    "time": "2021-02-08T22:43:26.088Z",
    "type": "completion"
   },
   {
    "code": "plt.figure(figsize=(10,6))\nxx = plt.hist(trace['theta'][1000:][::5], bins=50, label='MCMC posterior', density=True)\nplt.vlines(x=a / n, ymin=0, ymax=max(xx[0])+3, linestyle='--', label=\"Max likelihood\", color=\"g\")\nplt.plot(x_theta, p_theta, linewidth=3.,label=f\"{alpha}, {beta}\")\nplt.xlabel(r\"$\\theta$\")\nplt.ylabel(r\"$p(\\theta)$\")\nplt.legend()\n_ = plt.xlim(0.3,0.6)",
    "id": "8834bec2c0a24bfcb308ce6d4fca998e",
    "idx": 16,
    "time": "2021-02-08T22:43:33.880Z",
    "type": "execution"
   },
   {
    "id": "8834bec2c0a24bfcb308ce6d4fca998e",
    "time": "2021-02-08T22:43:34.504Z",
    "type": "completion"
   },
   {
    "code": "plt.figure(figsize=(10,6))\nxx = plt.hist(trace['theta'][1000:][::5], bins=50, label='MCMC posterior', density=True)\nplt.vlines(x=a / n, ymin=0, ymax=max(xx[0])+3, linestyle='--', label=\"Max likelihood\", color=\"gold\")\nplt.plot(x_theta, p_theta, linewidth=3.,label=f\"{alpha}, {beta}\")\nplt.xlabel(r\"$\\theta$\")\nplt.ylabel(r\"$p(\\theta)$\")\nplt.legend()\n_ = plt.xlim(0.3,0.6)",
    "id": "8834bec2c0a24bfcb308ce6d4fca998e",
    "idx": 16,
    "time": "2021-02-08T22:43:46.336Z",
    "type": "execution"
   },
   {
    "id": "8834bec2c0a24bfcb308ce6d4fca998e",
    "time": "2021-02-08T22:43:46.916Z",
    "type": "completion"
   },
   {
    "code": "trace['theta'][1000:][::5].sum()/len(trace['theta'][1000:][::5])",
    "id": "75aacf4562a04b778cf2f4231cafa4fa",
    "idx": 19,
    "time": "2021-02-08T22:44:10.157Z",
    "type": "execution"
   },
   {
    "id": "75aacf4562a04b778cf2f4231cafa4fa",
    "time": "2021-02-08T22:44:10.237Z",
    "type": "completion"
   },
   {
    "code": "%run ../talktools.py",
    "id": "6f6ae91f3bd8474e836e9a7ee57091f4",
    "idx": 0,
    "time": "2021-02-08T22:44:17.431Z",
    "type": "execution"
   },
   {
    "id": "6f6ae91f3bd8474e836e9a7ee57091f4",
    "time": "2021-02-08T22:44:17.514Z",
    "type": "completion"
   },
   {
    "code": "with model:\n    trace = pm.sample(1000, return_inferencedata=False)",
    "id": "df0664e0bc1b4ba787a56ec0fdbdf569",
    "idx": 12,
    "time": "2021-02-08T22:45:00.809Z",
    "type": "execution"
   },
   {
    "id": "df0664e0bc1b4ba787a56ec0fdbdf569",
    "time": "2021-02-08T22:45:08.613Z",
    "type": "completion"
   },
   {
    "code": "type(trace)",
    "id": "f8787c2c96b14806872a87087d101ff9",
    "idx": 13,
    "time": "2021-02-08T22:45:10.063Z",
    "type": "execution"
   },
   {
    "id": "f8787c2c96b14806872a87087d101ff9",
    "time": "2021-02-08T22:45:10.146Z",
    "type": "completion"
   },
   {
    "code": "with model:\n    traceplot(trace[1000:][::5])",
    "id": "a99ce84b2b8a4961ad03acc96176f2f8",
    "idx": 14,
    "time": "2021-02-08T22:45:11.850Z",
    "type": "execution"
   },
   {
    "id": "a99ce84b2b8a4961ad03acc96176f2f8",
    "time": "2021-02-08T22:45:12.277Z",
    "type": "completion"
   },
   {
    "code": "with model:\n    trace = pm.sample(3000, return_inferencedata=False)",
    "id": "df0664e0bc1b4ba787a56ec0fdbdf569",
    "idx": 12,
    "time": "2021-02-08T22:45:20.852Z",
    "type": "execution"
   },
   {
    "id": "df0664e0bc1b4ba787a56ec0fdbdf569",
    "time": "2021-02-08T22:45:32.424Z",
    "type": "completion"
   },
   {
    "code": "pm.sample",
    "id": "dc7e9c88743841de959426754f0e52f7",
    "idx": 12,
    "time": "2021-02-08T22:45:36.927Z",
    "type": "execution"
   },
   {
    "id": "dc7e9c88743841de959426754f0e52f7",
    "time": "2021-02-08T22:45:36.998Z",
    "type": "completion"
   },
   {
    "code": "with model:\n    trace = pm.sample(3000, tune=500, return_inferencedata=False)",
    "id": "df0664e0bc1b4ba787a56ec0fdbdf569",
    "idx": 13,
    "time": "2021-02-08T22:45:59.196Z",
    "type": "execution"
   },
   {
    "id": "df0664e0bc1b4ba787a56ec0fdbdf569",
    "time": "2021-02-08T22:46:10.643Z",
    "type": "completion"
   },
   {
    "code": "with model:\n    traceplot(trace[500:][::5])",
    "id": "a99ce84b2b8a4961ad03acc96176f2f8",
    "idx": 14,
    "time": "2021-02-08T22:46:10.739Z",
    "type": "execution"
   },
   {
    "id": "a99ce84b2b8a4961ad03acc96176f2f8",
    "time": "2021-02-08T22:46:12.681Z",
    "type": "completion"
   },
   {
    "code": "traceplot?",
    "id": "35150fea2e3b4c7b8615603a83e6cebb",
    "idx": 14,
    "time": "2021-02-08T22:46:25.480Z",
    "type": "execution"
   },
   {
    "id": "35150fea2e3b4c7b8615603a83e6cebb",
    "time": "2021-02-08T22:46:25.686Z",
    "type": "completion"
   },
   {
    "code": "import pymc3 as pm\nimport arviz as az\nfrom arviz import plot_trace as traceplot\n",
    "id": "3bb9be1ac9d549c3a00b9e29cf91eb13",
    "idx": 9,
    "time": "2021-02-08T22:47:53.640Z",
    "type": "execution"
   },
   {
    "id": "3bb9be1ac9d549c3a00b9e29cf91eb13",
    "time": "2021-02-08T22:47:53.725Z",
    "type": "completion"
   },
   {
    "code": "with model:\n    az.plot_posterior(trace[500:][::5])",
    "id": "fe9e1c446000474d921adc69bb384c27",
    "idx": 16,
    "time": "2021-02-08T22:48:14.235Z",
    "type": "execution"
   },
   {
    "id": "fe9e1c446000474d921adc69bb384c27",
    "time": "2021-02-08T22:48:15.223Z",
    "type": "completion"
   },
   {
    "code": "%run ../talktools.py",
    "id": "6f6ae91f3bd8474e836e9a7ee57091f4",
    "idx": 0,
    "time": "2021-02-08T23:44:05.024Z",
    "type": "execution"
   },
   {
    "id": "6f6ae91f3bd8474e836e9a7ee57091f4",
    "time": "2021-02-08T23:44:05.184Z",
    "type": "completion"
   }
  ],
  "kernelspec": {
   "display_name": "Python 3 (ipykernel)",
   "language": "python",
   "name": "python3"
  },
  "language_info": {
   "codemirror_mode": {
    "name": "ipython",
    "version": 3
   },
   "file_extension": ".py",
   "mimetype": "text/x-python",
   "name": "python",
   "nbconvert_exporter": "python",
   "pygments_lexer": "ipython3",
   "version": "3.10.12"
  }
 },
 "nbformat": 4,
 "nbformat_minor": 4
}

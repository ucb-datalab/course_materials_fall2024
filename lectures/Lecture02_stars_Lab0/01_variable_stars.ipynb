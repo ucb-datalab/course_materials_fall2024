{
 "cells": [
  {
   "cell_type": "markdown",
   "metadata": {},
   "source": [
    "#  A Primer on Variable Stars\n",
    "\n",
    "\n",
    "We've already seen color-magnitude diagrams from Gaia:\n",
    "\n",
    "<center>\n",
    "<img src=\"data/gaia_cmd.png\">\n",
    "\n",
    "<i>Source:  C. Babusiaux et al. A&A 616, A10 (2018)</i>\n",
    "</center>\n",
    "\n",
    "These are based on database photometry from the DR2 catalog, but Gaia (like many modern surveys) take many measurements in time (we typically use the average magnitude). At the 1% photometry level most (>95%) of stars are quiescent -- ie. largely unchanging in time. A variable star is a source (sometimes more than one star, in a gravitationally bound system of stars) which varies in brightness in time (by how much is somewhat in the eye of the beholder). "
   ]
  },
  {
   "cell_type": "markdown",
   "metadata": {},
   "source": [
    "### Origins of Variability \n",
    "\n",
    "<img src=\"data/varstar_taxonomy.png\">"
   ]
  },
  {
   "cell_type": "markdown",
   "metadata": {},
   "source": [
    "Side note: Josh maintains an astronomical time-series taxonomy project that he built with S. Jenkins a few years ago (https://github.com/profjsb/timedomain-taxonomy). It's used in the [Zwicky Transients Facility project](https://www.ztf.caltech.edu/). \n",
    "\n",
    "```bash\n",
    "$ pip install tdtax\n",
    "```\n",
    "\n",
    "```python\n",
    "import tdtax\n",
    "from tdtax import taxonomy\n",
    "```"
   ]
  },
  {
   "cell_type": "markdown",
   "metadata": {},
   "source": [
    "You may have heard of this one variable star in Orion which appeared to be dimming last year...\n",
    "<center>\n",
    "<img src=\"data/alpha_ori.png\">\n",
    "<i>Source: Feb 8, 2020; spaceweather,com </i>\n",
    "</center>\n",
    "\n",
    "It's not just red supergiants: star variability exists all over the H-R diagram:\n",
    "<img src=\"data/varstar_hr.png\">\n",
    "<i>Source: Paxton et al. ApJS, 243, 10 (2019)</i>"
   ]
  },
  {
   "cell_type": "markdown",
   "metadata": {},
   "source": [
    "These all exhibit departures from hydrostatic equilibrium.  In Lab 1 we're going to be focused on RR Lyrae and Gaia (see https://ui.adsabs.harvard.edu/abs/2016A%26A...595A.133C/abstract). The prototype for this class is the star ... RR Lyrae ($d$=270 ± 20 pc), the brightest variable star in the constellation Lyra. Having moved passed the red giant phase, RRLyr stars are helium core burning (horizontal branch).  RRLyr live on the \"instability strip\" of the H-R diagram, where temperature, density, and atmospheric opacities exist in such a delicate balance that small changes lead to large-amplitude periodic fluctuations in the star size. These are \"radial pulsators\". Assuming a fixed temperature ($\\approx 6000$ K), $L \\propto A_{\\rm surf} \\propto R^2$ implies radial changes of order 15% lead to luminosity changes of order 30%."
   ]
  },
  {
   "cell_type": "markdown",
   "metadata": {},
   "source": [
    "Stellar pulsation in RRL is accomplished by modulating the radiative luminosity (the so-called kappa mechanism). \"A cycle develops wherein the stellar envelope acts like a piston and the opacity like a valve:\n",
    "\n",
    " - Material in layer moves inward, compresses, also heats.\n",
    " - As a result -- becomes more opaque to radiation, which now diffuses out more slowly.\n",
    " - The pressure and temperatures beneath this layer rise and pushes outward.\n",
    " - Material expands, cools, and becomes more transparent.\n",
    " - Energy beneath can escape more freely from below --> loss of pressure support.\n",
    " - Loss of support, layer collapses again.\n",
    " \"\n",
    "\n",
    " See https://www.astro.princeton.edu/~gk/A403/pulse.pdf for more information about pulsational instability. "
   ]
  },
  {
   "cell_type": "markdown",
   "metadata": {},
   "source": [
    "<img src=\"data/rrl_mesa.png\">\n",
    "\n",
    "<i>Source: Models of RRL. Paxton et al. ApJS, 243, 10 (2019)</i>\n",
    "\n",
    "Two major classes of RRL (RRab, RRc):\n",
    "<img src=\"data/rrl-types.png\">"
   ]
  },
  {
   "cell_type": "markdown",
   "metadata": {},
   "source": [
    "Stars in the instability strip show a strong correlation between the period of oscillation and their (average) brightness.\n",
    "\n",
    "<img src=\"data/pl1.png\">\n",
    "<i>Source: Udalski et al. 2016</i>\n",
    "\n",
    "Period goes like time, with 1/time$ \\sim \\sqrt{G\\bar \\rho}$ ($G$ is Newton's constant and $\\bar \\rho$ is the average density of the star).\n",
    "\n"
   ]
  },
  {
   "cell_type": "markdown",
   "metadata": {},
   "source": [
    "For more on RRL: http://ogle.astrouw.edu.pl/atlas/RR_Lyr.html"
   ]
  }
 ],
 "metadata": {
  "kernelspec": {
   "display_name": "Python 3 (ipykernel)",
   "language": "python",
   "name": "python3"
  },
  "language_info": {
   "codemirror_mode": {
    "name": "ipython",
    "version": 3
   },
   "file_extension": ".py",
   "mimetype": "text/x-python",
   "name": "python",
   "nbconvert_exporter": "python",
   "pygments_lexer": "ipython3",
   "version": "3.11.9"
  }
 },
 "nbformat": 4,
 "nbformat_minor": 4
}

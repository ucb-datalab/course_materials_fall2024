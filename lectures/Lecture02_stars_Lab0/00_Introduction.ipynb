{
 "cells": [
  {
   "cell_type": "markdown",
   "metadata": {},
   "source": [
    "# Meeting/Lecture 2 - Sep 9, 2024\n",
    "\n",
    "## Agenda\n",
    "\n",
    "* **Office Hours**\n",
    "   - Josh (Mon 12-1), Aaron  (Fri 12-1pm) (355 Campbell)\n",
    "   - Peter (Tue 1-2pm; 355), \n",
    "   - Saahit: Wed 5-6pm (355) and Thu 4-5pm (233)\n",
    "   - by appt\n",
    "   - Communications on Ed Discussion\n",
    " \n",
    "* **Lab 0 due at midnight tomorrow**\n",
    "   - upload via gradescope\n",
    "   - Annotated Jupyter notebook with answers to questions/plots. Not a LaTeX lab report like in Labs 1-3.\n",
    "\n",
    "* **Introduction (this notebook, *00_Introduction*)**\n",
    "   - Astro Resources\n",
    "\n",
    "* __Lab 0 feedback__\n",
    "* __Lab 0 work time__\n",
    "* __Lab 1 assigned__\n",
    "\n",
    "## Getting these notebooks \n",
    "```bash\n",
    "git clone https://github.com/ucb-datalab/course_materials_fall2024.git\n",
    "cd course_materials_fall2024\n",
    "jupyter notebook\n",
    "```"
   ]
  },
  {
   "cell_type": "markdown",
   "metadata": {},
   "source": [
    "# Useful Astronomy Resources\n",
    "\n",
    "## NASA Astrophysical data system (ADS):  https://ui.adsabs.harvard.edu\n",
    " - useful for looking up papers\n",
    " - one of the most frequently visited webpages for astronomers\n",
    " \n",
    "## ArXiv: https://arxiv.org\n",
    " - paper pre-print sever\n",
    " - new papers posted almost daily\n",
    " - another of the most frequently visited webpages for astronomers\n",
    " - fun fact: originally created by Berkeley researcher Joanne Cohn\n",
    " \n",
    "## NASA/IPAC Extragalactic Database (NED): https://ned.ipac.caltech.edu\n",
    "\n",
    "## Simbad: https://simbad.u-strasbg.fr/simbad/sim-fbasic\n",
    "\n",
    "- both NED and Simbad are useful for finding basic information about astronomical objects\n"
   ]
  },
  {
   "cell_type": "markdown",
   "metadata": {},
   "source": [
    "# Lab 0 Checkpoint Feedback\n",
    "\n",
    "  - For the isochrones, use the correct columns from MIST (`Gaia_G_EDR3`, `Gaia_BP_EDR3`, `Gaia_RP_EDR3`)\n",
    "  - Conventionally, magnitudes are plotted from highest to lowest. See Babusiaux et al. 2018 and the lecture notebooks for examples.\n",
    "  - Legends, units, readable font sizes, and appropriate color choices.\n",
    "  - Look at and read the papers we point you to in the lab ... they often have good examples of the sorts of plots we're looking to see.\n",
    "\n",
    "                                                                                                                      \n",
    "For future checkpoints:\n",
    "                                                                                                                      \n",
    "  - Select the correct pages for the checkpoint submissions, but submit the entire notebook PDF.\n",
    "  - Another reminder to submit an exported PDF of the jupyter notebook instead of a set of screenshots or just images of the plots. \n"
   ]
  },
  {
   "cell_type": "markdown",
   "metadata": {},
   "source": [
    "## Stellar Models & Clusters\n",
    "\n",
    "* MESA Isochrones & Stellar Tracks (MIST) https://waps.cfa.harvard.edu/MIST/\n",
    "  - Choi et al. (2016)\n",
    "\n",
    "* PAdova and tRieste Stellar Evolutionary Code (PARSEC): http://stev.oapd.inaf.it/PARSEC/\n",
    "  - Bressan et al. (2012)\n",
    "\n",
    "* For examples of cluster analysis, see Ghosh, E. M., Sulistiyowati, Tucio, P., & Fajrin, M. (2022). Membership and age determination of M67 open cluster using Gaia EDR3 data. Journal of Physics: Conference Series, 2214(1), 012009. https://doi.org/10.1088/1742-6596/2214/1/012009\n"
   ]
  },
  {
   "cell_type": "markdown",
   "metadata": {},
   "source": [
    "# Lab 0 Work Time\n",
    "\n",
    "Some questions to ask:\n",
    " - \"Is this right?\"\n",
    " - \"How big is the cluster?\"\n",
    " - \"Are all of these stars members of the cluster?\"\n",
    " - \"What cuts should I use?\"\n",
    " - \"What about outliers?\"\n",
    " - \"What plot axes should I use?\"\n",
    " - \"How should I use color on my plots?\""
   ]
  },
  {
   "cell_type": "code",
   "execution_count": null,
   "metadata": {},
   "outputs": [],
   "source": []
  }
 ],
 "metadata": {
  "kernelspec": {
   "display_name": "astrods",
   "language": "python",
   "name": "astrods"
  },
  "language_info": {
   "codemirror_mode": {
    "name": "ipython",
    "version": 3
   },
   "file_extension": ".py",
   "mimetype": "text/x-python",
   "name": "python",
   "nbconvert_exporter": "python",
   "pygments_lexer": "ipython3",
   "version": "3.11.9"
  }
 },
 "nbformat": 4,
 "nbformat_minor": 4
}

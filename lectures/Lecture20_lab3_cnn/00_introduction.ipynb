{
 "cells": [
  {
   "cell_type": "markdown",
   "id": "6ac96a67-fc12-4f1b-9530-4f393edb0898",
   "metadata": {},
   "source": [
    "# Meeting/Lecture 20 - Nov 13\n",
    "\n",
    "## Office Hours\n",
    "   - Josh (next Mon 12-1, 355 Campbell), Aaron  (Fri 12-1pm, 425 Campbell)\n",
    "   - Peter (next Tue 1-2pm; 355), \n",
    "   - Saahit: Wed 5-6pm (355) and Thu 4-5pm (233)\n",
    "   - by appt\n",
    "   - Communications on Ed Discussion\n",
    "\n",
    "## Agenda\n",
    "\n",
    "* Introduction (this notebook, *00_Introduction*)\n",
    "* Refresher on NNs with sklearn (*01_neural_networks_with_sklearn*)\n",
    "* PyTorch Intro (*02_neural_nets_with_pytorch*)\n",
    "* Convolutional Neural Nets (*03_CNNs_pytorch*)\n",
    "\n",
    "## Lab 3\n",
    "  * Assigned: Wednesday, Nov 6, 2024\n",
    "  * Checkpoints: \n",
    "      - CP2: Monday, Nov 25, 2024; \n",
    "      - CP3: Tuesday, Dec 3, 2024\n",
    "  * Final Write Up Due: Friday, Dec 6, 2024\n",
    "\n",
    "[Link to the Lab](https://github.com/ucb-datalab/course_materials_fall2024/blob/main/labs/AY128_256_Lab3_image_classification_fall2024.pdf)\n",
    "\n",
    "## Getting these notebooks \n",
    "```bash\n",
    "git clone https://github.com/ucb-datalab/course_materials_fall2024.git\n",
    "cd course_materials_fall2024\n",
    "jupyter notebook\n",
    "```"
   ]
  },
  {
   "cell_type": "code",
   "execution_count": null,
   "id": "c458ffe6-c58a-4d21-8e3a-978488866d7d",
   "metadata": {},
   "outputs": [],
   "source": []
  }
 ],
 "metadata": {
  "kernelspec": {
   "display_name": "astrods",
   "language": "python",
   "name": "astrods"
  },
  "language_info": {
   "codemirror_mode": {
    "name": "ipython",
    "version": 3
   },
   "file_extension": ".py",
   "mimetype": "text/x-python",
   "name": "python",
   "nbconvert_exporter": "python",
   "pygments_lexer": "ipython3",
   "version": "3.11.9"
  }
 },
 "nbformat": 4,
 "nbformat_minor": 5
}

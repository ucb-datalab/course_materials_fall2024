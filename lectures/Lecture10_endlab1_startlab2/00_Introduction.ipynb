{
 "cells": [
  {
   "cell_type": "markdown",
   "metadata": {},
   "source": [
    "# Meeting/Lecture 10 - Oct 7\n",
    "\n",
    "## Office Hours\n",
    "   - Josh (Mon 12-1, 355 Campbell), Aaron  (Fri 12-1pm, 425 Campbell)\n",
    "   - Peter (Tue 1-2pm; 355), \n",
    "   - Saahit: Wed 5-6pm (355) and Thu 4-5pm (233)\n",
    "   - by appt\n",
    "   - Communications on Ed Discussion\n",
    "\n",
    "## Astronomy Talks\n",
    "* Lunch talks: Thursdays 12:30-1:30pm in 131 Campbell\n",
    "* Colloquium: Thursday 3:30-4:30 in 131 Campbell (come to the Tea on the 6th floor at 3pm)\n",
    "\n",
    "## Agenda\n",
    "\n",
    "* Introduction (this notebook, *00_Introduction*)\n",
    "* Group discussion + report back about Lab 1\n",
    "* Lab 2 \n",
    "\n",
    "## Getting these notebooks \n",
    "```bash\n",
    "git clone https://github.com/ucb-datalab/course_materials_fall2024.git\n",
    "cd course_materials_fall2024\n",
    "jupyter notebook\n",
    "```"
   ]
  },
  {
   "cell_type": "markdown",
   "metadata": {},
   "source": [
    "## Questions for Lab 1\n",
    "* How did your RR Lyrae dust maps compare to SFD98?\n",
    "* Where are your dust maps most uncertain or where do they disagree most with SFD?\n",
    "* What new observations might help improve your dust map?\n",
    "* What was the most challening part of Lab 1?\n",
    "* What outstanding questions do you still have about Lab 1?\n",
    "* What can we do to help with future labs?\n",
    "* What advice would you give to someone just starting this lab?"
   ]
  },
  {
   "cell_type": "markdown",
   "metadata": {},
   "source": [
    "## Recap of some Lab 1 skills \n",
    "* Sophisticated ADQL queries\n",
    "* Caching\n",
    "* time series analysis\n",
    "* Fourier Transforms / Lomb-Scargle periodograms\n",
    "* Coding up and solving maxtrix / linear algebra equations in python\n",
    "* cross validation\n",
    "* Fourier Decomposition\n",
    "* $\\chi^2$ fitting\n",
    "* multi-component time series (e.g., RRc, Blahzko effects)\n",
    "* outlier rejection\n",
    "* Metropolis-Hastings & MCMC\n",
    "* PyMC\n",
    "* Posterior visualization (arviz, corner)\n",
    "* creating and comparing spatial maps\n",
    "* astrophysics: extinction, distances, variable stars, ...\n",
    "* ..."
   ]
  },
  {
   "cell_type": "markdown",
   "metadata": {},
   "source": [
    "## Some general tips\n",
    "* Work on the cloud\n",
    " - work in a google drive that automatically backs itself up\n",
    " - use github for coding\n",
    " - write reports on overleaf\n",
    "* Research doesn't need to be done sequentially\n",
    "* install and check all required python packages at the beginning of the lab\n",
    "* copy all prompts into your lab document first"
   ]
  },
  {
   "cell_type": "markdown",
   "metadata": {},
   "source": [
    "## Advice\n",
    "\n",
    "\n",
    "\"Hi AY 128! This class is likely going to be one that you get so much out of. It was definitely one of my peers' and my favorite course at Cal, because we learned so much.  If you are interested in pursuing a graduate degree or going into data science, invest your time in 128 because the skills you learn are highly transferable to many different research projects! I'm now in a PhD program, and I find myself going back to the code I wrote in 128 to use in research/problem sets now.\n",
    "\n",
    "I do want to emphasize that this class is a lot of work! You get what you put in. Do the checkpoints!!! You may think it's only worth a few points so you can skip it, but your future self will thank you because they do add up and it will be so difficult to do the labs right before the deadline. There can be many hiccups along the way such as Gaia going down, so starting early does help so you're not frustrated last minute (this happened many times to our Spring 2020 class). This can't be said enough, but comment your code too. Also the GSIs are an extremely valuable resource—they are so helpful/knowledgeable!\"\n",
    "\n",
    "~ Suchi\n",
    "\n",
    "__Suchitra Narayanan__ \\\n",
    "University of California, Berkeley\\\n",
    "B.S. Chemical and Biomolecular Engineering\\\n",
    "B.A. Astrophysics\\\n",
    "Class of 2020\n",
    "\n",
    "Now a 5th year NSF Graduate Research Fellow working in astro chemistry at University of Hawaii\n"
   ]
  },
  {
   "cell_type": "markdown",
   "metadata": {},
   "source": [
    "## Lab 2 -- Modeling Stellar Spectra\n",
    "\n",
    "* Today: overview of the lab\n",
    "* Wednesday: physics of stellar spectra, intro to APOGEE\n",
    "* Schedule:\n",
    "\n",
    "    - Assigned: Monday, October 7, 2024\n",
    "    - Checkpoints: Wednesday, October 16, 2024; Wednesday, October 23, 2024;  Wednesday, October 30, 2024 \\\\\n",
    "    - Final Write Up Due: Friday, November 1, 2024\n",
    "\n",
    "* __Stellar Spectra__\n",
    "\n",
    "<img src=\"https://voyages.sdss.org/wp-content/uploads/2018/03/sky-bas-type-spec-im2.jpg\"></img>\n",
    "\n",
    "* <a href=\"https://www.sdss4.org/surveys/apogee/\">APOGEE Survey</a>\n",
    "\n",
    "* __APOGEE Spectra__\n",
    "<img src=\"https://www.sdss3.org/images/apogee/temp_sequence.png\"></img>"
   ]
  }
 ],
 "metadata": {
  "kernelspec": {
   "display_name": "Python 3 (ipykernel)",
   "language": "python",
   "name": "python3"
  },
  "language_info": {
   "codemirror_mode": {
    "name": "ipython",
    "version": 3
   },
   "file_extension": ".py",
   "mimetype": "text/x-python",
   "name": "python",
   "nbconvert_exporter": "python",
   "pygments_lexer": "ipython3",
   "version": "3.10.12"
  }
 },
 "nbformat": 4,
 "nbformat_minor": 4
}

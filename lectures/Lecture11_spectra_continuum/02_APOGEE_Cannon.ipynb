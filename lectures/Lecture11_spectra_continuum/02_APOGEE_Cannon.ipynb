{
 "cells": [
  {
   "cell_type": "code",
   "execution_count": 1,
   "metadata": {
    "execution": {
     "iopub.execute_input": "2024-10-09T03:51:24.432359Z",
     "iopub.status.busy": "2024-10-09T03:51:24.431540Z",
     "iopub.status.idle": "2024-10-09T03:51:24.477093Z",
     "shell.execute_reply": "2024-10-09T03:51:24.474135Z",
     "shell.execute_reply.started": "2024-10-09T03:51:24.432263Z"
    }
   },
   "outputs": [
    {
     "data": {
      "text/html": [
       "\n",
       "<script src=\"https://stackpath.bootstrapcdn.com/bootstrap/4.3.1/js/bootstrap.min.js\" integrity=\"sha384-JjSmVgyd0p3pXB1rRibZUAYoIIy6OrQ6VrjIEaFf/nJGzIxFDsf4x0xIM+B07jRM\" crossorigin=\"anonymous\"></script>\n",
       "\n",
       "<style>\n",
       "\n",
       "@import url(https://fonts.googleapis.com/css?family=Open+Sans);body{\n",
       "   font-family: 'Open Sans';\n",
       "   font-size: 125%;\n",
       "}\n",
       "\n",
       ".talk_title\n",
       "{\n",
       "  color: #498AF3;\n",
       "  font-size: 275%;\n",
       "  font-weight:bold;\n",
       "  line-height: 1.3; \n",
       "  margin: 10px 50px 10px;\n",
       "  }\n",
       "\n",
       ".subtitle\n",
       "{\n",
       "  color: #386BBC;\n",
       "  font-size: 180%;\n",
       "  font-weight:bold;\n",
       "  line-height: 1.2; \n",
       "  margin: 20px 50px 20px;\n",
       "  }\n",
       "\n",
       ".rendered_html h1\n",
       "{\n",
       "  color: #498AF3;\n",
       "  line-height: 1.2; \n",
       "  margin: 0.15em 0em 0.5em;\n",
       "  page-break-before: always;\n",
       "  text-align: center;\n",
       "  }\n",
       "\n",
       "\n",
       ".center\n",
       "{\n",
       "  text-align: center;\n",
       "  }\n",
       "\n",
       ".nb_link\n",
       "{\n",
       "    padding-bottom: 0.5em;\n",
       "}\n",
       "\n",
       "</style>"
      ],
      "text/plain": [
       "<IPython.core.display.HTML object>"
      ]
     },
     "metadata": {},
     "output_type": "display_data"
    }
   ],
   "source": [
    "%run ../talktools.py"
   ]
  },
  {
   "cell_type": "markdown",
   "metadata": {},
   "source": [
    "# Background on APOGEE, the Cannon, Notes on Lab 2\n",
    "Astro 128/256 (UC Berkeley, 2024)"
   ]
  },
  {
   "cell_type": "markdown",
   "metadata": {},
   "source": [
    "## APOGEE\n",
    "\n",
    "<img src=\"https://www.sdss.org/wp-content/uploads/2014/07/apogee_v3.jpg\" width=500 height=500>\n",
    "\n",
    "\n",
    "* APOGEE = Apache Point Observatory Galactic Evolution Experiment\n",
    "* APOGEE is a near-IR spectroscopy survey that is part of the Sloan Digital Sky Survey\n",
    "* APOGEE: 2008-2014, part of SDSS-III\n",
    "* APOGEE-2: 2014 - 2020, part of SDSS IV\n",
    "* APOGEE-2 maps the dynamical and chemical patterns of Milky Way stars with data from:\n",
    " * 1-meter New Mexico State (NMSU) Telescope \n",
    " * 2.5-meter Sloan Foundation Telescope at the Apache Point Observatory (APO) in New Mexico (APOGEE-2N),  \n",
    " * 2.5-meter du Pont Telescope at Las Campanas Observatory (LCO) in Chile (APOGEE-2S)\n",
    "* References: [Holtzman et al. 2015](https://arxiv.org/abs/1501.04110), [Majewski et al. 2017](https://arxiv.org/abs/1509.05420)\n",
    "* APOGEE-3 (Milky Way Mapper): 2021 - 2025(?), part of <a href=\"https://www.sdss5.org\">SDSS-V</a>"
   ]
  },
  {
   "cell_type": "markdown",
   "metadata": {},
   "source": [
    "### APOGEE Key Science Goals\n",
    "\n",
    "* What is the history of star formation and chemical enrichment of the Milky Way?\n",
    "* What are the dynamics of the disk, bulge, and halo of the Milky Way?\n",
    "* What is the age distribution of stars in the Milky Way?\n",
    "* Do planet-hosting stars have different properties than stars that have no planets?"
   ]
  },
  {
   "cell_type": "markdown",
   "metadata": {},
   "source": [
    "### APOGEE Technical Details\n",
    "\n",
    "* Bright-time observations at APO and LCO\n",
    "* Duration: Fall 2014 - Fall 2020\n",
    "* Fiber Complement: 300 fibers per 7 deg$^2$ plate (APO 2.5-m) or 3.5 deg$^2$ plate (LCO 2.5-m), or 10 fiber (APO 1-m)\n",
    "* Wavelength Range: $1.51-1.70$ $\\mu m$\n",
    "* Spectral Resolution: R$\\sim$22,500\n",
    "* APOGEE-1+2 Sample Size: $\\sim$263,000 stars (APOGEE-3: 4 million stars)\n",
    "* Signal-to-Noise Goal: S/N $>$ 100 per pixel\n",
    "* Radial Velocity Precision: $\\sim$200 m/s\n",
    "* Element Abundance Precision: $\\sim$0.1 dex for 20 calibrated species\n",
    "* H-band $\\lesssim 13$th magnitude\n",
    "\n",
    "* The APOGEE-2 survey footprint, overlaid on an infrared image of the Milky Way. Each dot shows a position where APOGEE obtains at least 250 stellar spectra.\n",
    "\n",
    "<img src=\"https://www.sdss.org/wp-content/uploads/2014/06/apogee2-survey-high.jpg\" width=700 height=700>\n",
    "\n",
    "* Example APOGEE spectra:\n",
    "\n",
    "<img src=\"https://blog.sdss.org/wp-content/uploads/2015/01/apogee_tempsequence_new2.png?w=300\" width=800 height=800>\n"
   ]
  },
  {
   "cell_type": "markdown",
   "metadata": {},
   "source": [
    "## Stellar Parameters for APOGEE Spectra\n",
    "\n",
    "### ASPCAP\n",
    "\n",
    "\n",
    "* APOGEE Stellar Parameters and Chemical Abundances Pipeline\n",
    "* Fit physically motivated stellar atmospheres to all of the APOGEE stellar spectra\n",
    " * 1D, plane-parallel Kurucz Stellar models ($T>3500$K)\n",
    "* Use basic $\\chi^2$ minimization\n",
    "* Written in IDL\n",
    "* Largely treated as \"ground truth\" for the APOGEE Survey\n",
    "* Reference: [Garcia-Perez et al. 2015](http://adsabs.harvard.edu/abs/2015arXiv151007635G)\n",
    "* But, very slow to run, making it impractical for fitting $\\sim 10^5-10^6$ stellar spectra\n",
    "\n",
    "### The Cannon \n",
    "\n",
    "* Named in homage to Annie Jump Cannon\n",
    "* Data driven model for determing stellar parameters, also called stellar \"labels\" (e.g., T$_{\\rm eff}$, log(g), [Fe/H])\n",
    "* The idea is to select a set of stars for which we believe the derived labels\n",
    "* For example, from those that have labels very well determined by ASPCAP or other high res spectra\n",
    " * Called the \"Training Set\"\n",
    "* Then build a model to transfer labels of the \"training set\" to all other APOGEE stars\n",
    "* Reference: [Ness et al. 2015](https://arxiv.org/abs/1501.07604)"
   ]
  },
  {
   "cell_type": "markdown",
   "metadata": {},
   "source": [
    "## Lab 2\n",
    "\n",
    "* You're going to build a version of \"The Cannon\" and measure stellar labels for APOGEE stars.\n",
    "  * You will, more-or-less, follow the exact method from Ness et al. (2015)\n",
    "\n",
    "* A few important concepts to think about:\n",
    "  * __Training Set__ : The set of data from which your data-driven model with be calibrated (or \"trained\")\n",
    "  * __Over-fitting__: A modeling error which occurs when a function is too closely fit to a limited set of data points. \n",
    "  * __Cross-validation__: any of various model validation techniques for assessing how the results of a statistical analysis will generalize to an independent data set.\n",
    "  * For this lab, you'll only use part of your data to train and the other part to validate -- this is one approach to prevent over-fitting\n",
    " \n",
    "* __Checkpoint 1:__  \n",
    "  * This is data gathering and spectral exploration\n",
    "  * Note that the data gathering is non-trivial and figuring it out is part of this lab"
   ]
  }
 ],
 "metadata": {
  "kernelspec": {
   "display_name": "Python 3 (ipykernel)",
   "language": "python",
   "name": "python3"
  },
  "language_info": {
   "codemirror_mode": {
    "name": "ipython",
    "version": 3
   },
   "file_extension": ".py",
   "mimetype": "text/x-python",
   "name": "python",
   "nbconvert_exporter": "python",
   "pygments_lexer": "ipython3",
   "version": "3.10.12"
  }
 },
 "nbformat": 4,
 "nbformat_minor": 4
}

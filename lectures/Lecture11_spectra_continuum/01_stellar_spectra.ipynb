{
 "cells": [
  {
   "cell_type": "code",
   "execution_count": 1,
   "metadata": {
    "execution": {
     "iopub.execute_input": "2024-10-09T03:48:24.506952Z",
     "iopub.status.busy": "2024-10-09T03:48:24.505553Z",
     "iopub.status.idle": "2024-10-09T03:48:24.559327Z",
     "shell.execute_reply": "2024-10-09T03:48:24.556590Z",
     "shell.execute_reply.started": "2024-10-09T03:48:24.506794Z"
    }
   },
   "outputs": [
    {
     "data": {
      "text/html": [
       "\n",
       "<script src=\"https://stackpath.bootstrapcdn.com/bootstrap/4.3.1/js/bootstrap.min.js\" integrity=\"sha384-JjSmVgyd0p3pXB1rRibZUAYoIIy6OrQ6VrjIEaFf/nJGzIxFDsf4x0xIM+B07jRM\" crossorigin=\"anonymous\"></script>\n",
       "\n",
       "<style>\n",
       "\n",
       "@import url(https://fonts.googleapis.com/css?family=Open+Sans);body{\n",
       "   font-family: 'Open Sans';\n",
       "   font-size: 125%;\n",
       "}\n",
       "\n",
       ".talk_title\n",
       "{\n",
       "  color: #498AF3;\n",
       "  font-size: 275%;\n",
       "  font-weight:bold;\n",
       "  line-height: 1.3; \n",
       "  margin: 10px 50px 10px;\n",
       "  }\n",
       "\n",
       ".subtitle\n",
       "{\n",
       "  color: #386BBC;\n",
       "  font-size: 180%;\n",
       "  font-weight:bold;\n",
       "  line-height: 1.2; \n",
       "  margin: 20px 50px 20px;\n",
       "  }\n",
       "\n",
       ".rendered_html h1\n",
       "{\n",
       "  color: #498AF3;\n",
       "  line-height: 1.2; \n",
       "  margin: 0.15em 0em 0.5em;\n",
       "  page-break-before: always;\n",
       "  text-align: center;\n",
       "  }\n",
       "\n",
       "\n",
       ".center\n",
       "{\n",
       "  text-align: center;\n",
       "  }\n",
       "\n",
       ".nb_link\n",
       "{\n",
       "    padding-bottom: 0.5em;\n",
       "}\n",
       "\n",
       "</style>"
      ],
      "text/plain": [
       "<IPython.core.display.HTML object>"
      ]
     },
     "metadata": {},
     "output_type": "display_data"
    }
   ],
   "source": [
    "%run ../talktools.py"
   ]
  },
  {
   "cell_type": "markdown",
   "metadata": {},
   "source": [
    "# Stellar Spectroscopy\n",
    "\n",
    "Astro 128/256 (UC Berkeley, 2024)"
   ]
  },
  {
   "cell_type": "markdown",
   "metadata": {},
   "source": [
    "## Motivation\n",
    "This lab is all about stellar spectroscopy.  We're going to build a data-driven model of stars from the APOGEE survey and use it to measure the chemical abundances of stars throughout the Milky Way.  In the process, you'll learn how to build a data-driven model from scratch as well as work with neural networks.  \n",
    "\n",
    "You'll also learn about stellar spectra, stellar chemistry, and stellar evolution.  This notebook provides broad background on stellar spectra including the basic properties of stars, why their spectra have features, the physics of stellar atmospheres, and how most contemporary stellar atmosphere models work.  Much of this background will be important for interpreting results from your data-driven model and sanity checking them.\n",
    "\n",
    "Chemical tagging stars can help us learn what kind of environment (molecular cloud) they were born in, and help us identify stars that grew up in similar environments---in some cases well enough to co-identify members of the same birth group, even after they have been separated. It also helps us learn about the evolution of galaxies as early generations of stars generate heavier elements that aid the cooling and collapse of molecular clouds in subsequent generations."
   ]
  },
  {
   "cell_type": "markdown",
   "metadata": {},
   "source": [
    "## Some Science with Stellar Spectroscopy\n",
    "\n",
    "* Galaxy Evolution and Chemical Cartography: <a href=\"https://arxiv.org/abs/1604.07435\">Weinberg et al. 2017</a>, <a href=\"https://ui.adsabs.harvard.edu/#abs/1979ApJ...229.1046T/abstract\">Tinsley 1978</a>\n",
    "* Chemical Tagging: <a href=\"https://ui.adsabs.harvard.edu/#abs/2002ARA&A..40..487F/abstract\">Freeman & Bland-Hawthorn 2002</a>, <a href=\"https://ui.adsabs.harvard.edu/#abs/2016ApJ...833..262H/abstract\">Hogg et al. 2016</a>, <a href=\"https://arxiv.org/abs/1507.07563\">Ting et al. 2016</a>\n",
    "* Near-Field Cosmology, Galaxy Archaeology, First Stars: <a href=\"https://ui.adsabs.harvard.edu/#abs/2015ARA&A..53..631F/abstract\">Frebel & Norris 2015</a>, <a href=\"https://ui.adsabs.harvard.edu/#abs/2018ApJ...856..138J/abstract\">Ji et al 2018</a>, <a href=\"https://arxiv.org/abs/1901.05465\">Simon 2019</a>\n",
    "* <a href=\"https://cads.iiap.res.in/tools/stellarFluxCalc\">Stellar Spectrum Calculator</a>\n"
   ]
  },
  {
   "cell_type": "markdown",
   "metadata": {},
   "source": [
    "## Zeroth Order Description of stars\n",
    "* A star is basically a very hot, luminous light bulb in the center (__stellar interior__) surrounded by cooler layers of gas (__stellar atmosphere__).\n",
    "*  What we observe: a star's __spectrum__ is intensity or flux as a function of wavelength or freqency.\n",
    "* A star's spectrum can be reasonably approximated as a __blackbody__  (i.e., Planck's function)\n",
    " * Assumes thermodynamic equilibrium\n",
    "* # $B_{\\lambda}(T) = \\frac{2hc^2}{\\lambda^5} \\frac{1}{e^{hc/\\lambda kT} - 1}$ $\\big[\\frac{erg}{s \\ A \\ str \\ cm^2} \\big]$\n",
    "<img src='figs/blackbody.png' width=700 height=700></img>"
   ]
  },
  {
   "cell_type": "markdown",
   "metadata": {},
   "source": [
    "## In practice, stars are not perfect blackbodies\n",
    "* Emission and absoprtion features from different species of atoms and molecules\n",
    " * Due to quantum transitions of electrons\n",
    " * H$\\alpha$ (n=3 to n=2), H$\\beta$ (n=4 to n=2), etc.\n",
    " * Neutral vs. ionized: e.g., HI (atomic hydrogen), HeII (singly ionized helium)\n",
    "* Not really in thermodynamic equilibriuim\n",
    "* Example: compare Solar spectrum to blackbody\n",
    "\n",
    "<img src='figs/solar_spectrum.jpg' width=700 height=700></img>"
   ]
  },
  {
   "cell_type": "markdown",
   "metadata": {},
   "source": [
    "## Stars Referred to by Spectral \"Types\"\n",
    "* Example of spectral types:\n",
    "<img src='figs/specprf.gif' width=500 height=500></img>\n",
    "\n",
    "\n",
    "* Both continuum (overall shape) and absoprtion / emission features change as a function of spectral type\n",
    " * T ~ 30,000 K -- highly ionized elements (O type)\n",
    " * T ~ 10,000K -- dominated by neutral H (A type)\n",
    " * T ~ 6,000K -- Ionized metal lines (G type)\n",
    " * T ~ 4,000K -- Neutral metals and molecules (M type)\n",
    "\n",
    "### Connection between spectra type and CMD\n",
    "<img src=\"https://sci.esa.int/documents/33580/35361/1567214809100-ESA_Gaia_DR2_HRD_Gaia_625.jpg\" width=50%></img>\n"
   ]
  },
  {
   "cell_type": "markdown",
   "metadata": {},
   "source": [
    "## Early history of stellar spectra\n",
    "* In 19th century, stars classified by strength of Balmer lines of neutral hydrogen, gave rise to A-type, B-type, etc. -- led to confusing ordering later\n",
    " * 1880s, __Antonia Maury__ (Harvard) realized strength of all spectral lines changed continuously along a sequence, came up with a detailed classification system\n",
    " * 1901 -- __Annie Jump Cannon__ (Harvard) published simpler stellar classification system: OBAFGKM\n",
    " * 1925 -- __Cecilia Payne__ (Radcliff/Harvard) demonstrated that the Sun was mostly made of hydrogen and that effective temperatures were responsible for absorption / emission features\n",
    "  * This was dismissed as nonsense at the time by Henry Norris Russell.  He later realized he was wrong and she was right, and published an admission of his mistake in 1929\n",
    "  * Between 1911 and 1940, ~40,000 stars were classifed in the __Henry Draper (HD)__ catalog\n",
    "  * __Maury's__ more detailed classification system form the sub-classes from 0 (hotter) to 9 (cooler). \n",
    "  * The Sun is a G2 star\n",
    " "
   ]
  },
  {
   "cell_type": "markdown",
   "metadata": {},
   "source": [
    "## Physics of Stellar Spectra\n",
    "\n",
    "* Spectral type is really a proxy for effective temperature, surface gravity, composition, and other related physics (rotation, turbulence, ...) \n",
    "\n",
    "\n",
    "* Basic physical ingredients for modeling a star's spectrum:\n",
    "  * temperature, surface gravity, radius, chemical composition, rate of rotation, etc..\n",
    "\n",
    "\n",
    "* __Surface gravity__\n",
    "  * ## $g \\propto \\frac{M}{R^2}$\n",
    "  * Giants have low surface gravity, dwarfs have high surface gravity\n",
    "  * unit of acceleration (e.g., cm s$^{-2}$)\n",
    " \n",
    " \n",
    "\n",
    "* __Effective temperature:__\n",
    "  * ## $L = 4 \\pi R^2 \\sigma_{SB} T_{eff}^4$\n",
    "\n",
    "\n",
    "* Making a model stellar atmosphere is a complicated physics problem\n",
    "* Rely on (useful) some simplifying assumptions:\n",
    "  * __Plane-Parallel Geometry__: only one spatial coordinate\n",
    "  * __Hydrostatic Equilibrium__: most pressure comes from gas pressure\n",
    "  * __No fine structres__: no starspots\n",
    "  * __No magnetic fields__\n",
    "  * __Stars don't rotate__"
   ]
  },
  {
   "cell_type": "markdown",
   "metadata": {},
   "source": [
    "## Local Thermodynamic Equilibrium (LTE)\n",
    " \n",
    "* __Blackbody assumption__  At the bottom of the stellar photosphere the optical depth to the surface is high enough to prevent escape of most photons. They are reabsorbed close to where they were emitted and radiation laws of BB apply. Distribution of particles in a star represent a range of temperatures.\n",
    "\n",
    "\n",
    "* __Eqilibrium assumption cannot be true:__ stars have a net flow of energy (i.e., the stars radiate away energy)\n",
    "\n",
    "\n",
    "* __NLTE:__ Higher layers deviate increasingly from Black Body case as this leakage becomes more significant. There is a continuous transition from near perfect local thermodynamic equilibrium (LTE) deep in the photosphere to complete __non-equilibrium (non-LTE)__ high in the atmosphere.\n",
    "\n",
    "\n",
    "* __LTE__: Thermodynamic Equilibrium is applied to relatively small volumes of the model photosphere - volumes with dimensions of order unity in optical depth. This is why it's called __Local Thermodynamic Equilibrium (LTE)__ in practice.\n",
    "\n",
    "\n",
    "* Distribution of photon energies: __Planck Law__ (Blackbody Relation)\n",
    "* Distribution of kinetic energies: __Maxwell-Boltzmann Relation__\n",
    "* Distribution among excitation levels: __Boltzmann Equation__\n",
    "* Distribution among ionization states: __Saha Equation__\n",
    "\n"
   ]
  },
  {
   "cell_type": "markdown",
   "metadata": {},
   "source": [
    "## Opacity\n",
    "\n",
    "* Any process which removes photons from a beam of parallel light travelling through a gas will be called absorption, which includes scattering\n",
    "\n",
    "* ## $dI_{\\lambda} = -\\kappa_{\\lambda}\\rho I_{\\lambda} ds$\n",
    "\n",
    "  * $dI_{\\lambda}$: The change in intensity of light at some wavelength $(\\lambda)$ as it travels through a gas\n",
    "  * $ds$: the distance traveled\n",
    "  * $I_{\\lambda}$: the intensity of light\n",
    "  * $\\rho$: density of gas\n",
    "  * $\\kappa_{\\lambda}$: The absorption coefficient, or opacity\n",
    "\n",
    "* Opacity is a function of composition, density, & temperature.\n",
    "* The detailed calculation of $\\kappa_{\\lambda}$ is a tough and extended problem within astrophysics, and cross-sections as a function of frequency for all sorts of atoms and molecules and even dust grains have to be calculated.\n",
    "* The wavelength dependence shapes the continuous spectrum emitted by a star. It also has a major influence on the temperature structure of an atmosphere because the opacity controls how easily energy flows at a given wavelength.\n",
    "* Where opacity is high, energy flow (flux) is low.\n",
    "* Sources of opacity: Bound-Bound absorption, Bound-Free absorption, Free-Free absorption, Electron Scattering\n",
    "* The primary source of opacity in most stellar atmospheres is: the photoionization of H$^-$ ions, but these become increasingly ionized for A, B stars, and then photoionization of H atoms and free-free absorption become the main sources.\n",
    "* For O stars the main source is electron scattering, and the photoionization of He also contributes.\n",
    "* Molecules can survive in cooler stellar atmospheres and contribute to bound-bound and bound-free opacities. The large numbers of molecular lines are an efficient impediment to the flow of photons."
   ]
  },
  {
   "cell_type": "markdown",
   "metadata": {},
   "source": [
    "## Radiative Transfer\n",
    "\n",
    "* Describes the passge of light through a star's atmosphere:\n",
    "\n",
    "* # $\\frac{1}{\\kappa_{\\lambda}\\rho} \\, \\frac{dI_{\\lambda}}{ds} = \\frac{dI_{\\lambda}}{d\\tau_{\\lambda}}  = -I_{\\lambda} + S_{\\lambda}$\n",
    " \n",
    " * In an equilibrium (or steady-state) star there can be no change in the total energy contained within any layer of the stellar atmosphere. This means that mechanisms involving absorbing and emitting must be in balance throughout the star.\n",
    " \n",
    " * The intensity of light depends on the direction of travel to account for the net outflow of energy; although absorption and emission coefficients are the same for light traveling in all directions. They depend upon $T$ and $\\rho$ in a complicated way.\n",
    " \n",
    " * To know anything about physical conditions in a stellar atmosphere $(T, \\rho)$ we must know at what depth the spectral lines are formed, which means understanding and solving the radiative transfer equation.\n",
    " \n",
    " * Assumption of __Plane-Parallel__ atmosphere (atmospheric curvature $<<$ thickness of atmosphere) is very powerful and makes this problem lot easier\n",
    " \n",
    " * Almost all contemporary physical models of stellar atmosphere are 1D (i.e., plane-parallel)"
   ]
  },
  {
   "cell_type": "markdown",
   "metadata": {},
   "source": [
    "## Create a Model Atmosphere & Spectra\n",
    "\n",
    "### Stellar Atmosphere\n",
    " * Typical code input: $T_{\\rm eff}$, log(g), Z (metallicity), turbulent velocity\n",
    " * Output: optical depth, temperature, gas pressure, electron pressue, mean molecular weight, opacity\n",
    " \n",
    "### Synthetic Spectral Generation\n",
    " * The model \"atmosphere\", more specifically temp-presssure, temp-optical depth (called $T-\\tau$) relationships are input into synthesis programs that take the physiscs, perform radiative transfer, and produce continuum + lines as a function of wavelength \n",
    " \n",
    "### Line Profiles\n",
    "\n",
    "* A typical stellar spectrum, especially for cooler stars, contains thousands of lines, from many different chemical elements. Spectral lines have a variety of widths for which there are several causes, some internal to the atom, others external, and each produces a characteristic profile. Some types of profile have a broad core and small wings; others have a narrow core and extensive, broad wings.\n",
    " \n",
    "* Line Widths have three main components: \n",
    " * __Natural broadening__ (Lorentzian profile, very narrow)\n",
    " * __Doppler broadening__ (Maxwell-Boltzmann distribution, Gaussian) \n",
    " * __Pressure (collisional) broadening__ (Lorentzian profile)\n",
    " \n",
    "* Other, smaller effects: Zeeman splitting (strong magnetic effects on atoms), hyperfine (nuclear magnetic dipole)\n",
    "\n",
    "<img src='figs/lineprofile.gif'></img>"
   ]
  },
  {
   "cell_type": "markdown",
   "metadata": {},
   "source": [
    "## Relative Strength of Spectral Lines\n",
    "\n",
    "<img src=\"figs/spectraltype.gif\" width=800 height=800></img>"
   ]
  },
  {
   "cell_type": "markdown",
   "metadata": {},
   "source": [
    "## A Few Words on Spectrographs\n",
    "\n",
    "* Schematic example of a spectograph below\n",
    "* Collimator makes incoming beam parallel\n",
    "* Grating disperses the light by wavelength\n",
    "* CCD records the flux at each wavelength\n",
    "\n",
    "<img src=\"figs/telescope.png\" width=500 height=500></img>\n",
    "* __Spectroscopic resolution__: If spectrograph can barely distinguish two spectral features at wavelengths $\\lambda$ and $\\lambda + d\\lambda$, its spectral resolution is: $R = \\lambda/d\\lambda$\n",
    "\n",
    "* Note that $R$ can, and usually does, vary as a function of wavelength\n",
    "\n",
    "* Nomenclature for what counts are high/medium/low resolution spectra varies quite a bit.  Generally:\n",
    " * __Low Resolution__: $R\\ \\lesssim$ 5000\n",
    " * __Medium Resolution__: $R \\sim$ 5000-10000\n",
    " * __High Resolution__: $R \\gtrsim 10^4$\n",
    " * Highest Resolution <a href=http://bass2000.obspm.fr/solar_spect.php>solar spectrum</a>: $R \\sim 10^5 - 10^6$\n",
    " * In some sense, photometry can be thought of as really low resolution spectroscopy.  For example, a V-band filter of 1000 A would yields $R\\sim 5000 / 1000 \\sim 5$."
   ]
  }
 ],
 "metadata": {
  "kernelspec": {
   "display_name": "Python 3 (ipykernel)",
   "language": "python",
   "name": "python3"
  },
  "language_info": {
   "codemirror_mode": {
    "name": "ipython",
    "version": 3
   },
   "file_extension": ".py",
   "mimetype": "text/x-python",
   "name": "python",
   "nbconvert_exporter": "python",
   "pygments_lexer": "ipython3",
   "version": "3.10.12"
  }
 },
 "nbformat": 4,
 "nbformat_minor": 4
}

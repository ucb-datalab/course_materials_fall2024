{
 "cells": [
  {
   "cell_type": "markdown",
   "id": "6ac96a67-fc12-4f1b-9530-4f393edb0898",
   "metadata": {},
   "source": [
    "# Meeting/Lecture 21 - Nov 18\n",
    "\n",
    "## Office Hours\n",
    "   - Josh (today: Mon 12-1, 355 Campbell), Aaron  (Fri 12-1pm, 425 Campbell)\n",
    "   - Peter (Tue 1-2pm; 355), \n",
    "   - Saahit: Wed 5-6pm (355) and Thu 4-5pm (233)\n",
    "   - by appt\n",
    "   - Communications on Ed Discussion\n",
    "\n",
    "## Lecture/Lab Schedule\n",
    "\n",
    "  * Nov 18 - CNNs\n",
    "  * Nov 21 (Wednesday) - In-class lab work\n",
    "  * Nov 25 (Monday) - ResNets; In-class lab work\n",
    "  * Nov 27 (Wednesday) - *Cancelled Class*\n",
    "  * Dec 2 (Monday) - In-class lab work\n",
    "  * Dec 4 (Wednesday) - Last class (a little party) + parting words\n",
    "\n",
    "## Agenda\n",
    "\n",
    "* Introduction (this notebook, *00_Introduction*)\n",
    "* Convolutional Neural Nets (*01_CNNs_pytorch*)\n",
    "\n",
    "## Lab 3\n",
    "  * Assigned: Wednesday, Nov 6, 2024\n",
    "  * Checkpoints: \n",
    "      - CP2: Monday, Nov **26**, 2024; \n",
    "      - CP3: Tuesday, Dec 3, 2024\n",
    "  * Final Write Up Due: Friday, Dec 6, 2024\n",
    "\n",
    "[Link to the Lab](https://github.com/ucb-datalab/course_materials_fall2024/blob/main/labs/AY128_256_Lab3_image_classification_fall2024.pdf)\n",
    "\n",
    "## Getting these notebooks \n",
    "```bash\n",
    "git clone https://github.com/ucb-datalab/course_materials_fall2024.git\n",
    "cd course_materials_fall2024\n",
    "jupyter notebook\n",
    "```"
   ]
  },
  {
   "cell_type": "code",
   "execution_count": null,
   "id": "c458ffe6-c58a-4d21-8e3a-978488866d7d",
   "metadata": {},
   "outputs": [],
   "source": []
  }
 ],
 "metadata": {
  "kernelspec": {
   "display_name": "astrods",
   "language": "python",
   "name": "astrods"
  },
  "language_info": {
   "codemirror_mode": {
    "name": "ipython",
    "version": 3
   },
   "file_extension": ".py",
   "mimetype": "text/x-python",
   "name": "python",
   "nbconvert_exporter": "python",
   "pygments_lexer": "ipython3",
   "version": "3.11.9"
  }
 },
 "nbformat": 4,
 "nbformat_minor": 5
}

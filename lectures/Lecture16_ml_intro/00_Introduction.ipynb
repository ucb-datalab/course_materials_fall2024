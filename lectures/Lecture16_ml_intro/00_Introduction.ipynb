{
 "cells": [
  {
   "cell_type": "markdown",
   "metadata": {},
   "source": [
    "# Meeting/Lecture 16 - Oct 28\n",
    "\n",
    "## Office Hours\n",
    "* Josh (Mon 12-1, 355 Campbell), Aaron (Fri 12-1pm, 425 Campbell)\n",
    "* Peter (Tue 1-2pm; 355), \n",
    "* Saahit: Wed 5-6pm (355) and Thu 4-5pm (233)\n",
    "* by appt\n",
    "* Communications on Ed Discussion\n",
    "\n",
    "## Agenda\n",
    "\n",
    "* Introduction (this notebook, *00_Introduction*)\n",
    "* ML Introduction (**01_intro_to_machine_learning**)\n",
    "* Neural Networks (**02_neural_networks**)\n",
    "\n",
    "\n",
    "## Lab 2\n",
    "* Checkpoint 3 due Weds before Midnight (10/30)\n",
    "* Lab report due Friday 11/1\n",
    "\n",
    "## Getting these notebooks \n",
    "```bash\n",
    "git clone https://github.com/ucb-datalab/course_materials_fall2024.git\n",
    "cd course_materials_fall2024\n",
    "jupyter notebook\n",
    "```"
   ]
  },
  {
   "cell_type": "code",
   "execution_count": null,
   "metadata": {},
   "outputs": [],
   "source": []
  }
 ],
 "metadata": {
  "kernelspec": {
   "display_name": "astrods",
   "language": "python",
   "name": "astrods"
  },
  "language_info": {
   "codemirror_mode": {
    "name": "ipython",
    "version": 3
   },
   "file_extension": ".py",
   "mimetype": "text/x-python",
   "name": "python",
   "nbconvert_exporter": "python",
   "pygments_lexer": "ipython3",
   "version": "3.11.9"
  }
 },
 "nbformat": 4,
 "nbformat_minor": 4
}

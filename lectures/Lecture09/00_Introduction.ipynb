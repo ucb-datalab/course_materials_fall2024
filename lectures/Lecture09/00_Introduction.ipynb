{
 "cells": [
  {
   "cell_type": "code",
   "execution_count": null,
   "metadata": {},
   "outputs": [],
   "source": [
    "%run ../talktools.py"
   ]
  },
  {
   "cell_type": "markdown",
   "metadata": {},
   "source": [
    "# Meeting/Lecture 9 - Oct 2\n",
    "\n",
    "\n",
    "## Office Hours\n",
    "\n",
    "## Office Hours\n",
    "   - Josh (Mon 12-1), Aaron  (Fri 12-1pm) (355 Campbell)\n",
    "   - Peter (Tue 1-2pm; 355), \n",
    "   - Saahit: Wed 5-6pm (355) and Thu 4-5pm (233)\n",
    "   - by appt\n",
    "   - Communications on Ed Discussion\n",
    "\n",
    "## Agenda\n",
    "\n",
    "* __Lab 1__ report extended until Monday October 7 by midnight via gradescope\n",
    " - The final submission for Lab 1 will be a report write up\n",
    "* Introduction (this notebook, *00_Introduction*)\n",
    "* Work time\n",
    " \n",
    "\n",
    "## Getting these notebooks \n",
    "```bash\n",
    "git clone https://github.com/ucb-datalab/course_materials_fall2024.git\n",
    "cd course_materials_fall2024\n",
    "jupyter notebook\n",
    "```"
   ]
  },
  {
   "cell_type": "code",
   "execution_count": null,
   "metadata": {},
   "outputs": [],
   "source": []
  }
 ],
 "metadata": {
  "kernelspec": {
   "display_name": "Python 3 (ipykernel)",
   "language": "python",
   "name": "python3"
  },
  "language_info": {
   "codemirror_mode": {
    "name": "ipython",
    "version": 3
   },
   "file_extension": ".py",
   "mimetype": "text/x-python",
   "name": "python",
   "nbconvert_exporter": "python",
   "pygments_lexer": "ipython3",
   "version": "3.10.12"
  }
 },
 "nbformat": 4,
 "nbformat_minor": 4
}

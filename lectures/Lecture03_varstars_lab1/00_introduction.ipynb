{
 "cells": [
  {
   "cell_type": "markdown",
   "id": "9829c9df-1e90-42ae-80ed-f209dda9d731",
   "metadata": {},
   "source": [
    "# Lecture 3: Variable Stars & Lab 1\n",
    "\n",
    "### Sept 11, 2024"
   ]
  },
  {
   "cell_type": "markdown",
   "id": "9963d083-eb60-4e5d-bcd9-afa0fd8c3229",
   "metadata": {},
   "source": [
    "# Outline for Today\n",
    "\n",
    "- Lab1 logistics\n",
    "- Overview of Lab 1\n",
    "- Variable stars in detail (*01_varible_stars*)\n",
    "- Introduction to LaTeX and Overleaf"
   ]
  },
  {
   "cell_type": "markdown",
   "id": "8f18c852-8554-4582-bd3d-c2a791fcbfbc",
   "metadata": {},
   "source": [
    "# Lab 1 Assignment\n",
    "\n",
    "  - PDF of the Lab is on [GitHub](https://github.com/ucb-datalab/course_materials_fall2024/blob/main/labs/AY128_256_Lab1_rrlyrae_dust_fall2024.pdf).\n",
    "\n",
    "  - **Assigned**: Monday, September 9, 2024 \n",
    " \n",
    "  - **Checkpoints**: Monday, September 16, 2024; **Wednesday, September 25, 2024** (note change); September 30, 2024 \n",
    "\n",
    "  - Final Write Up Due}: Friday, October 4, 2024 \n"
   ]
  },
  {
   "cell_type": "markdown",
   "id": "b6da2e32-db5b-4b74-ad30-aa585fac8cfb",
   "metadata": {},
   "source": [
    "# Overview of Lab 1\n",
    "\n",
    "Your goal is to make a map of dust in the Milky Way using data from Gaia.\n",
    "\n",
    "This is an example of a Gaia-based dust map of the Milk Way:\n",
    "\n",
    "<img src=\"https://www.esa.int/var/esa/storage/images/esa_multimedia/images/2022/06/gaia_map_of_interstellar_dust_in_the_milky_way/24305612-1-eng-GB/Gaia_map_of_interstellar_dust_in_the_Milky_Way_pillars.png\"></img>\n",
    "\n",
    "\n",
    "## How are we doing to do this?\n",
    "\n",
    "Interstellar dust absorbs light from distant stars and makes them appear dimmer than they really are.\n",
    "\n",
    "\n",
    "<img src=\"https://pressbooks.online.ucf.edu/app/uploads/sites/40/2018/12/OSC_Astro_20_03_Light-1.jpg\"/></img>\n",
    "\n",
    "\n",
    "* If you know how luminous a star is supposed to be and you can measure it's brigtness, then you can infer how much dust is along the line of sight to the star.\n",
    "* This is where RR Lyrae come enter.  RR Lyrae are very old, low-mass stars that are more-or-less distributed throughout the entire Milky Way.  \n",
    " - They are known to have a very predictable relationship between their period and luminosity.  \n",
    " - If you meaure their periods (from time series data) you can infer their luminosity\n",
    " - A direct observation of the RR Lyrae gives you their flux\n",
    " - By comparing the fluxes and luminosities for many RR Lyrae in the Milky Way, you can infer how much dust is between us and them.\n",
    " - You can combine all these dust measurements to make a map of dust in the Milky Way."
   ]
  },
  {
   "cell_type": "code",
   "execution_count": null,
   "id": "f1c34ba3-b987-4003-aa64-4aa3d347f645",
   "metadata": {},
   "outputs": [],
   "source": []
  }
 ],
 "metadata": {
  "kernelspec": {
   "display_name": "astrods",
   "language": "python",
   "name": "astrods"
  },
  "language_info": {
   "codemirror_mode": {
    "name": "ipython",
    "version": 3
   },
   "file_extension": ".py",
   "mimetype": "text/x-python",
   "name": "python",
   "nbconvert_exporter": "python",
   "pygments_lexer": "ipython3",
   "version": "3.11.9"
  }
 },
 "nbformat": 4,
 "nbformat_minor": 5
}

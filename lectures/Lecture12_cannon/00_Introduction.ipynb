{
 "cells": [
  {
   "cell_type": "markdown",
   "metadata": {},
   "source": [
    "# Meeting/Lecture 12 - October 14\n",
    "\n",
    "## Office Hours\n",
    "   - Josh (Mon 12-1, 355 Campbell), Aaron  (Fri 12-1pm, 425 Campbell)\n",
    "   - Peter (Tue 1-2pm; 355), \n",
    "   - Saahit: Wed 5-6pm (355) and Thu 4-5pm (233)\n",
    "   - by appt\n",
    "   - Communications on Ed Discussion\n",
    "\n",
    "## Agenda\n",
    "\n",
    "* Introduction (this notebook, *00_Introduction*)\n",
    "* \"The Cannon\", linear and quadratic models, walkthrough of Ness et al. 2015 (*01_The_Cannon*)\n",
    "* Work/question time\n",
    "\n",
    "## Lab 2\n",
    "* Checkpoint 1 due this Weds (10/16) by 11:59pm\n",
    "* Checkpoint 2 due next Weds (10/23)\n",
    "* Checkpoint 3 due Weds (10/30)\n",
    "* Lab report due Friday 11/1\n",
    " \n",
    "## Getting these notebooks \n",
    "```bash\n",
    "git clone https://github.com/ucb-datalab/course_materials_fall2024.git\n",
    "cd course_materials_fall2024\n",
    "jupyter notebook\n",
    "```"
   ]
  }
 ],
 "metadata": {
  "kernelspec": {
   "display_name": "Python 3 (ipykernel)",
   "language": "python",
   "name": "python3"
  },
  "language_info": {
   "codemirror_mode": {
    "name": "ipython",
    "version": 3
   },
   "file_extension": ".py",
   "mimetype": "text/x-python",
   "name": "python",
   "nbconvert_exporter": "python",
   "pygments_lexer": "ipython3",
   "version": "3.11.9"
  }
 },
 "nbformat": 4,
 "nbformat_minor": 4
}

{
 "cells": [
  {
   "cell_type": "code",
   "execution_count": null,
   "id": "59b69034-48ae-4d3d-b60e-16c6bad3e3d7",
   "metadata": {},
   "outputs": [],
   "source": [
    "import numpy as np\n",
    "import matplotlib.pyplot as plt\n",
    "from scipy.constants import c as C, h, k as k_B\n",
    "\n",
    "%matplotlib widget"
   ]
  },
  {
   "cell_type": "code",
   "execution_count": null,
   "id": "687f6b7e-32dd-463a-8f5e-8ff5b40cbf63",
   "metadata": {},
   "outputs": [],
   "source": [
    "# 15150-15800A, 15890-16430A, 16490-16950A\n",
    "wavelens = np.linspace(15000, 17000, 2001)\n",
    "\n",
    "chip1 = (wavelens > 15150) & (wavelens < 15800)\n",
    "chip2 = (wavelens > 15890) & (wavelens < 16430)\n",
    "chip3 = (wavelens > 16490) & (wavelens < 16950)\n",
    "off_chip = ~(chip1 | chip2 | chip3)\n",
    "\n",
    "ANGSTROM = 1e-10\n",
    "wavelens *= ANGSTROM\n",
    "\n",
    "N_LINES = 200\n",
    "line_centers = np.random.uniform(wavelens[0], wavelens[-1], size=N_LINES)\n",
    "taus = np.random.uniform(0, 3, size=N_LINES)\n",
    "\n",
    "def planck(T, wavelens):\n",
    "    return 2 * h * C**2 / wavelens**5 / (np.exp(h * C / (wavelens * k_B * T)) - 1)\n",
    "\n",
    "star_spec = planck(6000, wavelens)\n",
    "line_width = 1.5 * ANGSTROM\n",
    "tau_lines = taus[:, None] * (wavelens[None, :] - line_centers[:, None])**2 / (2 * line_width**2)\n",
    "abs_lines = np.product(1 - np.exp(-tau_lines), axis=0)\n",
    "gain = 1e-13 * (1 + 0.1 * np.cos(2 * np.pi * wavelens / (1000 * ANGSTROM)))\n",
    "noise = np.random.normal(size=wavelens.size) * 1e-6\n",
    "meas_spec = -2.5 * np.log10(gain * (star_spec * abs_lines) + noise)\n",
    "                        \n",
    "meas_spec[off_chip] = 10\n",
    "plt.figure()\n",
    "plt.plot(wavelens / ANGSTROM, meas_spec)\n",
    "plt.ylim(5, -1)"
   ]
  },
  {
   "cell_type": "code",
   "execution_count": null,
   "id": "213a924f-2609-4fd1-b04b-b0839ca63649",
   "metadata": {},
   "outputs": [],
   "source": [
    "def px0(a, b):\n",
    "    return 0.1 + 0.05 * a - 0.05 * b\n",
    "\n",
    "def px1(a, b):\n",
    "    return -0.5 - 0.1 * a - 0.11 * b\n",
    "\n",
    "def px2(a, b):\n",
    "    return 0.9 * (a - 2)**2 - 0.3 * (b - 6)**2\n",
    "\n",
    "a0, b0 = 2, 6\n",
    "mini_spec = np.array([px0(a0, b0), px1(a0, b0), px2(a0, b0)])\n",
    "\n",
    "plt.figure()\n",
    "_ = plt.plot(mini_spec)"
   ]
  },
  {
   "cell_type": "code",
   "execution_count": null,
   "id": "1d5ca85d-b2a0-4231-a723-8d71ebfb66df",
   "metadata": {},
   "outputs": [],
   "source": [
    "a, b = np.linspace(1, 3, 10), np.linspace(5, 10, 20)\n",
    "a, b = np.meshgrid(a, b)\n",
    "mini_spec = np.array([px0(a, b), px1(a, b), px2(a, b)])\n",
    "\n",
    "plt.figure()\n",
    "_ = plt.plot(mini_spec.reshape(3, -1), '.')"
   ]
  },
  {
   "cell_type": "code",
   "execution_count": null,
   "id": "0fa107aa-0313-4aca-bd5e-0591fc69b4eb",
   "metadata": {},
   "outputs": [],
   "source": [
    "fig, axes = plt.subplots(subplot_kw={'projection':'3d'})\n",
    "surf = axes.plot_surface(a, b, mini_spec[2], rstride=1, cstride=1, cmap='seismic',\n",
    "                       linewidth=0, antialiased=False)"
   ]
  },
  {
   "cell_type": "code",
   "execution_count": null,
   "id": "59578de6-8cbc-4074-9cbe-7a3e15eaec9a",
   "metadata": {},
   "outputs": [],
   "source": []
  }
 ],
 "metadata": {
  "kernelspec": {
   "display_name": "Python 3 (ipykernel)",
   "language": "python",
   "name": "python3"
  },
  "language_info": {
   "codemirror_mode": {
    "name": "ipython",
    "version": 3
   },
   "file_extension": ".py",
   "mimetype": "text/x-python",
   "name": "python",
   "nbconvert_exporter": "python",
   "pygments_lexer": "ipython3",
   "version": "3.11.9"
  }
 },
 "nbformat": 4,
 "nbformat_minor": 5
}
